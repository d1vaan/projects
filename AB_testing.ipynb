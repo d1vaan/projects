{
 "cells": [
  {
   "cell_type": "markdown",
   "metadata": {},
   "source": [
    "# Проведение A/B тестирования"
   ]
  },
  {
   "cell_type": "markdown",
   "metadata": {},
   "source": [
    "Мы — аналитик крупного интернет-магазина. Вместе с отделом маркетинга мы подготовили список гипотез для увеличения выручки.\n",
    "Приоритизируем гипотезы, запустим A/B-тест и проанализируем результаты.\n",
    "\n",
    "Нам предстоит проанализировать результаты результаты теста и вынести решение: \n",
    "1. Остановить тест, зафиксировать победу одной из групп. \n",
    "2. Остановить тест, зафиксировать отсутствие различий между группами. \n",
    "3. Продолжить тест.\n",
    "\n",
    "Анализ будет проводиться в несколько этапов:\n",
    "1. Приоретизаций сформулированных гипотез\n",
    "2. Проверка корректности полученных данных\n",
    "3. Визуализация кумулятивных данных\n",
    "4. Обрабтка данных и их чистка от выбросов и аномалий\n",
    "5. Статистический анализ сырых и очищенных данных\n",
    "6. Вывод"
   ]
  },
  {
   "cell_type": "markdown",
   "metadata": {},
   "source": [
    "## Приоретизация гепотез"
   ]
  },
  {
   "cell_type": "code",
   "execution_count": 1,
   "metadata": {},
   "outputs": [],
   "source": [
    "# импортируем необходимые для работы библиотеки\n",
    "\n",
    "import pandas as pd\n",
    "import datetime as dt\n",
    "import numpy as np\n",
    "import matplotlib.pyplot as plt\n",
    "import scipy.stats as stats\n",
    "from pandas.plotting import register_matplotlib_converters\n",
    "import warnings\n",
    "# конвертеры, которые позволяют использовать типы pandas в matplotlib  \n",
    "register_matplotlib_converters()"
   ]
  },
  {
   "cell_type": "code",
   "execution_count": 2,
   "metadata": {},
   "outputs": [
    {
     "data": {
      "text/html": [
       "<div>\n",
       "<style scoped>\n",
       "    .dataframe tbody tr th:only-of-type {\n",
       "        vertical-align: middle;\n",
       "    }\n",
       "\n",
       "    .dataframe tbody tr th {\n",
       "        vertical-align: top;\n",
       "    }\n",
       "\n",
       "    .dataframe thead th {\n",
       "        text-align: right;\n",
       "    }\n",
       "</style>\n",
       "<table border=\"1\" class=\"dataframe\">\n",
       "  <thead>\n",
       "    <tr style=\"text-align: right;\">\n",
       "      <th></th>\n",
       "      <th>Hypothesis</th>\n",
       "      <th>Reach</th>\n",
       "      <th>Impact</th>\n",
       "      <th>Confidence</th>\n",
       "      <th>Efforts</th>\n",
       "    </tr>\n",
       "  </thead>\n",
       "  <tbody>\n",
       "    <tr>\n",
       "      <th>0</th>\n",
       "      <td>Добавить два новых канала привлечения трафика, что позволит привлекать на 30% больше пользователей</td>\n",
       "      <td>3</td>\n",
       "      <td>10</td>\n",
       "      <td>8</td>\n",
       "      <td>6</td>\n",
       "    </tr>\n",
       "    <tr>\n",
       "      <th>1</th>\n",
       "      <td>Запустить собственную службу доставки, что сократит срок доставки заказов</td>\n",
       "      <td>2</td>\n",
       "      <td>5</td>\n",
       "      <td>4</td>\n",
       "      <td>10</td>\n",
       "    </tr>\n",
       "    <tr>\n",
       "      <th>2</th>\n",
       "      <td>Добавить блоки рекомендаций товаров на сайт интернет магазина, чтобы повысить конверсию и средний чек заказа</td>\n",
       "      <td>8</td>\n",
       "      <td>3</td>\n",
       "      <td>7</td>\n",
       "      <td>3</td>\n",
       "    </tr>\n",
       "    <tr>\n",
       "      <th>3</th>\n",
       "      <td>Изменить структура категорий, что увеличит конверсию, т.к. пользователи быстрее найдут нужный товар</td>\n",
       "      <td>8</td>\n",
       "      <td>3</td>\n",
       "      <td>3</td>\n",
       "      <td>8</td>\n",
       "    </tr>\n",
       "    <tr>\n",
       "      <th>4</th>\n",
       "      <td>Изменить цвет фона главной страницы, чтобы увеличить вовлеченность пользователей</td>\n",
       "      <td>3</td>\n",
       "      <td>1</td>\n",
       "      <td>1</td>\n",
       "      <td>1</td>\n",
       "    </tr>\n",
       "  </tbody>\n",
       "</table>\n",
       "</div>"
      ],
      "text/plain": [
       "                                                                                                     Hypothesis  \\\n",
       "0            Добавить два новых канала привлечения трафика, что позволит привлекать на 30% больше пользователей   \n",
       "1                                     Запустить собственную службу доставки, что сократит срок доставки заказов   \n",
       "2  Добавить блоки рекомендаций товаров на сайт интернет магазина, чтобы повысить конверсию и средний чек заказа   \n",
       "3           Изменить структура категорий, что увеличит конверсию, т.к. пользователи быстрее найдут нужный товар   \n",
       "4                              Изменить цвет фона главной страницы, чтобы увеличить вовлеченность пользователей   \n",
       "\n",
       "   Reach  Impact  Confidence  Efforts  \n",
       "0      3      10           8        6  \n",
       "1      2       5           4       10  \n",
       "2      8       3           7        3  \n",
       "3      8       3           3        8  \n",
       "4      3       1           1        1  "
      ]
     },
     "execution_count": 2,
     "metadata": {},
     "output_type": "execute_result"
    }
   ],
   "source": [
    "# выгрузка с данными о гепотезах\n",
    "\n",
    "hypothesis = pd.read_csv('/datasets/hypothesis.csv')\n",
    "\n",
    "pd.set_option('display.max_colwidth', None)\n",
    "hypothesis.head(5)"
   ]
  },
  {
   "cell_type": "markdown",
   "metadata": {},
   "source": [
    "### ICE фреймворк"
   ]
  },
  {
   "cell_type": "markdown",
   "metadata": {},
   "source": [
    "Рассчитаем и приоретизируем имеющиеся гипотезы по принципу ICE фреймворка."
   ]
  },
  {
   "cell_type": "code",
   "execution_count": 3,
   "metadata": {},
   "outputs": [],
   "source": [
    "hypothesis['ICE'] = (hypothesis['Confidence'] * hypothesis['Impact']) / hypothesis['Efforts']"
   ]
  },
  {
   "cell_type": "code",
   "execution_count": 4,
   "metadata": {},
   "outputs": [
    {
     "name": "stdout",
     "output_type": "stream",
     "text": [
      "                                                                                                     Hypothesis  \\\n",
      "8                                                       Запустить акцию, дающую скидку на товар в день рождения   \n",
      "0            Добавить два новых канала привлечения трафика, что позволит привлекать на 30% больше пользователей   \n",
      "7              Добавить форму подписки на все основные страницы, чтобы собрать базу клиентов для email-рассылок   \n",
      "6          Показать на главной странице баннеры с актуальными акциями и распродажами, чтобы увеличить конверсию   \n",
      "2  Добавить блоки рекомендаций товаров на сайт интернет магазина, чтобы повысить конверсию и средний чек заказа   \n",
      "1                                     Запустить собственную службу доставки, что сократит срок доставки заказов   \n",
      "5                      Добавить страницу отзывов клиентов о магазине, что позволит увеличить количество заказов   \n",
      "3           Изменить структура категорий, что увеличит конверсию, т.к. пользователи быстрее найдут нужный товар   \n",
      "4                              Изменить цвет фона главной страницы, чтобы увеличить вовлеченность пользователей   \n",
      "\n",
      "         ICE  \n",
      "8  16.200000  \n",
      "0  13.333333  \n",
      "7  11.200000  \n",
      "6   8.000000  \n",
      "2   7.000000  \n",
      "1   2.000000  \n",
      "5   1.333333  \n",
      "3   1.125000  \n",
      "4   1.000000  \n"
     ]
    }
   ],
   "source": [
    "pd.set_option('display.max_colwidth', None)\n",
    "print(hypothesis[['Hypothesis', 'ICE']].sort_values(by='ICE', ascending=False))"
   ]
  },
  {
   "cell_type": "markdown",
   "metadata": {},
   "source": [
    "### RICE фреймворк"
   ]
  },
  {
   "cell_type": "markdown",
   "metadata": {},
   "source": [
    "Так же приоретизируем гипотезы, только уже по фреймворку RICE."
   ]
  },
  {
   "cell_type": "code",
   "execution_count": 5,
   "metadata": {},
   "outputs": [],
   "source": [
    "hypothesis['RICE'] = (hypothesis['Reach'] * hypothesis['Impact'] * hypothesis['Confidence']) / hypothesis['Efforts']"
   ]
  },
  {
   "cell_type": "code",
   "execution_count": 6,
   "metadata": {},
   "outputs": [
    {
     "name": "stdout",
     "output_type": "stream",
     "text": [
      "                                                                                                     Hypothesis  \\\n",
      "7              Добавить форму подписки на все основные страницы, чтобы собрать базу клиентов для email-рассылок   \n",
      "2  Добавить блоки рекомендаций товаров на сайт интернет магазина, чтобы повысить конверсию и средний чек заказа   \n",
      "0            Добавить два новых канала привлечения трафика, что позволит привлекать на 30% больше пользователей   \n",
      "6          Показать на главной странице баннеры с актуальными акциями и распродажами, чтобы увеличить конверсию   \n",
      "8                                                       Запустить акцию, дающую скидку на товар в день рождения   \n",
      "3           Изменить структура категорий, что увеличит конверсию, т.к. пользователи быстрее найдут нужный товар   \n",
      "1                                     Запустить собственную службу доставки, что сократит срок доставки заказов   \n",
      "5                      Добавить страницу отзывов клиентов о магазине, что позволит увеличить количество заказов   \n",
      "4                              Изменить цвет фона главной страницы, чтобы увеличить вовлеченность пользователей   \n",
      "\n",
      "    RICE  \n",
      "7  112.0  \n",
      "2   56.0  \n",
      "0   40.0  \n",
      "6   40.0  \n",
      "8   16.2  \n",
      "3    9.0  \n",
      "1    4.0  \n",
      "5    4.0  \n",
      "4    3.0  \n"
     ]
    }
   ],
   "source": [
    "print(hypothesis[['Hypothesis', 'RICE']].sort_values(by='RICE', ascending=False))"
   ]
  },
  {
   "cell_type": "markdown",
   "metadata": {},
   "source": [
    "### Вывод"
   ]
  },
  {
   "cell_type": "markdown",
   "metadata": {},
   "source": [
    "Как можем заметить, при учете охвата пользователей, мы получаем совершенно иной топ гипотез. Учитывая силу гипотезы, а так же её охват, стоит взять на анализ добавление подписки на всех основные страницы."
   ]
  },
  {
   "cell_type": "markdown",
   "metadata": {},
   "source": [
    "## Анализ A/B-теста"
   ]
  },
  {
   "cell_type": "code",
   "execution_count": 7,
   "metadata": {},
   "outputs": [],
   "source": [
    "# импорт с данными о A/B-тесте\n",
    "\n",
    "visitors = pd.read_csv('/datasets/visitors.csv', parse_dates=['date']) \n",
    "orders = pd.read_csv('/datasets/orders.csv', parse_dates=['date'])"
   ]
  },
  {
   "cell_type": "code",
   "execution_count": 8,
   "metadata": {},
   "outputs": [
    {
     "data": {
      "text/html": [
       "<div>\n",
       "<style scoped>\n",
       "    .dataframe tbody tr th:only-of-type {\n",
       "        vertical-align: middle;\n",
       "    }\n",
       "\n",
       "    .dataframe tbody tr th {\n",
       "        vertical-align: top;\n",
       "    }\n",
       "\n",
       "    .dataframe thead th {\n",
       "        text-align: right;\n",
       "    }\n",
       "</style>\n",
       "<table border=\"1\" class=\"dataframe\">\n",
       "  <thead>\n",
       "    <tr style=\"text-align: right;\">\n",
       "      <th></th>\n",
       "      <th>date</th>\n",
       "      <th>group</th>\n",
       "      <th>visitors</th>\n",
       "    </tr>\n",
       "  </thead>\n",
       "  <tbody>\n",
       "    <tr>\n",
       "      <th>0</th>\n",
       "      <td>2019-08-01</td>\n",
       "      <td>A</td>\n",
       "      <td>719</td>\n",
       "    </tr>\n",
       "    <tr>\n",
       "      <th>1</th>\n",
       "      <td>2019-08-02</td>\n",
       "      <td>A</td>\n",
       "      <td>619</td>\n",
       "    </tr>\n",
       "    <tr>\n",
       "      <th>2</th>\n",
       "      <td>2019-08-03</td>\n",
       "      <td>A</td>\n",
       "      <td>507</td>\n",
       "    </tr>\n",
       "    <tr>\n",
       "      <th>3</th>\n",
       "      <td>2019-08-04</td>\n",
       "      <td>A</td>\n",
       "      <td>717</td>\n",
       "    </tr>\n",
       "    <tr>\n",
       "      <th>4</th>\n",
       "      <td>2019-08-05</td>\n",
       "      <td>A</td>\n",
       "      <td>756</td>\n",
       "    </tr>\n",
       "    <tr>\n",
       "      <th>5</th>\n",
       "      <td>2019-08-06</td>\n",
       "      <td>A</td>\n",
       "      <td>667</td>\n",
       "    </tr>\n",
       "    <tr>\n",
       "      <th>6</th>\n",
       "      <td>2019-08-07</td>\n",
       "      <td>A</td>\n",
       "      <td>644</td>\n",
       "    </tr>\n",
       "    <tr>\n",
       "      <th>7</th>\n",
       "      <td>2019-08-08</td>\n",
       "      <td>A</td>\n",
       "      <td>610</td>\n",
       "    </tr>\n",
       "    <tr>\n",
       "      <th>8</th>\n",
       "      <td>2019-08-09</td>\n",
       "      <td>A</td>\n",
       "      <td>617</td>\n",
       "    </tr>\n",
       "    <tr>\n",
       "      <th>9</th>\n",
       "      <td>2019-08-10</td>\n",
       "      <td>A</td>\n",
       "      <td>406</td>\n",
       "    </tr>\n",
       "  </tbody>\n",
       "</table>\n",
       "</div>"
      ],
      "text/plain": [
       "        date group  visitors\n",
       "0 2019-08-01     A       719\n",
       "1 2019-08-02     A       619\n",
       "2 2019-08-03     A       507\n",
       "3 2019-08-04     A       717\n",
       "4 2019-08-05     A       756\n",
       "5 2019-08-06     A       667\n",
       "6 2019-08-07     A       644\n",
       "7 2019-08-08     A       610\n",
       "8 2019-08-09     A       617\n",
       "9 2019-08-10     A       406"
      ]
     },
     "execution_count": 8,
     "metadata": {},
     "output_type": "execute_result"
    }
   ],
   "source": [
    "visitors.head(10)"
   ]
  },
  {
   "cell_type": "code",
   "execution_count": 9,
   "metadata": {},
   "outputs": [
    {
     "data": {
      "text/html": [
       "<div>\n",
       "<style scoped>\n",
       "    .dataframe tbody tr th:only-of-type {\n",
       "        vertical-align: middle;\n",
       "    }\n",
       "\n",
       "    .dataframe tbody tr th {\n",
       "        vertical-align: top;\n",
       "    }\n",
       "\n",
       "    .dataframe thead th {\n",
       "        text-align: right;\n",
       "    }\n",
       "</style>\n",
       "<table border=\"1\" class=\"dataframe\">\n",
       "  <thead>\n",
       "    <tr style=\"text-align: right;\">\n",
       "      <th></th>\n",
       "      <th>transactionId</th>\n",
       "      <th>visitorId</th>\n",
       "      <th>date</th>\n",
       "      <th>revenue</th>\n",
       "      <th>group</th>\n",
       "    </tr>\n",
       "  </thead>\n",
       "  <tbody>\n",
       "    <tr>\n",
       "      <th>0</th>\n",
       "      <td>3667963787</td>\n",
       "      <td>3312258926</td>\n",
       "      <td>2019-08-15</td>\n",
       "      <td>1650</td>\n",
       "      <td>B</td>\n",
       "    </tr>\n",
       "    <tr>\n",
       "      <th>1</th>\n",
       "      <td>2804400009</td>\n",
       "      <td>3642806036</td>\n",
       "      <td>2019-08-15</td>\n",
       "      <td>730</td>\n",
       "      <td>B</td>\n",
       "    </tr>\n",
       "    <tr>\n",
       "      <th>2</th>\n",
       "      <td>2961555356</td>\n",
       "      <td>4069496402</td>\n",
       "      <td>2019-08-15</td>\n",
       "      <td>400</td>\n",
       "      <td>A</td>\n",
       "    </tr>\n",
       "    <tr>\n",
       "      <th>3</th>\n",
       "      <td>3797467345</td>\n",
       "      <td>1196621759</td>\n",
       "      <td>2019-08-15</td>\n",
       "      <td>9759</td>\n",
       "      <td>B</td>\n",
       "    </tr>\n",
       "    <tr>\n",
       "      <th>4</th>\n",
       "      <td>2282983706</td>\n",
       "      <td>2322279887</td>\n",
       "      <td>2019-08-15</td>\n",
       "      <td>2308</td>\n",
       "      <td>B</td>\n",
       "    </tr>\n",
       "    <tr>\n",
       "      <th>5</th>\n",
       "      <td>182168103</td>\n",
       "      <td>935554773</td>\n",
       "      <td>2019-08-15</td>\n",
       "      <td>2210</td>\n",
       "      <td>B</td>\n",
       "    </tr>\n",
       "    <tr>\n",
       "      <th>6</th>\n",
       "      <td>398296753</td>\n",
       "      <td>2900797465</td>\n",
       "      <td>2019-08-15</td>\n",
       "      <td>1860</td>\n",
       "      <td>B</td>\n",
       "    </tr>\n",
       "    <tr>\n",
       "      <th>7</th>\n",
       "      <td>2626614568</td>\n",
       "      <td>78758296</td>\n",
       "      <td>2019-08-15</td>\n",
       "      <td>1044</td>\n",
       "      <td>A</td>\n",
       "    </tr>\n",
       "    <tr>\n",
       "      <th>8</th>\n",
       "      <td>1576988021</td>\n",
       "      <td>295230930</td>\n",
       "      <td>2019-08-15</td>\n",
       "      <td>13710</td>\n",
       "      <td>A</td>\n",
       "    </tr>\n",
       "    <tr>\n",
       "      <th>9</th>\n",
       "      <td>1506739906</td>\n",
       "      <td>1882260405</td>\n",
       "      <td>2019-08-15</td>\n",
       "      <td>1855</td>\n",
       "      <td>B</td>\n",
       "    </tr>\n",
       "  </tbody>\n",
       "</table>\n",
       "</div>"
      ],
      "text/plain": [
       "   transactionId   visitorId       date  revenue group\n",
       "0     3667963787  3312258926 2019-08-15     1650     B\n",
       "1     2804400009  3642806036 2019-08-15      730     B\n",
       "2     2961555356  4069496402 2019-08-15      400     A\n",
       "3     3797467345  1196621759 2019-08-15     9759     B\n",
       "4     2282983706  2322279887 2019-08-15     2308     B\n",
       "5      182168103   935554773 2019-08-15     2210     B\n",
       "6      398296753  2900797465 2019-08-15     1860     B\n",
       "7     2626614568    78758296 2019-08-15     1044     A\n",
       "8     1576988021   295230930 2019-08-15    13710     A\n",
       "9     1506739906  1882260405 2019-08-15     1855     B"
      ]
     },
     "execution_count": 9,
     "metadata": {},
     "output_type": "execute_result"
    }
   ],
   "source": [
    "orders.head(10)"
   ]
  },
  {
   "cell_type": "code",
   "execution_count": 10,
   "metadata": {},
   "outputs": [
    {
     "data": {
      "text/plain": [
       "array(['A', 'B'], dtype=object)"
      ]
     },
     "execution_count": 10,
     "metadata": {},
     "output_type": "execute_result"
    }
   ],
   "source": [
    "# посмотрим, сколько всего групп у нас в тесте\n",
    "\n",
    "visitors['group'].unique()"
   ]
  },
  {
   "cell_type": "code",
   "execution_count": 11,
   "metadata": {},
   "outputs": [
    {
     "name": "stdout",
     "output_type": "stream",
     "text": [
      "2019-08-01 00:00:00\n",
      "2019-08-31 00:00:00\n"
     ]
    }
   ],
   "source": [
    "# посмотрим даты проведения теста\n",
    "\n",
    "print(visitors['date'].min())\n",
    "print(visitors['date'].max())"
   ]
  },
  {
   "cell_type": "code",
   "execution_count": 12,
   "metadata": {},
   "outputs": [
    {
     "name": "stdout",
     "output_type": "stream",
     "text": [
      "group\n",
      "A    557\n",
      "B    640\n",
      "Name: visitorId, dtype: int64\n"
     ]
    }
   ],
   "source": [
    "# считаем количество пользователей в каждой группе\n",
    "\n",
    "print(orders.groupby('group')['visitorId'].count())"
   ]
  },
  {
   "cell_type": "code",
   "execution_count": 13,
   "metadata": {},
   "outputs": [
    {
     "name": "stdout",
     "output_type": "stream",
     "text": [
      "group\n",
      "A    18736\n",
      "B    18916\n",
      "Name: visitors, dtype: int64\n"
     ]
    }
   ],
   "source": [
    "# считаем количество посещений в каждой группе\n",
    "\n",
    "print(visitors.groupby('group')['visitors'].sum())"
   ]
  },
  {
   "cell_type": "markdown",
   "metadata": {},
   "source": [
    "Из выше полученных данных можно сделать вывод, что тест имеет 2 тестовые группы и проводился в течении всего августа 2018 года. Количество посещений в каждой группе относительно равно, однако в В группе примерно на 100 пользователей больше, чем в группе А. Можно предположить это лучшей работой с группой В или лучшей конверсией. Разница не так значительна.\n",
    "\n",
    "Проверим данные на дубликаты и обработаем их."
   ]
  },
  {
   "cell_type": "code",
   "execution_count": 14,
   "metadata": {},
   "outputs": [
    {
     "name": "stdout",
     "output_type": "stream",
     "text": [
      "0\n",
      "0\n"
     ]
    }
   ],
   "source": [
    "print(visitors.duplicated().sum())\n",
    "\n",
    "print(orders.duplicated().sum())"
   ]
  },
  {
   "cell_type": "markdown",
   "metadata": {},
   "source": [
    "Дубликаты в данных отсутствуют.\n",
    "\n",
    "Проверим данные, посмотрим, имеются ли пользователи, которые находятся в обеих тестовых группах."
   ]
  },
  {
   "cell_type": "code",
   "execution_count": 15,
   "metadata": {},
   "outputs": [
    {
     "data": {
      "text/plain": [
       "64"
      ]
     },
     "execution_count": 15,
     "metadata": {},
     "output_type": "execute_result"
    }
   ],
   "source": [
    "# сгруппируем данные по ID посетителей и выведем кол-вом групп, \n",
    "# в которых они учавствуют. Выведем всех пользователей с 2 группами.\n",
    "\n",
    "dubleVisitors = orders.groupby('visitorId')['group'].count()\n",
    "\n",
    "dubleVisitors = dubleVisitors[dubleVisitors == 2]\n",
    "\n",
    "dubleVisitors.count()"
   ]
  },
  {
   "cell_type": "code",
   "execution_count": 46,
   "metadata": {},
   "outputs": [
    {
     "data": {
      "text/plain": [
       "visitorId\n",
       "4256040402    11\n",
       "2458001652    11\n",
       "2378935119     9\n",
       "2038680547     8\n",
       "199603092      5\n",
       "Name: group, dtype: int64"
      ]
     },
     "execution_count": 46,
     "metadata": {},
     "output_type": "execute_result"
    }
   ],
   "source": [
    "#код ревьюера\n",
    "\n",
    "orders.groupby('visitorId')['group'].count().sort_values(ascending=False).head()"
   ]
  },
  {
   "cell_type": "code",
   "execution_count": 47,
   "metadata": {},
   "outputs": [
    {
     "data": {
      "text/plain": [
       "visitorId\n",
       "2654030115    2\n",
       "3891541246    2\n",
       "3941795274    2\n",
       "1404934699    2\n",
       "351125977     2\n",
       "Name: group, dtype: int64"
      ]
     },
     "execution_count": 47,
     "metadata": {},
     "output_type": "execute_result"
    }
   ],
   "source": [
    "#код ревьюера\n",
    "orders.groupby('visitorId')['group'].nunique().sort_values(ascending=False).head()"
   ]
  },
  {
   "cell_type": "markdown",
   "metadata": {},
   "source": [
    "Такие пользователи имеются. Посчитаем, сколько они составляют от общего кол-ва пользователей."
   ]
  },
  {
   "cell_type": "code",
   "execution_count": 16,
   "metadata": {},
   "outputs": [
    {
     "data": {
      "text/plain": [
       "nunique    0.062076\n",
       "Name: visitorId, dtype: float64"
      ]
     },
     "execution_count": 16,
     "metadata": {},
     "output_type": "execute_result"
    }
   ],
   "source": [
    "dubleVisitors.count() / orders['visitorId'].agg(['nunique'])"
   ]
  },
  {
   "cell_type": "markdown",
   "metadata": {},
   "source": [
    "Как можем заметить, доля таких пользователей 6,2%. Стоит учитывать, что при удалении таких пользователей, мы можем избавиться от значительной части пользователей с большим количеством заказов и повлиять на ход исследования, а так же на результаты поиска аномалий и выбросов.\n",
    "\n",
    "Пользователей не обязательно удалять и стоит оставить."
   ]
  },
  {
   "cell_type": "markdown",
   "metadata": {},
   "source": [
    "### Исследование кумулятивных данных"
   ]
  },
  {
   "cell_type": "markdown",
   "metadata": {},
   "source": [
    "#### График кумулятивной выручки"
   ]
  },
  {
   "cell_type": "code",
   "execution_count": 17,
   "metadata": {},
   "outputs": [],
   "source": [
    "# создаем массив уникальных пар значений дат и групп теста\n",
    "datesGroups = orders[['date','group']].drop_duplicates()"
   ]
  },
  {
   "cell_type": "code",
   "execution_count": 18,
   "metadata": {},
   "outputs": [],
   "source": [
    "# создаём таблицу с агреггированными комулятивными данные о заказах по дням\n",
    "ordersAggregated = datesGroups.apply(\n",
    "    lambda x: orders[\n",
    "        np.logical_and(\n",
    "            orders['date'] <= x['date'], orders['group'] == x['group']\n",
    "        )\n",
    "    ].agg(\n",
    "        {\n",
    "            'date': 'max',\n",
    "            'group': 'max',\n",
    "            'transactionId': 'nunique',\n",
    "            'visitorId': 'nunique',\n",
    "            'revenue': 'sum',\n",
    "        }\n",
    "    ),\n",
    "    axis=1,\n",
    ").sort_values(by=['date', 'group'])\n",
    "\n",
    "# создаём таблицу с агреггированными комулятивными данные о посетителях интернет-магазина\n",
    "visitorsAggregated = datesGroups.apply(\n",
    "    lambda x: visitors[\n",
    "        np.logical_and(\n",
    "            visitors['date'] <= x['date'], visitors['group'] == x['group']\n",
    "        )\n",
    "    ].agg(\n",
    "        {\n",
    "            'date': 'max', \n",
    "            'group': 'max', \n",
    "            'visitors': 'sum'\n",
    "        }\n",
    "    ),\n",
    "    axis=1,\n",
    ").sort_values(by=['date', 'group'])"
   ]
  },
  {
   "cell_type": "code",
   "execution_count": 19,
   "metadata": {},
   "outputs": [],
   "source": [
    "# объединяем комулятивные данные\n",
    "\n",
    "cumulativeData = ordersAggregated.merge(\n",
    "    visitorsAggregated, \n",
    "    left_on=['date', 'group'], \n",
    "    right_on=['date', 'group']\n",
    ")"
   ]
  },
  {
   "cell_type": "code",
   "execution_count": 20,
   "metadata": {},
   "outputs": [],
   "source": [
    "# переименовываем столбцы таблицы 'cumulativeData'\n",
    "\n",
    "cumulativeData.columns = [\n",
    "    'date', \n",
    "    'group', \n",
    "    'orders', \n",
    "    'buyers', \n",
    "    'revenue', \n",
    "    'visitors'\n",
    "]"
   ]
  },
  {
   "cell_type": "code",
   "execution_count": 21,
   "metadata": {},
   "outputs": [],
   "source": [
    "# таблица с кумулятивным количеством заказов и кумулятивной выручкой по дням в группе А\n",
    "cumulativeRevenueA = cumulativeData[cumulativeData['group']=='A'][['date','revenue', 'orders']]\n",
    "\n",
    "# таблица с кумулятивным количеством заказов и кумулятивной выручкой по дням в группе B\n",
    "cumulativeRevenueB = cumulativeData[cumulativeData['group']=='B'][['date','revenue', 'orders']]"
   ]
  },
  {
   "cell_type": "code",
   "execution_count": 22,
   "metadata": {},
   "outputs": [
    {
     "data": {
      "text/plain": [
       "<matplotlib.legend.Legend at 0x7f87e8bd5520>"
      ]
     },
     "execution_count": 22,
     "metadata": {},
     "output_type": "execute_result"
    },
    {
     "data": {
      "image/png": "[encoded data removed]",
      "text/plain": [
       "<Figure size 864x432 with 1 Axes>"
      ]
     },
     "metadata": {
      "needs_background": "light"
     },
     "output_type": "display_data"
    }
   ],
   "source": [
    "# задаём параметры графика\n",
    "plt.figure(figsize=(12, 6))\n",
    "plt.xticks(rotation=45)\n",
    "\n",
    "# строим график выручки группы А\n",
    "plt.plot(cumulativeRevenueA['date'], cumulativeRevenueA['revenue'], label='A')\n",
    "\n",
    "# строим график выручки группы B\n",
    "plt.plot(cumulativeRevenueB['date'], cumulativeRevenueB['revenue'], label='B')\n",
    "\n",
    "plt.title('График кумулятивной выручки с разбивкой по группам')\n",
    "plt.xlabel('Дата')\n",
    "plt.ylabel('Кумулятивная выручка\\n (млн.)')\n",
    "plt.legend()"
   ]
  },
  {
   "cell_type": "markdown",
   "metadata": {},
   "source": [
    "Как можем заметить, график относительно стабилизировался, начиная с конца августа. Однако, в период с 17 по 18 августа отслеживается резкий скачок прибыли, что может явно говорить о выбросах в виде анормально дорогих заказах или аномально высоком количестве покупок на пользователя."
   ]
  },
  {
   "cell_type": "markdown",
   "metadata": {},
   "source": [
    "#### График кумулятивного среднего чека по дням"
   ]
  },
  {
   "cell_type": "code",
   "execution_count": 23,
   "metadata": {},
   "outputs": [
    {
     "data": {
      "text/plain": [
       "<matplotlib.legend.Legend at 0x7f87e868f040>"
      ]
     },
     "execution_count": 23,
     "metadata": {},
     "output_type": "execute_result"
    },
    {
     "data": {
      "image/png": "[encoded data removed]",
      "text/plain": [
       "<Figure size 864x432 with 1 Axes>"
      ]
     },
     "metadata": {
      "needs_background": "light"
     },
     "output_type": "display_data"
    }
   ],
   "source": [
    "# задаём параметры графика\n",
    "plt.figure(figsize=(12, 6))\n",
    "plt.xticks(rotation=45)\n",
    "\n",
    "# строим график среднего чека группы A\n",
    "plt.plot(cumulativeRevenueA['date'], cumulativeRevenueA['revenue'] / cumulativeRevenueA['orders'], label = 'A')\n",
    "\n",
    "# строим график среднего чека группы B\n",
    "plt.plot(cumulativeRevenueB['date'], cumulativeRevenueB['revenue'] / cumulativeRevenueB['orders'], label = 'B')\n",
    "\n",
    "plt.title('График кумулятивного среднего чека с разбивкой по группам')\n",
    "plt.xlabel('Дата')\n",
    "plt.ylabel('Кумулятивный средний чек\\n (у.е.)')\n",
    "plt.legend()\n",
    "plt.legend() "
   ]
  },
  {
   "cell_type": "markdown",
   "metadata": {},
   "source": [
    "Как можем заметить, теория об аномально дорогом заказе в группе B подтверждается. 18 августа в группе B средний чек возрос в 2 раз, по сравнению с предыдущим днём."
   ]
  },
  {
   "cell_type": "markdown",
   "metadata": {},
   "source": [
    "#### График относительного изменения среднего чека"
   ]
  },
  {
   "cell_type": "code",
   "execution_count": 24,
   "metadata": {},
   "outputs": [
    {
     "name": "stderr",
     "output_type": "stream",
     "text": [
      "No handles with labels found to put in legend.\n"
     ]
    },
    {
     "data": {
      "text/plain": [
       "<matplotlib.legend.Legend at 0x7f87e8763d60>"
      ]
     },
     "execution_count": 24,
     "metadata": {},
     "output_type": "execute_result"
    },
    {
     "data": {
      "image/png": "[encoded data removed]",
      "text/plain": [
       "<Figure size 864x432 with 1 Axes>"
      ]
     },
     "metadata": {
      "needs_background": "light"
     },
     "output_type": "display_data"
    }
   ],
   "source": [
    "# объеденим таблицы с кумулятивными выручками по группам и построим график\n",
    "\n",
    "mergedCumulativeRevenue = cumulativeRevenueA.merge(\n",
    "    cumulativeRevenueB, \n",
    "    left_on='date', \n",
    "    right_on='date', \n",
    "    how='left', \n",
    "    suffixes=['A', 'B']\n",
    ")\n",
    "\n",
    "# задаём параметры графика\n",
    "plt.figure(figsize=(12, 6))\n",
    "plt.xticks(rotation=45)\n",
    "\n",
    "plt.plot(\n",
    "    mergedCumulativeRevenue['date'], \n",
    "    (\n",
    "        mergedCumulativeRevenue['revenueB']/\n",
    "        mergedCumulativeRevenue['ordersB']\n",
    "    )\n",
    "    /\n",
    "    (\n",
    "        mergedCumulativeRevenue['revenueA']/\n",
    "        mergedCumulativeRevenue['ordersA'])-1\n",
    ")\n",
    "\n",
    "plt.axhline(y=0, color='red', linestyle='--') \n",
    "\n",
    "plt.title('График относительного изменения среднего чека')\n",
    "plt.xlabel('Дата')\n",
    "plt.ylabel('Колебания отношения среднего чека группы В\\n к группе А')\n",
    "plt.legend()"
   ]
  },
  {
   "cell_type": "markdown",
   "metadata": {},
   "source": [
    "Резкие скачки в нескольких датах дают четкое понимание о наличии выбросов. Так же, предварительно можно сказать по \"сырым\" данным, что после стабилизации показателей, группа В показывает бОльший на 30% средний чек, чем группа А."
   ]
  },
  {
   "cell_type": "markdown",
   "metadata": {},
   "source": [
    "#### График кумулятивной конверсии"
   ]
  },
  {
   "cell_type": "code",
   "execution_count": 25,
   "metadata": {},
   "outputs": [],
   "source": [
    "# считаем и добавляем конверсию в датасет общих кумулятивных данных\n",
    "\n",
    "cumulativeData['conversion'] = cumulativeData['orders'] / cumulativeData['visitors']"
   ]
  },
  {
   "cell_type": "code",
   "execution_count": 26,
   "metadata": {},
   "outputs": [],
   "source": [
    "# разделяем данные по тестовым группам\n",
    "\n",
    "cumulativeDataA = cumulativeData[cumulativeData['group'] == 'A']\n",
    "\n",
    "cumulativeDataB = cumulativeData[cumulativeData['group'] == 'B']"
   ]
  },
  {
   "cell_type": "code",
   "execution_count": 27,
   "metadata": {},
   "outputs": [
    {
     "data": {
      "text/plain": [
       "<matplotlib.legend.Legend at 0x7f87e8754ca0>"
      ]
     },
     "execution_count": 27,
     "metadata": {},
     "output_type": "execute_result"
    },
    {
     "data": {
      "image/png": "[encoded data removed]",
      "text/plain": [
       "<Figure size 864x432 with 1 Axes>"
      ]
     },
     "metadata": {
      "needs_background": "light"
     },
     "output_type": "display_data"
    }
   ],
   "source": [
    "# задаём параметры графика\n",
    "plt.figure(figsize=(12, 6))\n",
    "plt.xticks(rotation=45)\n",
    "\n",
    "# строим графики\n",
    "plt.plot(cumulativeDataA['date'], cumulativeDataA['conversion'], label='A')\n",
    "\n",
    "plt.plot(cumulativeDataB['date'], cumulativeDataB['conversion'], label='B')\n",
    "\n",
    "\n",
    "plt.title('График кумулятивной конверсии с разбивкой по группам')\n",
    "plt.xlabel('Дата')\n",
    "plt.ylabel('Кумулятивная конверсия\\n ( в долях от общей посещаемости)')\n",
    "plt.legend()\n",
    "plt.legend()"
   ]
  },
  {
   "cell_type": "markdown",
   "metadata": {},
   "source": [
    "Как можем заметить, в конце месяца конверсии вышли на стабилизацию. Как можем заметить, группа B имеет лучшую относительную конверсию, примерно на 10%."
   ]
  },
  {
   "cell_type": "markdown",
   "metadata": {},
   "source": [
    "#### График относительного изменения конверсии"
   ]
  },
  {
   "cell_type": "code",
   "execution_count": 28,
   "metadata": {},
   "outputs": [],
   "source": [
    "# объединяем таблицы с конверсиями\n",
    "mergedCumulativeConversions = cumulativeDataA[['date','conversion']].merge(cumulativeDataB[['date','conversion']], left_on='date', right_on='date', how='left', suffixes=['A', 'B'])\n"
   ]
  },
  {
   "cell_type": "code",
   "execution_count": 29,
   "metadata": {},
   "outputs": [
    {
     "data": {
      "text/plain": [
       "<matplotlib.lines.Line2D at 0x7f87dce53250>"
      ]
     },
     "execution_count": 29,
     "metadata": {},
     "output_type": "execute_result"
    },
    {
     "data": {
      "image/png": "[encoded data removed]",
      "text/plain": [
       "<Figure size 864x432 with 1 Axes>"
      ]
     },
     "metadata": {
      "needs_background": "light"
     },
     "output_type": "display_data"
    }
   ],
   "source": [
    "# задаём параметры графика\n",
    "plt.figure(figsize=(12, 6))\n",
    "plt.xticks(rotation=45)\n",
    "\n",
    "# строим график\n",
    "plt.plot(\n",
    "    mergedCumulativeConversions['date'], \n",
    "    mergedCumulativeConversions['conversionB'] / \n",
    "    mergedCumulativeConversions['conversionA']-1, \n",
    "    label=\"Относительный прирост конверсии группы B относительно группы A\"\n",
    ")\n",
    "\n",
    "\n",
    "plt.title('График относительного изменения\\n кумулятивных конверсий')\n",
    "plt.xlabel('Дата')\n",
    "plt.ylabel('Колебания отношения конверсии группы В\\n к группе А')\n",
    "plt.legend()\n",
    "plt.legend()\n",
    "\n",
    "plt.axhline(y=0, color='red', linestyle='--')\n",
    "plt.axhline(y=0.1, color='grey', linestyle='--')"
   ]
  },
  {
   "cell_type": "markdown",
   "metadata": {},
   "source": [
    "Как можем заметить по \"сырым\" данным, конверсия группы В имеет устойчивую тенденцию по доминации над группой А в 10%. Посмотрим, как изменится картина, после обработки выбросов и аномалий."
   ]
  },
  {
   "cell_type": "markdown",
   "metadata": {},
   "source": [
    "### Работа с выбросами и аномалиями"
   ]
  },
  {
   "cell_type": "code",
   "execution_count": 30,
   "metadata": {},
   "outputs": [
    {
     "data": {
      "text/html": [
       "<div>\n",
       "<style scoped>\n",
       "    .dataframe tbody tr th:only-of-type {\n",
       "        vertical-align: middle;\n",
       "    }\n",
       "\n",
       "    .dataframe tbody tr th {\n",
       "        vertical-align: top;\n",
       "    }\n",
       "\n",
       "    .dataframe thead th {\n",
       "        text-align: right;\n",
       "    }\n",
       "</style>\n",
       "<table border=\"1\" class=\"dataframe\">\n",
       "  <thead>\n",
       "    <tr style=\"text-align: right;\">\n",
       "      <th></th>\n",
       "      <th>visitorId</th>\n",
       "      <th>orders</th>\n",
       "    </tr>\n",
       "  </thead>\n",
       "  <tbody>\n",
       "    <tr>\n",
       "      <th>1023</th>\n",
       "      <td>4256040402</td>\n",
       "      <td>11</td>\n",
       "    </tr>\n",
       "    <tr>\n",
       "      <th>591</th>\n",
       "      <td>2458001652</td>\n",
       "      <td>11</td>\n",
       "    </tr>\n",
       "    <tr>\n",
       "      <th>569</th>\n",
       "      <td>2378935119</td>\n",
       "      <td>9</td>\n",
       "    </tr>\n",
       "    <tr>\n",
       "      <th>487</th>\n",
       "      <td>2038680547</td>\n",
       "      <td>8</td>\n",
       "    </tr>\n",
       "    <tr>\n",
       "      <th>44</th>\n",
       "      <td>199603092</td>\n",
       "      <td>5</td>\n",
       "    </tr>\n",
       "    <tr>\n",
       "      <th>744</th>\n",
       "      <td>3062433592</td>\n",
       "      <td>5</td>\n",
       "    </tr>\n",
       "    <tr>\n",
       "      <th>55</th>\n",
       "      <td>237748145</td>\n",
       "      <td>5</td>\n",
       "    </tr>\n",
       "    <tr>\n",
       "      <th>917</th>\n",
       "      <td>3803269165</td>\n",
       "      <td>5</td>\n",
       "    </tr>\n",
       "    <tr>\n",
       "      <th>299</th>\n",
       "      <td>1230306981</td>\n",
       "      <td>5</td>\n",
       "    </tr>\n",
       "    <tr>\n",
       "      <th>897</th>\n",
       "      <td>3717692402</td>\n",
       "      <td>5</td>\n",
       "    </tr>\n",
       "  </tbody>\n",
       "</table>\n",
       "</div>"
      ],
      "text/plain": [
       "       visitorId  orders\n",
       "1023  4256040402      11\n",
       "591   2458001652      11\n",
       "569   2378935119       9\n",
       "487   2038680547       8\n",
       "44     199603092       5\n",
       "744   3062433592       5\n",
       "55     237748145       5\n",
       "917   3803269165       5\n",
       "299   1230306981       5\n",
       "897   3717692402       5"
      ]
     },
     "execution_count": 30,
     "metadata": {},
     "output_type": "execute_result"
    }
   ],
   "source": [
    "# получим таблицу с данными распределения количества заказов по пользователям\n",
    "\n",
    "ordersByUsers = (\n",
    "    orders.groupby('visitorId', as_index=False)\n",
    "    .agg({'transactionId': 'nunique'})\n",
    ")\n",
    "ordersByUsers.columns = ['visitorId', 'orders']\n",
    "\n",
    "ordersByUsers.sort_values(by='orders', ascending=False).head(10)"
   ]
  },
  {
   "cell_type": "code",
   "execution_count": 31,
   "metadata": {},
   "outputs": [
    {
     "data": {
      "text/plain": [
       "<matplotlib.collections.PathCollection at 0x7f87dcdce4c0>"
      ]
     },
     "execution_count": 31,
     "metadata": {},
     "output_type": "execute_result"
    },
    {
     "data": {
      "image/png": "[encoded data removed]",
      "text/plain": [
       "<Figure size 864x432 with 1 Axes>"
      ]
     },
     "metadata": {
      "needs_background": "light"
     },
     "output_type": "display_data"
    }
   ],
   "source": [
    "# строим график разброса кол-ва заказов на пользователя\n",
    "# задаём параметры графика\n",
    "plt.figure(figsize=(12, 6))\n",
    "plt.xticks(rotation=45)\n",
    "\n",
    "# список из чисел от 0 до количества наблюдений в ordersByUsers\n",
    "x_values = pd.Series(range(0, len(ordersByUsers)))\n",
    "\n",
    "plt.scatter(x_values, ordersByUsers['orders'])"
   ]
  },
  {
   "cell_type": "markdown",
   "metadata": {},
   "source": [
    "Как можем заметить, большая часть пользователей осталась в пределах 3 заказов. Вычислим 95-ый и 99-ый перцентили и найдём границу выбросов."
   ]
  },
  {
   "cell_type": "code",
   "execution_count": 32,
   "metadata": {},
   "outputs": [
    {
     "data": {
      "text/plain": [
       "array([2., 4.])"
      ]
     },
     "execution_count": 32,
     "metadata": {},
     "output_type": "execute_result"
    }
   ],
   "source": [
    "# считаем перцентили\n",
    "np.percentile(ordersByUsers['orders'], [95, 99])"
   ]
  },
  {
   "cell_type": "markdown",
   "metadata": {},
   "source": [
    "Проведём границу по 95 перцентилю, оставим всех пользователей с 2 и менее заказами."
   ]
  },
  {
   "cell_type": "code",
   "execution_count": 33,
   "metadata": {},
   "outputs": [
    {
     "data": {
      "text/plain": [
       "<matplotlib.collections.PathCollection at 0x7f87dcda9400>"
      ]
     },
     "execution_count": 33,
     "metadata": {},
     "output_type": "execute_result"
    },
    {
     "data": {
      "image/png": "[encoded data removed]",
      "text/plain": [
       "<Figure size 432x288 with 1 Axes>"
      ]
     },
     "metadata": {
      "needs_background": "light"
     },
     "output_type": "display_data"
    }
   ],
   "source": [
    "# построим график разброса по стоимости заказов\n",
    "\n",
    "x_values = pd.Series(range(0,len(orders['revenue'])))\n",
    "plt.scatter(x_values, orders['revenue']) "
   ]
  },
  {
   "cell_type": "code",
   "execution_count": 34,
   "metadata": {},
   "outputs": [
    {
     "data": {
      "text/plain": [
       "array([28000. , 58233.2])"
      ]
     },
     "execution_count": 34,
     "metadata": {},
     "output_type": "execute_result"
    }
   ],
   "source": [
    "# считаем перцентили стоимости заказа\n",
    "np.percentile(orders['revenue'], [95, 99])"
   ]
  },
  {
   "cell_type": "markdown",
   "metadata": {},
   "source": [
    "Как можем заметить, 95% заказов были сделаны на сумму не более 28 тысяч. Проведём границу выбросов по этой величине."
   ]
  },
  {
   "cell_type": "markdown",
   "metadata": {},
   "source": [
    "#### Вывод"
   ]
  },
  {
   "cell_type": "markdown",
   "metadata": {},
   "source": [
    "Изучив графики разбросов и перцинтили, отбросим всех пользователей, кто сделал более 2 заказов и заказы, на сумму более 28 тысяч."
   ]
  },
  {
   "cell_type": "markdown",
   "metadata": {},
   "source": [
    "### Статистический анализ"
   ]
  },
  {
   "cell_type": "markdown",
   "metadata": {},
   "source": [
    "Перед началом анализа подготовим данные. Получим датасеты со списком пользователей и кол-вом их заказов.\n",
    "\n",
    "* *Нулевая гипотеза:* выборки не имеют различий в среднем количестве заказов\n",
    "* *Альтернативная гипотера:* выборки имеют различия в среднем количестве заказов"
   ]
  },
  {
   "cell_type": "code",
   "execution_count": 35,
   "metadata": {},
   "outputs": [],
   "source": [
    "# получаем предварительные датасеты с пользователями, которые сделали 1 и более заказов\n",
    "\n",
    "ordersByUsersA = (\n",
    "    orders[\n",
    "        orders['group']=='A'\n",
    "    ].groupby(\n",
    "        'visitorId', as_index=False\n",
    "    ).agg(\n",
    "        {\n",
    "            'transactionId' : pd.Series.nunique\n",
    "        }\n",
    "    )\n",
    ")\n",
    "ordersByUsersA.columns = ['visitorId', 'orders']\n",
    " \n",
    "ordersByUsersB = (\n",
    "    orders[\n",
    "        orders['group']=='B'\n",
    "    ].groupby(\n",
    "        'visitorId', as_index=False\n",
    "    ).agg(\n",
    "        {\n",
    "            'transactionId' : pd.Series.nunique\n",
    "        }\n",
    "    )\n",
    ")\n",
    "ordersByUsersB.columns = ['visitorId', 'orders']\n",
    " "
   ]
  },
  {
   "cell_type": "code",
   "execution_count": 36,
   "metadata": {},
   "outputs": [],
   "source": [
    "# Создаём окончательные выборки пользователей по группам. К предыдущим датасетам\n",
    "# добавляем пользователей, кто не совершил ни одного заказа для корректностой проверки\n",
    "# критерием Манна-Уитни\n",
    "\n",
    "sampleA = pd.concat(\n",
    "    [\n",
    "        ordersByUsersA['orders'],\n",
    "        pd.Series(\n",
    "            0, \n",
    "            index=np.arange(\n",
    "                visitors[visitors['group']=='A']['visitors'].sum() - len(ordersByUsersA['orders'])\n",
    "            ), \n",
    "            name='orders'\n",
    "        )\n",
    "    ],\n",
    "    axis=0\n",
    ")\n",
    "\n",
    "sampleB = pd.concat(\n",
    "    [\n",
    "        ordersByUsersB['orders'],\n",
    "        pd.Series(\n",
    "            0, \n",
    "            index=np.arange(\n",
    "                visitors[visitors['group']=='B']['visitors'].sum() - len(ordersByUsersB['orders'])\n",
    "            ), name='orders'\n",
    "        )\n",
    "    ],\n",
    "    axis=0\n",
    ")"
   ]
  },
  {
   "cell_type": "markdown",
   "metadata": {},
   "source": [
    "#### Анализ \"сырых\" данных"
   ]
  },
  {
   "cell_type": "code",
   "execution_count": 37,
   "metadata": {},
   "outputs": [
    {
     "name": "stdout",
     "output_type": "stream",
     "text": [
      "P-value =  0.017\n",
      "Конверсия =  0.138\n"
     ]
    }
   ],
   "source": [
    "# проверим критерием Манна-Уитни \"сырые\" выборки и\n",
    "# получим относительную разницу в среднем кол-ве заказов\n",
    "\n",
    "print('P-value = ', \"{0:.3f}\".format(stats.mannwhitneyu(sampleA, sampleB)[1]))\n",
    "print('Конверсия = ', \"{0:.3f}\".format(sampleB.mean()/sampleA.mean()-1))"
   ]
  },
  {
   "cell_type": "markdown",
   "metadata": {},
   "source": [
    "*P-value* менее 0.05, а значит мы отвергаем нулевую гипотезу об отсутствии разницы в среднем количестве заказов. Конверсии в обеих выборках имеют стат.значимые различия в размере 13,8%."
   ]
  },
  {
   "cell_type": "markdown",
   "metadata": {},
   "source": [
    "Проверим критерием Манна-Уитни гипотезу о том, что средний чек в выборках имеет разницу.\n",
    "\n",
    "* *Нулевая гипотеза:* выборки не имеют разницу в среднем чеке заказа\n",
    "* *Альтернативная гипотеза:* выборки имеют разницу в среднем чеке заказа"
   ]
  },
  {
   "cell_type": "code",
   "execution_count": 38,
   "metadata": {},
   "outputs": [
    {
     "name": "stdout",
     "output_type": "stream",
     "text": [
      "P-value =  0.729\n",
      "Разница в средних чеках =  0.259\n"
     ]
    }
   ],
   "source": [
    "\n",
    "\n",
    "print(\n",
    "    'P-value = ',\n",
    "    \"{0:.3f}\".format(\n",
    "        stats.mannwhitneyu(\n",
    "            orders[orders['group']=='A']['revenue'], \n",
    "            orders[orders['group']=='B']['revenue']\n",
    "        )[1]\n",
    "    )\n",
    ")\n",
    "\n",
    "print(\n",
    "    'Разница в средних чеках = ',\n",
    "    \"{0:.3f}\".format(\n",
    "        orders[orders['group']=='B']['revenue'].mean()\n",
    "        /\n",
    "        orders[orders['group']=='A']['revenue'].mean()-1\n",
    "    )\n",
    ")"
   ]
  },
  {
   "cell_type": "markdown",
   "metadata": {},
   "source": [
    "*P-value* значительно больше 0.05, а значит нету причин отвергать нулевую гипотезу. В средних чеках выборок нету различий, хотя группа B имеет средний чек на, почти, 26% больше, чем группа А. Разница в чеках не является статистически значимой."
   ]
  },
  {
   "cell_type": "markdown",
   "metadata": {},
   "source": [
    "#### Анализ \"очищенных\" данных"
   ]
  },
  {
   "cell_type": "markdown",
   "metadata": {},
   "source": [
    "Очистим полученные ранее выборки от выбросов и аномалий по определённым ранее критериям, а именно: пользователи с 2 и менее заказами и чеком на сумму 28.000 и менее."
   ]
  },
  {
   "cell_type": "code",
   "execution_count": 39,
   "metadata": {},
   "outputs": [],
   "source": [
    "# получим список с аномальными пользователями\n",
    "\n",
    "usersWithManyOrders = pd.concat(\n",
    "    [\n",
    "        ordersByUsersA[\n",
    "            ordersByUsersA['orders'] > np.percentile(ordersByUsers['orders'], [95, 99])[0]\n",
    "        ]['visitorId'],\n",
    "        ordersByUsersB[\n",
    "            ordersByUsersB['orders'] > np.percentile(ordersByUsers['orders'], [95, 99])[0]\n",
    "        ]['visitorId'],\n",
    "    ],\n",
    "    axis=0,\n",
    ")\n",
    "\n",
    "usersWithExpensiveOrders = orders[\n",
    "    orders['revenue'] > np.percentile(orders['revenue'], [95, 99])[0]\n",
    "]['visitorId']\n",
    "\n",
    "unnormalUsers = (\n",
    "    pd.concat([usersWithManyOrders, usersWithExpensiveOrders], axis=0)\n",
    "    .drop_duplicates()\n",
    "    .sort_values()\n",
    ")"
   ]
  },
  {
   "cell_type": "code",
   "execution_count": 40,
   "metadata": {},
   "outputs": [
    {
     "name": "stdout",
     "output_type": "stream",
     "text": [
      "1099    148427295\n",
      "18      199603092\n",
      "928     204675465\n",
      "23      237748145\n",
      "37      249864742\n",
      "684     358944393\n",
      "648     382846391\n",
      "1189    393266494\n",
      "68      457167155\n",
      "68      611059232\n",
      "Name: visitorId, dtype: int64\n",
      "74\n"
     ]
    }
   ],
   "source": [
    "# выведем первые 10 строк полученного списка, а так же общее кол-во аномальных пользователей\n",
    "\n",
    "print(unnormalUsers.head(10))\n",
    "print(unnormalUsers.shape[0]) "
   ]
  },
  {
   "cell_type": "markdown",
   "metadata": {},
   "source": [
    "Всего 74 аномальных пользователя. Пересоздадим выборки с условием исключения аномальных пользователей."
   ]
  },
  {
   "cell_type": "code",
   "execution_count": 41,
   "metadata": {},
   "outputs": [],
   "source": [
    "sampleA = pd.concat(\n",
    "    [\n",
    "        ordersByUsersA[\n",
    "            np.logical_not(ordersByUsersA['visitorId'].isin(unnormalUsers))\n",
    "        ]['orders'],\n",
    "        pd.Series(\n",
    "            0, \n",
    "            index=np.arange(\n",
    "                visitors[visitors['group']=='A']['visitors'].sum() - len(ordersByUsersA['orders'])\n",
    "            ), \n",
    "            name='orders'\n",
    "        )\n",
    "    ],\n",
    "    axis=0\n",
    ")\n",
    "\n",
    "sampleB = pd.concat(\n",
    "    [\n",
    "        ordersByUsersB[\n",
    "            np.logical_not(ordersByUsersB['visitorId'].isin(unnormalUsers))\n",
    "        ]['orders'],\n",
    "        pd.Series(\n",
    "            0, \n",
    "            index=np.arange(\n",
    "                visitors[visitors['group']=='B']['visitors'].sum() - len(ordersByUsersB['orders'])\n",
    "            ), name='orders'\n",
    "        )\n",
    "    ],\n",
    "    axis=0\n",
    ")"
   ]
  },
  {
   "cell_type": "markdown",
   "metadata": {},
   "source": [
    "Формулировка нулевой и альтернативной гипотез для проверки стат.значимости различий среднего кол-ва заказов остаётся той же:\n",
    "\n",
    "* *Нулевая гипотеза:* выборки не имеют различий в среднем количестве заказов\n",
    "* *Альтернативная гипотера:* выборки имеют различия в среднем количестве заказов"
   ]
  },
  {
   "cell_type": "code",
   "execution_count": 42,
   "metadata": {},
   "outputs": [
    {
     "name": "stdout",
     "output_type": "stream",
     "text": [
      "P-value =  0.013\n",
      "Конверсия =  0.173\n"
     ]
    }
   ],
   "source": [
    "print('P-value = ', \"{0:.3f}\".format(stats.mannwhitneyu(sampleA, sampleB)[1]))\n",
    "print('Конверсия = ', \"{0:.3f}\".format(sampleB.mean()/sampleA.mean()-1))"
   ]
  },
  {
   "cell_type": "markdown",
   "metadata": {},
   "source": [
    "P-value уменьшился, что вновь подтверждает верность альтернативной гипотезы о стат.значимом различии конверсии. Среднее количество заказов группы В превосходит группу А на 17,3%."
   ]
  },
  {
   "cell_type": "markdown",
   "metadata": {},
   "source": [
    "Формулировка нулевой и альтернативной гипотез для проверки стат.значимости различий размера среднего чека так же остаётся той же:\n",
    "\n",
    "* *Нулевая гипотеза:* выборки не имеют разницу в среднем чеке заказа\n",
    "* *Альтернативная гипотеза:* выборки имеют разницу в среднем чеке заказа"
   ]
  },
  {
   "cell_type": "code",
   "execution_count": 43,
   "metadata": {},
   "outputs": [
    {
     "name": "stdout",
     "output_type": "stream",
     "text": [
      "P-value =  0.738\n",
      "Разница средних чеков =  -0.020\n"
     ]
    }
   ],
   "source": [
    "# проверяем выборки критерием Манн-Уитни, с условием исключения аномальных пользователей.\n",
    "\n",
    "print(\n",
    "    'P-value = ',\n",
    "    '{0:.3f}'.format(\n",
    "        stats.mannwhitneyu(\n",
    "            orders[\n",
    "                np.logical_and(\n",
    "                    orders['group'] == 'A',\n",
    "                    np.logical_not(orders['visitorId'].isin(unnormalUsers)),\n",
    "                )\n",
    "            ]['revenue'],\n",
    "            orders[\n",
    "                np.logical_and(\n",
    "                    orders['group'] == 'B',\n",
    "                    np.logical_not(orders['visitorId'].isin(unnormalUsers)),\n",
    "                )\n",
    "            ]['revenue'],\n",
    "        )[1]\n",
    "    )\n",
    ")\n",
    "\n",
    "print(\n",
    "    'Разница средних чеков = ',\n",
    "    \"{0:.3f}\".format(\n",
    "        orders[\n",
    "            np.logical_and(\n",
    "                orders['group'] == 'B',\n",
    "                np.logical_not(orders['visitorId'].isin(unnormalUsers)),\n",
    "            )\n",
    "        ]['revenue'].mean()\n",
    "        / orders[\n",
    "            np.logical_and(\n",
    "                orders['group'] == 'A',\n",
    "                np.logical_not(orders['visitorId'].isin(unnormalUsers)),\n",
    "            )\n",
    "        ]['revenue'].mean()\n",
    "        - 1\n",
    "    )\n",
    ") "
   ]
  },
  {
   "cell_type": "markdown",
   "metadata": {},
   "source": [
    "*P-value* так же остаётся выше 0.05, а значит у нас по прежднему нету причин отвергать нулевую гипотезу. Группа В потеряла домнирование, теперь она имеет на 2% меньший чек, чем группа А. Стоит предположить, что на разницу в чеках повлияла числа аномально дорогих заказов."
   ]
  },
  {
   "cell_type": "markdown",
   "metadata": {},
   "source": [
    "## Вывод."
   ]
  },
  {
   "cell_type": "markdown",
   "metadata": {},
   "source": [
    "Подводя итоги, можно сказать, что:\n",
    "\n",
    "* Имеется статистически значимое различие в среднем количестве заказов между групп и в \"сырых\", и в очищенных данных.\n",
    "\n",
    "* Отсутствует статистически значимое различие в среднем чеке между групп ни в \"сырых\", ни в очищенных данных.\n",
    "\n",
    "* График относительного изменения кумулятивного среднего чека стабилизировался или имеет тентенцию к падению. После устранения аномально дорогих заказов, группа В показала средний чек на 2% хуже, чем группа А.\n",
    "\n",
    "* График относительной кумулятивной конверсии говорит о лучшей конверсии в группе В и относительно стабилизировался. Нету тенденции к её изменению.\n",
    "\n",
    "Исходя из этого можно остановить тест и признать его успешным. Нам удалось повысить среднее количество заказов на 17,3%. Не смотря на относительное уменьшение среднего чека на 2%, оно не имеет статистической значимости. "
   ]
  }
 ],
 "metadata": {
  "ExecuteTimeLog": [
   {
    "duration": 769,
    "start_time": "2022-10-10T02:24:47.377Z"
   },
   {
    "duration": 454,
    "start_time": "2022-10-10T02:25:06.634Z"
   },
   {
    "duration": 71,
    "start_time": "2022-10-10T02:28:18.003Z"
   },
   {
    "duration": 6,
    "start_time": "2022-10-10T02:30:48.330Z"
   },
   {
    "duration": 8,
    "start_time": "2022-10-10T02:31:19.477Z"
   },
   {
    "duration": 32,
    "start_time": "2022-10-10T02:31:54.621Z"
   },
   {
    "duration": 19,
    "start_time": "2022-10-10T02:32:20.650Z"
   },
   {
    "duration": 750,
    "start_time": "2022-10-10T02:33:56.271Z"
   },
   {
    "duration": 5,
    "start_time": "2022-10-10T02:34:11.645Z"
   },
   {
    "duration": 14,
    "start_time": "2022-10-10T02:34:22.272Z"
   },
   {
    "duration": 6,
    "start_time": "2022-10-10T02:34:29.832Z"
   },
   {
    "duration": 72,
    "start_time": "2022-10-10T02:36:01.696Z"
   },
   {
    "duration": 2,
    "start_time": "2022-10-10T02:40:40.987Z"
   },
   {
    "duration": 10,
    "start_time": "2022-10-10T02:42:44.798Z"
   },
   {
    "duration": 751,
    "start_time": "2022-10-10T02:43:26.938Z"
   },
   {
    "duration": 68,
    "start_time": "2022-10-10T16:25:33.345Z"
   },
   {
    "duration": 46,
    "start_time": "2022-10-10T16:25:58.366Z"
   },
   {
    "duration": 802,
    "start_time": "2022-10-10T16:26:10.201Z"
   },
   {
    "duration": 71,
    "start_time": "2022-10-10T16:26:11.005Z"
   },
   {
    "duration": 5,
    "start_time": "2022-10-10T16:26:11.080Z"
   },
   {
    "duration": 7,
    "start_time": "2022-10-10T16:26:11.087Z"
   },
   {
    "duration": 5,
    "start_time": "2022-10-10T16:26:11.095Z"
   },
   {
    "duration": 9,
    "start_time": "2022-10-10T16:26:11.102Z"
   },
   {
    "duration": 136,
    "start_time": "2022-10-10T16:26:11.112Z"
   },
   {
    "duration": 9,
    "start_time": "2022-10-10T16:26:32.705Z"
   },
   {
    "duration": 8,
    "start_time": "2022-10-10T16:26:41.291Z"
   },
   {
    "duration": 328,
    "start_time": "2022-10-10T16:27:21.046Z"
   },
   {
    "duration": 5,
    "start_time": "2022-10-10T16:28:38.325Z"
   },
   {
    "duration": 23,
    "start_time": "2022-10-10T16:32:36.034Z"
   },
   {
    "duration": 234,
    "start_time": "2022-10-10T16:33:40.875Z"
   },
   {
    "duration": 6,
    "start_time": "2022-10-10T16:34:52.090Z"
   },
   {
    "duration": 3,
    "start_time": "2022-10-10T16:35:34.891Z"
   },
   {
    "duration": 8,
    "start_time": "2022-10-10T16:41:38.882Z"
   },
   {
    "duration": 7,
    "start_time": "2022-10-10T16:42:38.810Z"
   },
   {
    "duration": 265,
    "start_time": "2022-10-10T16:42:40.693Z"
   },
   {
    "duration": 87,
    "start_time": "2022-10-10T16:45:15.825Z"
   },
   {
    "duration": 282,
    "start_time": "2022-10-10T16:45:19.943Z"
   },
   {
    "duration": 237,
    "start_time": "2022-10-10T16:45:34.090Z"
   },
   {
    "duration": 266,
    "start_time": "2022-10-10T16:46:03.211Z"
   },
   {
    "duration": 300,
    "start_time": "2022-10-10T16:46:59.851Z"
   },
   {
    "duration": 271,
    "start_time": "2022-10-10T16:47:10.630Z"
   },
   {
    "duration": 249,
    "start_time": "2022-10-10T17:02:20.847Z"
   },
   {
    "duration": 273,
    "start_time": "2022-10-10T17:02:55.953Z"
   },
   {
    "duration": 391,
    "start_time": "2022-10-10T17:27:28.022Z"
   },
   {
    "duration": 322,
    "start_time": "2022-10-10T17:27:53.455Z"
   },
   {
    "duration": 807,
    "start_time": "2022-10-10T19:08:25.838Z"
   },
   {
    "duration": 67,
    "start_time": "2022-10-10T19:08:26.647Z"
   },
   {
    "duration": 6,
    "start_time": "2022-10-10T19:08:26.716Z"
   },
   {
    "duration": 12,
    "start_time": "2022-10-10T19:08:26.724Z"
   },
   {
    "duration": 8,
    "start_time": "2022-10-10T19:08:26.737Z"
   },
   {
    "duration": 10,
    "start_time": "2022-10-10T19:08:26.747Z"
   },
   {
    "duration": 137,
    "start_time": "2022-10-10T19:08:26.758Z"
   },
   {
    "duration": 7,
    "start_time": "2022-10-10T19:08:26.897Z"
   },
   {
    "duration": 14,
    "start_time": "2022-10-10T19:08:26.905Z"
   },
   {
    "duration": 7,
    "start_time": "2022-10-10T19:08:26.921Z"
   },
   {
    "duration": 247,
    "start_time": "2022-10-10T19:08:26.929Z"
   },
   {
    "duration": 6,
    "start_time": "2022-10-10T19:08:27.177Z"
   },
   {
    "duration": 10,
    "start_time": "2022-10-10T19:08:27.185Z"
   },
   {
    "duration": 12,
    "start_time": "2022-10-10T19:08:27.197Z"
   },
   {
    "duration": 299,
    "start_time": "2022-10-10T19:08:27.211Z"
   },
   {
    "duration": 260,
    "start_time": "2022-10-10T19:08:27.512Z"
   },
   {
    "duration": 421,
    "start_time": "2022-10-10T19:08:27.774Z"
   },
   {
    "duration": 4,
    "start_time": "2022-10-10T19:08:28.196Z"
   },
   {
    "duration": 4,
    "start_time": "2022-10-10T19:09:57.110Z"
   },
   {
    "duration": 340,
    "start_time": "2022-10-10T19:10:27.325Z"
   },
   {
    "duration": 344,
    "start_time": "2022-10-10T19:13:24.638Z"
   },
   {
    "duration": 249,
    "start_time": "2022-10-10T19:13:48.854Z"
   },
   {
    "duration": 306,
    "start_time": "2022-10-10T19:14:51.683Z"
   },
   {
    "duration": 295,
    "start_time": "2022-10-10T19:16:22.707Z"
   },
   {
    "duration": 291,
    "start_time": "2022-10-10T19:16:31.951Z"
   },
   {
    "duration": 7,
    "start_time": "2022-10-10T19:20:18.088Z"
   },
   {
    "duration": 387,
    "start_time": "2022-10-10T19:21:41.351Z"
   },
   {
    "duration": 94,
    "start_time": "2022-10-10T19:22:39.650Z"
   },
   {
    "duration": 407,
    "start_time": "2022-10-10T19:23:05.602Z"
   },
   {
    "duration": 7,
    "start_time": "2022-10-10T19:37:54.042Z"
   },
   {
    "duration": 7,
    "start_time": "2022-10-10T19:38:06.170Z"
   },
   {
    "duration": 10,
    "start_time": "2022-10-10T19:38:21.221Z"
   },
   {
    "duration": 12,
    "start_time": "2022-10-10T19:38:39.889Z"
   },
   {
    "duration": 112,
    "start_time": "2022-10-10T19:39:44.172Z"
   },
   {
    "duration": 5,
    "start_time": "2022-10-10T19:41:13.715Z"
   },
   {
    "duration": 4,
    "start_time": "2022-10-10T19:41:36.356Z"
   },
   {
    "duration": 114,
    "start_time": "2022-10-10T19:44:45.104Z"
   },
   {
    "duration": 597,
    "start_time": "2022-10-10T19:46:00.371Z"
   },
   {
    "duration": 35,
    "start_time": "2022-10-10T19:46:00.970Z"
   },
   {
    "duration": 6,
    "start_time": "2022-10-10T19:46:01.007Z"
   },
   {
    "duration": 24,
    "start_time": "2022-10-10T19:46:01.015Z"
   },
   {
    "duration": 12,
    "start_time": "2022-10-10T19:46:01.040Z"
   },
   {
    "duration": 17,
    "start_time": "2022-10-10T19:46:01.054Z"
   },
   {
    "duration": 62,
    "start_time": "2022-10-10T19:46:01.072Z"
   },
   {
    "duration": 7,
    "start_time": "2022-10-10T19:46:01.136Z"
   },
   {
    "duration": 28,
    "start_time": "2022-10-10T19:46:01.144Z"
   },
   {
    "duration": 10,
    "start_time": "2022-10-10T19:46:01.175Z"
   },
   {
    "duration": 242,
    "start_time": "2022-10-10T19:46:01.186Z"
   },
   {
    "duration": 7,
    "start_time": "2022-10-10T19:46:01.429Z"
   },
   {
    "duration": 20,
    "start_time": "2022-10-10T19:46:01.437Z"
   },
   {
    "duration": 17,
    "start_time": "2022-10-10T19:46:01.459Z"
   },
   {
    "duration": 272,
    "start_time": "2022-10-10T19:46:01.477Z"
   },
   {
    "duration": 256,
    "start_time": "2022-10-10T19:46:01.750Z"
   },
   {
    "duration": 351,
    "start_time": "2022-10-10T19:46:02.009Z"
   },
   {
    "duration": 3,
    "start_time": "2022-10-10T19:46:02.362Z"
   },
   {
    "duration": 22,
    "start_time": "2022-10-10T19:46:02.367Z"
   },
   {
    "duration": 294,
    "start_time": "2022-10-10T19:46:02.390Z"
   },
   {
    "duration": 7,
    "start_time": "2022-10-10T19:46:02.685Z"
   },
   {
    "duration": 391,
    "start_time": "2022-10-10T19:46:02.693Z"
   },
   {
    "duration": 10,
    "start_time": "2022-10-10T19:46:03.085Z"
   },
   {
    "duration": 134,
    "start_time": "2022-10-10T19:46:03.097Z"
   },
   {
    "duration": 4,
    "start_time": "2022-10-10T19:46:03.233Z"
   },
   {
    "duration": 119,
    "start_time": "2022-10-10T19:46:03.238Z"
   },
   {
    "duration": 3,
    "start_time": "2022-10-10T19:46:03.359Z"
   },
   {
    "duration": 133,
    "start_time": "2022-10-11T00:15:57.646Z"
   },
   {
    "duration": 7,
    "start_time": "2022-10-11T00:18:59.613Z"
   },
   {
    "duration": 5,
    "start_time": "2022-10-11T00:19:06.239Z"
   },
   {
    "duration": 6,
    "start_time": "2022-10-11T00:19:46.682Z"
   },
   {
    "duration": 75,
    "start_time": "2022-10-11T00:27:35.009Z"
   },
   {
    "duration": 977,
    "start_time": "2022-10-11T00:28:31.060Z"
   },
   {
    "duration": 33,
    "start_time": "2022-10-11T00:28:32.039Z"
   },
   {
    "duration": 5,
    "start_time": "2022-10-11T00:28:32.074Z"
   },
   {
    "duration": 7,
    "start_time": "2022-10-11T00:28:32.081Z"
   },
   {
    "duration": 5,
    "start_time": "2022-10-11T00:28:32.089Z"
   },
   {
    "duration": 10,
    "start_time": "2022-10-11T00:28:32.095Z"
   },
   {
    "duration": 50,
    "start_time": "2022-10-11T00:28:32.106Z"
   },
   {
    "duration": 6,
    "start_time": "2022-10-11T00:28:32.158Z"
   },
   {
    "duration": 13,
    "start_time": "2022-10-11T00:28:32.166Z"
   },
   {
    "duration": 5,
    "start_time": "2022-10-11T00:28:32.181Z"
   },
   {
    "duration": 225,
    "start_time": "2022-10-11T00:28:32.187Z"
   },
   {
    "duration": 5,
    "start_time": "2022-10-11T00:28:32.414Z"
   },
   {
    "duration": 7,
    "start_time": "2022-10-11T00:28:32.420Z"
   },
   {
    "duration": 13,
    "start_time": "2022-10-11T00:28:32.428Z"
   },
   {
    "duration": 261,
    "start_time": "2022-10-11T00:28:32.442Z"
   },
   {
    "duration": 250,
    "start_time": "2022-10-11T00:28:32.709Z"
   },
   {
    "duration": 363,
    "start_time": "2022-10-11T00:28:32.961Z"
   },
   {
    "duration": 4,
    "start_time": "2022-10-11T00:28:33.325Z"
   },
   {
    "duration": 6,
    "start_time": "2022-10-11T00:28:33.330Z"
   },
   {
    "duration": 267,
    "start_time": "2022-10-11T00:28:33.337Z"
   },
   {
    "duration": 9,
    "start_time": "2022-10-11T00:28:33.605Z"
   },
   {
    "duration": 395,
    "start_time": "2022-10-11T00:28:33.616Z"
   },
   {
    "duration": 11,
    "start_time": "2022-10-11T00:28:34.012Z"
   },
   {
    "duration": 131,
    "start_time": "2022-10-11T00:28:34.025Z"
   },
   {
    "duration": 5,
    "start_time": "2022-10-11T00:28:34.157Z"
   },
   {
    "duration": 120,
    "start_time": "2022-10-11T00:28:34.163Z"
   },
   {
    "duration": 4,
    "start_time": "2022-10-11T00:28:34.285Z"
   },
   {
    "duration": 169,
    "start_time": "2022-10-11T00:28:34.292Z"
   },
   {
    "duration": 7,
    "start_time": "2022-10-11T00:28:34.463Z"
   },
   {
    "duration": 20,
    "start_time": "2022-10-11T00:28:34.471Z"
   },
   {
    "duration": 10,
    "start_time": "2022-10-11T00:35:28.218Z"
   },
   {
    "duration": 1199,
    "start_time": "2022-10-11T00:40:53.862Z"
   },
   {
    "duration": 7,
    "start_time": "2022-10-11T00:41:28.839Z"
   },
   {
    "duration": 1045,
    "start_time": "2022-10-11T00:42:27.190Z"
   },
   {
    "duration": 33,
    "start_time": "2022-10-11T00:42:28.237Z"
   },
   {
    "duration": 4,
    "start_time": "2022-10-11T00:42:28.272Z"
   },
   {
    "duration": 11,
    "start_time": "2022-10-11T00:42:28.278Z"
   },
   {
    "duration": 7,
    "start_time": "2022-10-11T00:42:28.290Z"
   },
   {
    "duration": 9,
    "start_time": "2022-10-11T00:42:28.298Z"
   },
   {
    "duration": 51,
    "start_time": "2022-10-11T00:42:28.308Z"
   },
   {
    "duration": 6,
    "start_time": "2022-10-11T00:42:28.360Z"
   },
   {
    "duration": 9,
    "start_time": "2022-10-11T00:42:28.368Z"
   },
   {
    "duration": 5,
    "start_time": "2022-10-11T00:42:28.379Z"
   },
   {
    "duration": 224,
    "start_time": "2022-10-11T00:42:28.385Z"
   },
   {
    "duration": 5,
    "start_time": "2022-10-11T00:42:28.611Z"
   },
   {
    "duration": 5,
    "start_time": "2022-10-11T00:42:28.617Z"
   },
   {
    "duration": 9,
    "start_time": "2022-10-11T00:42:28.624Z"
   },
   {
    "duration": 269,
    "start_time": "2022-10-11T00:42:28.634Z"
   },
   {
    "duration": 252,
    "start_time": "2022-10-11T00:42:28.905Z"
   },
   {
    "duration": 334,
    "start_time": "2022-10-11T00:42:29.159Z"
   },
   {
    "duration": 3,
    "start_time": "2022-10-11T00:42:29.495Z"
   },
   {
    "duration": 4,
    "start_time": "2022-10-11T00:42:29.509Z"
   },
   {
    "duration": 264,
    "start_time": "2022-10-11T00:42:29.514Z"
   },
   {
    "duration": 8,
    "start_time": "2022-10-11T00:42:29.780Z"
   },
   {
    "duration": 381,
    "start_time": "2022-10-11T00:42:29.789Z"
   },
   {
    "duration": 11,
    "start_time": "2022-10-11T00:42:30.171Z"
   },
   {
    "duration": 127,
    "start_time": "2022-10-11T00:42:30.183Z"
   },
   {
    "duration": 4,
    "start_time": "2022-10-11T00:42:30.312Z"
   },
   {
    "duration": 125,
    "start_time": "2022-10-11T00:42:30.318Z"
   },
   {
    "duration": 5,
    "start_time": "2022-10-11T00:42:30.444Z"
   },
   {
    "duration": 135,
    "start_time": "2022-10-11T00:42:30.452Z"
   },
   {
    "duration": 7,
    "start_time": "2022-10-11T00:42:30.589Z"
   },
   {
    "duration": 37,
    "start_time": "2022-10-11T00:42:30.597Z"
   },
   {
    "duration": 10,
    "start_time": "2022-10-11T00:42:30.635Z"
   },
   {
    "duration": 10,
    "start_time": "2022-10-11T00:42:30.646Z"
   },
   {
    "duration": 106,
    "start_time": "2022-10-11T00:42:30.657Z"
   },
   {
    "duration": 3,
    "start_time": "2022-10-11T00:42:51.213Z"
   },
   {
    "duration": 3,
    "start_time": "2022-10-11T00:43:00.974Z"
   },
   {
    "duration": 8,
    "start_time": "2022-10-11T00:45:26.555Z"
   },
   {
    "duration": 992,
    "start_time": "2022-10-11T00:46:38.310Z"
   },
   {
    "duration": 10,
    "start_time": "2022-10-11T00:46:57.466Z"
   },
   {
    "duration": 11,
    "start_time": "2022-10-11T00:48:52.670Z"
   },
   {
    "duration": 9,
    "start_time": "2022-10-11T00:49:03.651Z"
   },
   {
    "duration": 22,
    "start_time": "2022-10-11T00:50:25.663Z"
   },
   {
    "duration": 938,
    "start_time": "2022-10-11T00:55:29.811Z"
   },
   {
    "duration": 13,
    "start_time": "2022-10-11T00:55:49.021Z"
   },
   {
    "duration": 1306,
    "start_time": "2022-10-11T06:30:26.240Z"
   },
   {
    "duration": 66,
    "start_time": "2022-10-11T06:30:27.547Z"
   },
   {
    "duration": 5,
    "start_time": "2022-10-11T06:30:27.615Z"
   },
   {
    "duration": 8,
    "start_time": "2022-10-11T06:30:27.622Z"
   },
   {
    "duration": 13,
    "start_time": "2022-10-11T06:30:27.631Z"
   },
   {
    "duration": 9,
    "start_time": "2022-10-11T06:30:27.645Z"
   },
   {
    "duration": 132,
    "start_time": "2022-10-11T06:30:27.655Z"
   },
   {
    "duration": 7,
    "start_time": "2022-10-11T06:30:27.788Z"
   },
   {
    "duration": 10,
    "start_time": "2022-10-11T06:30:27.796Z"
   },
   {
    "duration": 12,
    "start_time": "2022-10-11T06:30:27.808Z"
   },
   {
    "duration": 230,
    "start_time": "2022-10-11T06:30:27.821Z"
   },
   {
    "duration": 5,
    "start_time": "2022-10-11T06:30:28.053Z"
   },
   {
    "duration": 6,
    "start_time": "2022-10-11T06:30:28.059Z"
   },
   {
    "duration": 6,
    "start_time": "2022-10-11T06:30:28.066Z"
   },
   {
    "duration": 277,
    "start_time": "2022-10-11T06:30:28.074Z"
   },
   {
    "duration": 256,
    "start_time": "2022-10-11T06:30:28.353Z"
   },
   {
    "duration": 400,
    "start_time": "2022-10-11T06:30:28.611Z"
   },
   {
    "duration": 3,
    "start_time": "2022-10-11T06:30:29.012Z"
   },
   {
    "duration": 7,
    "start_time": "2022-10-11T06:30:29.017Z"
   },
   {
    "duration": 282,
    "start_time": "2022-10-11T06:30:29.025Z"
   },
   {
    "duration": 7,
    "start_time": "2022-10-11T06:30:29.308Z"
   },
   {
    "duration": 383,
    "start_time": "2022-10-11T06:30:29.317Z"
   },
   {
    "duration": 12,
    "start_time": "2022-10-11T06:30:29.702Z"
   },
   {
    "duration": 143,
    "start_time": "2022-10-11T06:30:29.716Z"
   },
   {
    "duration": 4,
    "start_time": "2022-10-11T06:30:29.861Z"
   },
   {
    "duration": 128,
    "start_time": "2022-10-11T06:30:29.867Z"
   },
   {
    "duration": 6,
    "start_time": "2022-10-11T06:30:29.997Z"
   },
   {
    "duration": 138,
    "start_time": "2022-10-11T06:30:30.005Z"
   },
   {
    "duration": 7,
    "start_time": "2022-10-11T06:30:30.145Z"
   },
   {
    "duration": 25,
    "start_time": "2022-10-11T06:30:30.153Z"
   },
   {
    "duration": 22,
    "start_time": "2022-10-11T06:30:30.179Z"
   },
   {
    "duration": 7,
    "start_time": "2022-10-11T06:30:30.202Z"
   },
   {
    "duration": 28,
    "start_time": "2022-10-11T06:30:30.211Z"
   },
   {
    "duration": 9,
    "start_time": "2022-10-11T06:30:30.241Z"
   },
   {
    "duration": 24,
    "start_time": "2022-10-11T06:30:30.251Z"
   },
   {
    "duration": 12,
    "start_time": "2022-10-11T06:30:30.276Z"
   },
   {
    "duration": 1188,
    "start_time": "2022-10-11T11:42:12.278Z"
   },
   {
    "duration": 67,
    "start_time": "2022-10-11T11:42:20.440Z"
   },
   {
    "duration": 104,
    "start_time": "2022-10-11T11:42:33.370Z"
   },
   {
    "duration": 6,
    "start_time": "2022-10-11T11:42:57.779Z"
   },
   {
    "duration": 7,
    "start_time": "2022-10-11T11:43:00.152Z"
   },
   {
    "duration": 4,
    "start_time": "2022-10-11T11:43:16.811Z"
   },
   {
    "duration": 8,
    "start_time": "2022-10-11T11:43:18.227Z"
   },
   {
    "duration": 176,
    "start_time": "2022-10-11T11:43:50.300Z"
   },
   {
    "duration": 139,
    "start_time": "2022-10-11T11:44:29.283Z"
   },
   {
    "duration": 4,
    "start_time": "2022-10-11T12:08:07.664Z"
   },
   {
    "duration": 5,
    "start_time": "2022-10-11T12:08:48.533Z"
   },
   {
    "duration": 4,
    "start_time": "2022-10-11T12:09:05.614Z"
   },
   {
    "duration": 5,
    "start_time": "2022-10-11T12:10:43.872Z"
   },
   {
    "duration": 3,
    "start_time": "2022-10-11T12:10:52.832Z"
   },
   {
    "duration": 5,
    "start_time": "2022-10-11T12:11:00.300Z"
   },
   {
    "duration": 5,
    "start_time": "2022-10-11T12:11:48.775Z"
   },
   {
    "duration": 5,
    "start_time": "2022-10-11T12:12:28.767Z"
   },
   {
    "duration": 4,
    "start_time": "2022-10-11T12:12:34.320Z"
   },
   {
    "duration": 4,
    "start_time": "2022-10-11T12:12:53.705Z"
   },
   {
    "duration": 6,
    "start_time": "2022-10-11T12:17:33.101Z"
   },
   {
    "duration": 97,
    "start_time": "2022-10-11T12:20:19.047Z"
   },
   {
    "duration": 103,
    "start_time": "2022-10-11T12:20:51.157Z"
   },
   {
    "duration": 92,
    "start_time": "2022-10-11T12:20:59.287Z"
   },
   {
    "duration": 98,
    "start_time": "2022-10-11T12:22:33.036Z"
   },
   {
    "duration": 101,
    "start_time": "2022-10-11T12:23:25.630Z"
   },
   {
    "duration": 692,
    "start_time": "2022-10-11T12:24:39.049Z"
   },
   {
    "duration": 811,
    "start_time": "2022-10-11T12:24:56.406Z"
   },
   {
    "duration": 866,
    "start_time": "2022-10-11T12:25:34.310Z"
   },
   {
    "duration": 90,
    "start_time": "2022-10-11T12:25:53.005Z"
   },
   {
    "duration": 122,
    "start_time": "2022-10-11T12:26:14.498Z"
   },
   {
    "duration": 107,
    "start_time": "2022-10-11T12:26:23.190Z"
   },
   {
    "duration": 666,
    "start_time": "2022-10-11T12:26:36.050Z"
   },
   {
    "duration": 100,
    "start_time": "2022-10-11T12:27:05.216Z"
   },
   {
    "duration": 94,
    "start_time": "2022-10-11T12:27:42.846Z"
   },
   {
    "duration": 95,
    "start_time": "2022-10-11T12:29:26.580Z"
   },
   {
    "duration": 108,
    "start_time": "2022-10-11T12:29:31.575Z"
   },
   {
    "duration": 88,
    "start_time": "2022-10-11T12:30:14.914Z"
   },
   {
    "duration": 3,
    "start_time": "2022-10-11T12:30:34.198Z"
   },
   {
    "duration": 5,
    "start_time": "2022-10-11T12:30:44.067Z"
   },
   {
    "duration": 66,
    "start_time": "2022-10-11T12:30:58.000Z"
   },
   {
    "duration": 65,
    "start_time": "2022-10-11T12:31:01.430Z"
   },
   {
    "duration": 66,
    "start_time": "2022-10-11T12:31:13.406Z"
   },
   {
    "duration": 64,
    "start_time": "2022-10-11T12:31:23.496Z"
   },
   {
    "duration": 4,
    "start_time": "2022-10-11T12:31:33.598Z"
   },
   {
    "duration": 7,
    "start_time": "2022-10-11T12:31:40.018Z"
   },
   {
    "duration": 11,
    "start_time": "2022-10-11T12:34:45.000Z"
   },
   {
    "duration": 4,
    "start_time": "2022-10-11T12:34:58.761Z"
   },
   {
    "duration": 7,
    "start_time": "2022-10-11T12:35:05.195Z"
   },
   {
    "duration": 10,
    "start_time": "2022-10-11T12:35:31.744Z"
   },
   {
    "duration": 6,
    "start_time": "2022-10-11T12:38:54.141Z"
   },
   {
    "duration": 4,
    "start_time": "2022-10-11T12:39:28.685Z"
   },
   {
    "duration": 10,
    "start_time": "2022-10-11T12:39:37.848Z"
   },
   {
    "duration": 7,
    "start_time": "2022-10-11T12:39:42.187Z"
   },
   {
    "duration": 7,
    "start_time": "2022-10-11T12:39:53.986Z"
   },
   {
    "duration": 719,
    "start_time": "2022-10-11T12:43:19.272Z"
   },
   {
    "duration": 5,
    "start_time": "2022-10-11T12:43:26.288Z"
   },
   {
    "duration": 12,
    "start_time": "2022-10-11T12:43:56.081Z"
   },
   {
    "duration": 5,
    "start_time": "2022-10-11T12:44:14.994Z"
   },
   {
    "duration": 6,
    "start_time": "2022-10-11T12:45:16.584Z"
   },
   {
    "duration": 7,
    "start_time": "2022-10-11T12:45:30.966Z"
   },
   {
    "duration": 9,
    "start_time": "2022-10-11T12:45:55.836Z"
   },
   {
    "duration": 4,
    "start_time": "2022-10-11T12:46:05.751Z"
   },
   {
    "duration": 5,
    "start_time": "2022-10-11T12:46:14.160Z"
   },
   {
    "duration": 9,
    "start_time": "2022-10-11T12:46:19.056Z"
   },
   {
    "duration": 6,
    "start_time": "2022-10-11T12:47:47.307Z"
   },
   {
    "duration": 6,
    "start_time": "2022-10-11T12:47:55.651Z"
   },
   {
    "duration": 5,
    "start_time": "2022-10-11T12:48:13.309Z"
   },
   {
    "duration": 6,
    "start_time": "2022-10-11T13:02:06.078Z"
   },
   {
    "duration": 4,
    "start_time": "2022-10-11T13:02:37.087Z"
   },
   {
    "duration": 7,
    "start_time": "2022-10-11T13:03:54.589Z"
   },
   {
    "duration": 5,
    "start_time": "2022-10-11T13:04:03.476Z"
   },
   {
    "duration": 1087,
    "start_time": "2022-10-11T13:16:26.044Z"
   },
   {
    "duration": 34,
    "start_time": "2022-10-11T13:16:27.133Z"
   },
   {
    "duration": 5,
    "start_time": "2022-10-11T13:16:27.168Z"
   },
   {
    "duration": 15,
    "start_time": "2022-10-11T13:16:27.175Z"
   },
   {
    "duration": 25,
    "start_time": "2022-10-11T13:16:27.192Z"
   },
   {
    "duration": 13,
    "start_time": "2022-10-11T13:16:27.218Z"
   },
   {
    "duration": 51,
    "start_time": "2022-10-11T13:16:27.232Z"
   },
   {
    "duration": 8,
    "start_time": "2022-10-11T13:16:27.284Z"
   },
   {
    "duration": 12,
    "start_time": "2022-10-11T13:16:27.293Z"
   },
   {
    "duration": 11,
    "start_time": "2022-10-11T13:16:27.307Z"
   },
   {
    "duration": 9,
    "start_time": "2022-10-11T13:16:27.319Z"
   },
   {
    "duration": 15,
    "start_time": "2022-10-11T13:16:27.330Z"
   },
   {
    "duration": 11,
    "start_time": "2022-10-11T13:16:27.347Z"
   },
   {
    "duration": 8,
    "start_time": "2022-10-11T13:16:27.359Z"
   },
   {
    "duration": 13,
    "start_time": "2022-10-11T13:16:27.369Z"
   },
   {
    "duration": 19,
    "start_time": "2022-10-11T13:16:27.384Z"
   },
   {
    "duration": 21,
    "start_time": "2022-10-11T13:16:27.404Z"
   },
   {
    "duration": 265,
    "start_time": "2022-10-11T13:16:27.426Z"
   },
   {
    "duration": 6,
    "start_time": "2022-10-11T13:16:27.692Z"
   },
   {
    "duration": 11,
    "start_time": "2022-10-11T13:16:27.699Z"
   },
   {
    "duration": 9,
    "start_time": "2022-10-11T13:16:27.711Z"
   },
   {
    "duration": 270,
    "start_time": "2022-10-11T13:16:27.721Z"
   },
   {
    "duration": 195,
    "start_time": "2022-10-11T13:16:27.993Z"
   },
   {
    "duration": 310,
    "start_time": "2022-10-11T13:16:28.190Z"
   },
   {
    "duration": 9,
    "start_time": "2022-10-11T13:16:28.501Z"
   },
   {
    "duration": 6,
    "start_time": "2022-10-11T13:16:28.512Z"
   },
   {
    "duration": 203,
    "start_time": "2022-10-11T13:16:28.519Z"
   },
   {
    "duration": 7,
    "start_time": "2022-10-11T13:16:28.725Z"
   },
   {
    "duration": 302,
    "start_time": "2022-10-11T13:16:28.733Z"
   },
   {
    "duration": 10,
    "start_time": "2022-10-11T13:16:29.036Z"
   },
   {
    "duration": 136,
    "start_time": "2022-10-11T13:16:29.048Z"
   },
   {
    "duration": 5,
    "start_time": "2022-10-11T13:16:29.186Z"
   },
   {
    "duration": 126,
    "start_time": "2022-10-11T13:16:29.193Z"
   },
   {
    "duration": 4,
    "start_time": "2022-10-11T13:16:29.320Z"
   },
   {
    "duration": 150,
    "start_time": "2022-10-11T13:16:29.326Z"
   },
   {
    "duration": 7,
    "start_time": "2022-10-11T13:16:29.477Z"
   },
   {
    "duration": 33,
    "start_time": "2022-10-11T13:16:29.485Z"
   },
   {
    "duration": 8,
    "start_time": "2022-10-11T13:16:29.520Z"
   },
   {
    "duration": 119,
    "start_time": "2022-10-11T13:16:29.529Z"
   },
   {
    "duration": 0,
    "start_time": "2022-10-11T13:16:29.650Z"
   },
   {
    "duration": 0,
    "start_time": "2022-10-11T13:16:29.650Z"
   },
   {
    "duration": 0,
    "start_time": "2022-10-11T13:16:29.651Z"
   },
   {
    "duration": 0,
    "start_time": "2022-10-11T13:16:29.652Z"
   },
   {
    "duration": 9,
    "start_time": "2022-10-11T13:17:00.918Z"
   },
   {
    "duration": 4,
    "start_time": "2022-10-11T13:17:05.549Z"
   },
   {
    "duration": 10,
    "start_time": "2022-10-11T13:17:06.136Z"
   },
   {
    "duration": 21,
    "start_time": "2022-10-11T13:17:06.727Z"
   },
   {
    "duration": 13,
    "start_time": "2022-10-11T13:17:07.829Z"
   },
   {
    "duration": 115,
    "start_time": "2022-10-11T13:46:01.586Z"
   },
   {
    "duration": 58,
    "start_time": "2022-10-11T13:46:06.891Z"
   },
   {
    "duration": 199,
    "start_time": "2022-10-11T14:08:40.833Z"
   },
   {
    "duration": 253,
    "start_time": "2022-10-11T14:09:39.714Z"
   },
   {
    "duration": 189,
    "start_time": "2022-10-11T14:11:05.856Z"
   },
   {
    "duration": 209,
    "start_time": "2022-10-11T14:11:50.500Z"
   },
   {
    "duration": 268,
    "start_time": "2022-10-11T14:12:52.548Z"
   },
   {
    "duration": 304,
    "start_time": "2022-10-11T14:12:58.766Z"
   },
   {
    "duration": 285,
    "start_time": "2022-10-11T14:13:03.856Z"
   },
   {
    "duration": 215,
    "start_time": "2022-10-11T14:13:43.358Z"
   },
   {
    "duration": 225,
    "start_time": "2022-10-11T14:13:48.313Z"
   },
   {
    "duration": 298,
    "start_time": "2022-10-11T14:14:19.835Z"
   },
   {
    "duration": 330,
    "start_time": "2022-10-11T14:14:51.805Z"
   },
   {
    "duration": 208,
    "start_time": "2022-10-11T14:15:29.971Z"
   },
   {
    "duration": 216,
    "start_time": "2022-10-11T14:16:53.605Z"
   },
   {
    "duration": 20,
    "start_time": "2022-10-11T14:19:01.829Z"
   },
   {
    "duration": 14,
    "start_time": "2022-10-11T14:27:12.063Z"
   },
   {
    "duration": 1108,
    "start_time": "2022-10-11T14:28:54.446Z"
   },
   {
    "duration": 34,
    "start_time": "2022-10-11T14:28:55.556Z"
   },
   {
    "duration": 5,
    "start_time": "2022-10-11T14:28:55.591Z"
   },
   {
    "duration": 8,
    "start_time": "2022-10-11T14:28:55.598Z"
   },
   {
    "duration": 7,
    "start_time": "2022-10-11T14:28:55.608Z"
   },
   {
    "duration": 9,
    "start_time": "2022-10-11T14:28:55.616Z"
   },
   {
    "duration": 52,
    "start_time": "2022-10-11T14:28:55.626Z"
   },
   {
    "duration": 9,
    "start_time": "2022-10-11T14:28:55.680Z"
   },
   {
    "duration": 14,
    "start_time": "2022-10-11T14:28:55.690Z"
   },
   {
    "duration": 6,
    "start_time": "2022-10-11T14:28:55.705Z"
   },
   {
    "duration": 7,
    "start_time": "2022-10-11T14:28:55.712Z"
   },
   {
    "duration": 9,
    "start_time": "2022-10-11T14:28:55.720Z"
   },
   {
    "duration": 5,
    "start_time": "2022-10-11T14:28:55.731Z"
   },
   {
    "duration": 8,
    "start_time": "2022-10-11T14:28:55.739Z"
   },
   {
    "duration": 6,
    "start_time": "2022-10-11T14:28:55.748Z"
   },
   {
    "duration": 6,
    "start_time": "2022-10-11T14:28:55.755Z"
   },
   {
    "duration": 11,
    "start_time": "2022-10-11T14:28:55.762Z"
   },
   {
    "duration": 294,
    "start_time": "2022-10-11T14:28:55.774Z"
   },
   {
    "duration": 6,
    "start_time": "2022-10-11T14:28:56.069Z"
   },
   {
    "duration": 20,
    "start_time": "2022-10-11T14:28:56.077Z"
   },
   {
    "duration": 23,
    "start_time": "2022-10-11T14:28:56.099Z"
   },
   {
    "duration": 304,
    "start_time": "2022-10-11T14:28:56.124Z"
   },
   {
    "duration": 230,
    "start_time": "2022-10-11T14:28:56.430Z"
   },
   {
    "duration": 314,
    "start_time": "2022-10-11T14:28:56.661Z"
   },
   {
    "duration": 4,
    "start_time": "2022-10-11T14:28:56.976Z"
   },
   {
    "duration": 10,
    "start_time": "2022-10-11T14:28:56.981Z"
   },
   {
    "duration": 232,
    "start_time": "2022-10-11T14:28:56.992Z"
   },
   {
    "duration": 8,
    "start_time": "2022-10-11T14:28:57.225Z"
   },
   {
    "duration": 337,
    "start_time": "2022-10-11T14:28:57.235Z"
   },
   {
    "duration": 10,
    "start_time": "2022-10-11T14:28:57.574Z"
   },
   {
    "duration": 132,
    "start_time": "2022-10-11T14:28:57.585Z"
   },
   {
    "duration": 5,
    "start_time": "2022-10-11T14:28:57.719Z"
   },
   {
    "duration": 129,
    "start_time": "2022-10-11T14:28:57.726Z"
   },
   {
    "duration": 7,
    "start_time": "2022-10-11T14:28:57.857Z"
   },
   {
    "duration": 144,
    "start_time": "2022-10-11T14:28:57.865Z"
   },
   {
    "duration": 7,
    "start_time": "2022-10-11T14:28:58.010Z"
   },
   {
    "duration": 33,
    "start_time": "2022-10-11T14:28:58.019Z"
   },
   {
    "duration": 9,
    "start_time": "2022-10-11T14:28:58.054Z"
   },
   {
    "duration": 8,
    "start_time": "2022-10-11T14:28:58.064Z"
   },
   {
    "duration": 18,
    "start_time": "2022-10-11T14:28:58.073Z"
   },
   {
    "duration": 14,
    "start_time": "2022-10-11T14:28:58.095Z"
   },
   {
    "duration": 31,
    "start_time": "2022-10-11T14:28:58.111Z"
   },
   {
    "duration": 12,
    "start_time": "2022-10-11T14:28:58.143Z"
   },
   {
    "duration": 40,
    "start_time": "2022-10-11T14:34:02.043Z"
   },
   {
    "duration": 1256,
    "start_time": "2022-10-11T15:18:11.736Z"
   },
   {
    "duration": 66,
    "start_time": "2022-10-11T15:18:12.994Z"
   },
   {
    "duration": 6,
    "start_time": "2022-10-11T15:18:13.062Z"
   },
   {
    "duration": 27,
    "start_time": "2022-10-11T15:18:13.070Z"
   },
   {
    "duration": 19,
    "start_time": "2022-10-11T15:18:13.098Z"
   },
   {
    "duration": 34,
    "start_time": "2022-10-11T15:18:13.119Z"
   },
   {
    "duration": 155,
    "start_time": "2022-10-11T15:18:13.155Z"
   },
   {
    "duration": 9,
    "start_time": "2022-10-11T15:18:13.311Z"
   },
   {
    "duration": 34,
    "start_time": "2022-10-11T15:18:13.322Z"
   },
   {
    "duration": 25,
    "start_time": "2022-10-11T15:18:13.358Z"
   },
   {
    "duration": 20,
    "start_time": "2022-10-11T15:18:13.384Z"
   },
   {
    "duration": 51,
    "start_time": "2022-10-11T15:18:13.405Z"
   },
   {
    "duration": 21,
    "start_time": "2022-10-11T15:18:13.457Z"
   },
   {
    "duration": 23,
    "start_time": "2022-10-11T15:18:13.479Z"
   },
   {
    "duration": 22,
    "start_time": "2022-10-11T15:18:13.504Z"
   },
   {
    "duration": 34,
    "start_time": "2022-10-11T15:18:13.527Z"
   },
   {
    "duration": 19,
    "start_time": "2022-10-11T15:18:13.563Z"
   },
   {
    "duration": 290,
    "start_time": "2022-10-11T15:18:13.584Z"
   },
   {
    "duration": 7,
    "start_time": "2022-10-11T15:18:13.876Z"
   },
   {
    "duration": 23,
    "start_time": "2022-10-11T15:18:13.884Z"
   },
   {
    "duration": 55,
    "start_time": "2022-10-11T15:18:13.910Z"
   },
   {
    "duration": 327,
    "start_time": "2022-10-11T15:18:13.966Z"
   },
   {
    "duration": 248,
    "start_time": "2022-10-11T15:18:14.296Z"
   },
   {
    "duration": 337,
    "start_time": "2022-10-11T15:18:14.546Z"
   },
   {
    "duration": 5,
    "start_time": "2022-10-11T15:18:14.885Z"
   },
   {
    "duration": 30,
    "start_time": "2022-10-11T15:18:14.891Z"
   },
   {
    "duration": 259,
    "start_time": "2022-10-11T15:18:14.923Z"
   },
   {
    "duration": 7,
    "start_time": "2022-10-11T15:18:15.186Z"
   },
   {
    "duration": 359,
    "start_time": "2022-10-11T15:18:15.194Z"
   },
   {
    "duration": 11,
    "start_time": "2022-10-11T15:18:15.555Z"
   },
   {
    "duration": 151,
    "start_time": "2022-10-11T15:18:15.567Z"
   },
   {
    "duration": 4,
    "start_time": "2022-10-11T15:18:15.719Z"
   },
   {
    "duration": 127,
    "start_time": "2022-10-11T15:18:15.725Z"
   },
   {
    "duration": 5,
    "start_time": "2022-10-11T15:18:15.853Z"
   },
   {
    "duration": 167,
    "start_time": "2022-10-11T15:18:15.859Z"
   },
   {
    "duration": 8,
    "start_time": "2022-10-11T15:18:16.027Z"
   },
   {
    "duration": 27,
    "start_time": "2022-10-11T15:18:16.036Z"
   },
   {
    "duration": 10,
    "start_time": "2022-10-11T15:18:16.064Z"
   },
   {
    "duration": 8,
    "start_time": "2022-10-11T15:18:16.075Z"
   },
   {
    "duration": 26,
    "start_time": "2022-10-11T15:18:16.084Z"
   },
   {
    "duration": 14,
    "start_time": "2022-10-11T15:18:16.111Z"
   },
   {
    "duration": 29,
    "start_time": "2022-10-11T15:18:16.126Z"
   },
   {
    "duration": 12,
    "start_time": "2022-10-11T15:18:16.156Z"
   },
   {
    "duration": 6,
    "start_time": "2022-10-11T15:18:39.708Z"
   },
   {
    "duration": 6,
    "start_time": "2022-10-11T15:19:16.803Z"
   },
   {
    "duration": 6,
    "start_time": "2022-10-11T15:19:32.092Z"
   },
   {
    "duration": 6,
    "start_time": "2022-10-11T15:19:46.391Z"
   }
  ],
  "kernelspec": {
   "display_name": "Python 3 (ipykernel)",
   "language": "python",
   "name": "python3"
  },
  "language_info": {
   "codemirror_mode": {
    "name": "ipython",
    "version": 3
   },
   "file_extension": ".py",
   "mimetype": "text/x-python",
   "name": "python",
   "nbconvert_exporter": "python",
   "pygments_lexer": "ipython3",
   "version": "3.9.12"
  },
  "toc": {
   "base_numbering": 1,
   "nav_menu": {},
   "number_sections": true,
   "sideBar": true,
   "skip_h1_title": true,
   "title_cell": "Table of Contents",
   "title_sidebar": "Contents",
   "toc_cell": false,
   "toc_position": {},
   "toc_section_display": true,
   "toc_window_display": false
  }
 },
 "nbformat": 4,
 "nbformat_minor": 2
}
