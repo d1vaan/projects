{
 "cells": [
  {
   "cell_type": "markdown",
   "metadata": {},
   "source": [
    "# Определение перспективного тарифа для телеком-компании\n",
    "\n",
    "Мы аналитик компании «Мегалайн» — федерального оператора сотовой связи. Клиентам предлагают два тарифных плана: «Смарт» и «Ультра». Чтобы скорректировать рекламный бюджет, коммерческий департамент хочет понять, какой тариф приносит больше денег.\n",
    "\n",
    "Нам предстоит сделать предварительный анализ тарифов на небольшой выборке клиентов. В нашем распоряжении данные 500 пользователей «Мегалайна»: кто они, откуда, каким тарифом пользуются, сколько звонков и сообщений каждый отправил за 2018 год. Нужно проанализировать поведение клиентов и сделать вывод — какой тариф лучше.\n",
    "\n",
    "**Описание тарифов**\n",
    "\n",
    "**Тариф «Смарт»**\n",
    "1. Ежемесячная плата: 550 рублей\n",
    "2. Включено 500 минут разговора, 50 сообщений и 15 Гб интернет-трафика\n",
    "3. Стоимость услуг сверх тарифного пакета:\n",
    "*   минута разговора: 3 рубля\n",
    "*   сообщение: 3 рубля\n",
    "*   1 Гб интернет-трафика: 200 рублей\n",
    "\n",
    "**Тариф «Ультра»**\n",
    "1. Ежемесячная плата: 1950 рублей\n",
    "2. Включено 3000 минут разговора, 1000 сообщений и 30 Гб интернет-трафика\n",
    "3. Стоимость услуг сверх тарифного пакета:\n",
    "*   минута разговора: 1 рубль\n",
    "*   сообщение: 1 рубль\n",
    "*   1 Гб интернет-трафика: 150 рублей"
   ]
  },
  {
   "cell_type": "markdown",
   "metadata": {},
   "source": [
    "## Изучение данных из файлов"
   ]
  },
  {
   "cell_type": "code",
   "execution_count": 1,
   "metadata": {},
   "outputs": [],
   "source": [
    "# импорт всех необходимых библиотек для дальнейшей работы\n",
    "import pandas as pd\n",
    "import numpy as np\n",
    "import matplotlib as plt\n",
    "from scipy import stats as st"
   ]
  },
  {
   "cell_type": "code",
   "execution_count": 2,
   "metadata": {},
   "outputs": [],
   "source": [
    "# считываем .csv файлы с таблицами, записываем их в одноимённые переменные\n",
    "users = pd.read_csv('/datasets/users.csv')\n",
    "calls = pd.read_csv('/datasets/calls.csv')\n",
    "messages = pd.read_csv('/datasets/messages.csv')\n",
    "internet = pd.read_csv('/datasets/internet.csv')\n",
    "tariffs = pd.read_csv('/datasets/tariffs.csv')"
   ]
  },
  {
   "cell_type": "markdown",
   "metadata": {},
   "source": [
    "Поочерёдно выведем первые строки каждой таблицы и общую информацию о ней:"
   ]
  },
  {
   "cell_type": "code",
   "execution_count": 3,
   "metadata": {},
   "outputs": [
    {
     "data": {
      "text/html": [
       "<div>\n",
       "<style scoped>\n",
       "    .dataframe tbody tr th:only-of-type {\n",
       "        vertical-align: middle;\n",
       "    }\n",
       "\n",
       "    .dataframe tbody tr th {\n",
       "        vertical-align: top;\n",
       "    }\n",
       "\n",
       "    .dataframe thead th {\n",
       "        text-align: right;\n",
       "    }\n",
       "</style>\n",
       "<table border=\"1\" class=\"dataframe\">\n",
       "  <thead>\n",
       "    <tr style=\"text-align: right;\">\n",
       "      <th></th>\n",
       "      <th>user_id</th>\n",
       "      <th>age</th>\n",
       "      <th>churn_date</th>\n",
       "      <th>city</th>\n",
       "      <th>first_name</th>\n",
       "      <th>last_name</th>\n",
       "      <th>reg_date</th>\n",
       "      <th>tariff</th>\n",
       "    </tr>\n",
       "  </thead>\n",
       "  <tbody>\n",
       "    <tr>\n",
       "      <th>0</th>\n",
       "      <td>1000</td>\n",
       "      <td>52</td>\n",
       "      <td>NaN</td>\n",
       "      <td>Краснодар</td>\n",
       "      <td>Рафаил</td>\n",
       "      <td>Верещагин</td>\n",
       "      <td>2018-05-25</td>\n",
       "      <td>ultra</td>\n",
       "    </tr>\n",
       "    <tr>\n",
       "      <th>1</th>\n",
       "      <td>1001</td>\n",
       "      <td>41</td>\n",
       "      <td>NaN</td>\n",
       "      <td>Москва</td>\n",
       "      <td>Иван</td>\n",
       "      <td>Ежов</td>\n",
       "      <td>2018-11-01</td>\n",
       "      <td>smart</td>\n",
       "    </tr>\n",
       "    <tr>\n",
       "      <th>2</th>\n",
       "      <td>1002</td>\n",
       "      <td>59</td>\n",
       "      <td>NaN</td>\n",
       "      <td>Стерлитамак</td>\n",
       "      <td>Евгений</td>\n",
       "      <td>Абрамович</td>\n",
       "      <td>2018-06-17</td>\n",
       "      <td>smart</td>\n",
       "    </tr>\n",
       "    <tr>\n",
       "      <th>3</th>\n",
       "      <td>1003</td>\n",
       "      <td>23</td>\n",
       "      <td>NaN</td>\n",
       "      <td>Москва</td>\n",
       "      <td>Белла</td>\n",
       "      <td>Белякова</td>\n",
       "      <td>2018-08-17</td>\n",
       "      <td>ultra</td>\n",
       "    </tr>\n",
       "    <tr>\n",
       "      <th>4</th>\n",
       "      <td>1004</td>\n",
       "      <td>68</td>\n",
       "      <td>NaN</td>\n",
       "      <td>Новокузнецк</td>\n",
       "      <td>Татьяна</td>\n",
       "      <td>Авдеенко</td>\n",
       "      <td>2018-05-14</td>\n",
       "      <td>ultra</td>\n",
       "    </tr>\n",
       "    <tr>\n",
       "      <th>5</th>\n",
       "      <td>1005</td>\n",
       "      <td>67</td>\n",
       "      <td>NaN</td>\n",
       "      <td>Набережные Челны</td>\n",
       "      <td>Афанасий</td>\n",
       "      <td>Горлов</td>\n",
       "      <td>2018-01-25</td>\n",
       "      <td>smart</td>\n",
       "    </tr>\n",
       "    <tr>\n",
       "      <th>6</th>\n",
       "      <td>1006</td>\n",
       "      <td>21</td>\n",
       "      <td>NaN</td>\n",
       "      <td>Ульяновск</td>\n",
       "      <td>Леонид</td>\n",
       "      <td>Ермолаев</td>\n",
       "      <td>2018-02-26</td>\n",
       "      <td>smart</td>\n",
       "    </tr>\n",
       "    <tr>\n",
       "      <th>7</th>\n",
       "      <td>1007</td>\n",
       "      <td>65</td>\n",
       "      <td>NaN</td>\n",
       "      <td>Москва</td>\n",
       "      <td>Юна</td>\n",
       "      <td>Березина</td>\n",
       "      <td>2018-04-19</td>\n",
       "      <td>smart</td>\n",
       "    </tr>\n",
       "    <tr>\n",
       "      <th>8</th>\n",
       "      <td>1008</td>\n",
       "      <td>63</td>\n",
       "      <td>NaN</td>\n",
       "      <td>Челябинск</td>\n",
       "      <td>Рустэм</td>\n",
       "      <td>Пономарёв</td>\n",
       "      <td>2018-12-19</td>\n",
       "      <td>smart</td>\n",
       "    </tr>\n",
       "    <tr>\n",
       "      <th>9</th>\n",
       "      <td>1009</td>\n",
       "      <td>24</td>\n",
       "      <td>NaN</td>\n",
       "      <td>Пермь</td>\n",
       "      <td>Василиса</td>\n",
       "      <td>Блинова</td>\n",
       "      <td>2018-03-22</td>\n",
       "      <td>smart</td>\n",
       "    </tr>\n",
       "  </tbody>\n",
       "</table>\n",
       "</div>"
      ],
      "text/plain": [
       "   user_id  age churn_date              city first_name  last_name  \\\n",
       "0     1000   52        NaN         Краснодар     Рафаил  Верещагин   \n",
       "1     1001   41        NaN            Москва       Иван       Ежов   \n",
       "2     1002   59        NaN       Стерлитамак    Евгений  Абрамович   \n",
       "3     1003   23        NaN            Москва      Белла   Белякова   \n",
       "4     1004   68        NaN       Новокузнецк    Татьяна   Авдеенко   \n",
       "5     1005   67        NaN  Набережные Челны   Афанасий     Горлов   \n",
       "6     1006   21        NaN         Ульяновск     Леонид   Ермолаев   \n",
       "7     1007   65        NaN            Москва        Юна   Березина   \n",
       "8     1008   63        NaN         Челябинск     Рустэм  Пономарёв   \n",
       "9     1009   24        NaN             Пермь   Василиса    Блинова   \n",
       "\n",
       "     reg_date tariff  \n",
       "0  2018-05-25  ultra  \n",
       "1  2018-11-01  smart  \n",
       "2  2018-06-17  smart  \n",
       "3  2018-08-17  ultra  \n",
       "4  2018-05-14  ultra  \n",
       "5  2018-01-25  smart  \n",
       "6  2018-02-26  smart  \n",
       "7  2018-04-19  smart  \n",
       "8  2018-12-19  smart  \n",
       "9  2018-03-22  smart  "
      ]
     },
     "metadata": {},
     "output_type": "display_data"
    },
    {
     "name": "stdout",
     "output_type": "stream",
     "text": [
      "<class 'pandas.core.frame.DataFrame'>\n",
      "RangeIndex: 500 entries, 0 to 499\n",
      "Data columns (total 8 columns):\n",
      " #   Column      Non-Null Count  Dtype \n",
      "---  ------      --------------  ----- \n",
      " 0   user_id     500 non-null    int64 \n",
      " 1   age         500 non-null    int64 \n",
      " 2   churn_date  38 non-null     object\n",
      " 3   city        500 non-null    object\n",
      " 4   first_name  500 non-null    object\n",
      " 5   last_name   500 non-null    object\n",
      " 6   reg_date    500 non-null    object\n",
      " 7   tariff      500 non-null    object\n",
      "dtypes: int64(2), object(6)\n",
      "memory usage: 31.4+ KB\n"
     ]
    }
   ],
   "source": [
    "# выводим первые 10 строк и общую информацию таблицы 'users'\n",
    "display(users.head(10))\n",
    "users.info()"
   ]
  },
  {
   "cell_type": "markdown",
   "metadata": {},
   "source": [
    "Как можем видеть, данные имеют надлежащий вид. Отсутствуют необъяснимые пропуски данных. В таблице необходимо лишь заменить тип данных в столбце `reg_date` и `churn_date`.\n",
    "\n",
    "Информация по столбцам:\n",
    "* `user_id` — уникальный идентификатор пользователя\n",
    "* `first_name` — имя пользователя\n",
    "* `last_name` — фамилия пользователя\n",
    "* `age` — возраст пользователя (годы)\n",
    "* `reg_date` — дата подключения тарифа (день, месяц, год)\n",
    "* `churn_date` — дата прекращения пользования тарифом (если значение пропущено, то тариф ещё действовал на момент выгрузки данных)\n",
    "* `city` — город проживания пользователя\n",
    "* `tarif` — название тарифного плана"
   ]
  },
  {
   "cell_type": "code",
   "execution_count": 4,
   "metadata": {},
   "outputs": [
    {
     "data": {
      "text/html": [
       "<div>\n",
       "<style scoped>\n",
       "    .dataframe tbody tr th:only-of-type {\n",
       "        vertical-align: middle;\n",
       "    }\n",
       "\n",
       "    .dataframe tbody tr th {\n",
       "        vertical-align: top;\n",
       "    }\n",
       "\n",
       "    .dataframe thead th {\n",
       "        text-align: right;\n",
       "    }\n",
       "</style>\n",
       "<table border=\"1\" class=\"dataframe\">\n",
       "  <thead>\n",
       "    <tr style=\"text-align: right;\">\n",
       "      <th></th>\n",
       "      <th>id</th>\n",
       "      <th>call_date</th>\n",
       "      <th>duration</th>\n",
       "      <th>user_id</th>\n",
       "    </tr>\n",
       "  </thead>\n",
       "  <tbody>\n",
       "    <tr>\n",
       "      <th>0</th>\n",
       "      <td>1000_0</td>\n",
       "      <td>2018-07-25</td>\n",
       "      <td>0.00</td>\n",
       "      <td>1000</td>\n",
       "    </tr>\n",
       "    <tr>\n",
       "      <th>1</th>\n",
       "      <td>1000_1</td>\n",
       "      <td>2018-08-17</td>\n",
       "      <td>0.00</td>\n",
       "      <td>1000</td>\n",
       "    </tr>\n",
       "    <tr>\n",
       "      <th>2</th>\n",
       "      <td>1000_2</td>\n",
       "      <td>2018-06-11</td>\n",
       "      <td>2.85</td>\n",
       "      <td>1000</td>\n",
       "    </tr>\n",
       "    <tr>\n",
       "      <th>3</th>\n",
       "      <td>1000_3</td>\n",
       "      <td>2018-09-21</td>\n",
       "      <td>13.80</td>\n",
       "      <td>1000</td>\n",
       "    </tr>\n",
       "    <tr>\n",
       "      <th>4</th>\n",
       "      <td>1000_4</td>\n",
       "      <td>2018-12-15</td>\n",
       "      <td>5.18</td>\n",
       "      <td>1000</td>\n",
       "    </tr>\n",
       "    <tr>\n",
       "      <th>5</th>\n",
       "      <td>1000_5</td>\n",
       "      <td>2018-11-02</td>\n",
       "      <td>0.00</td>\n",
       "      <td>1000</td>\n",
       "    </tr>\n",
       "    <tr>\n",
       "      <th>6</th>\n",
       "      <td>1000_6</td>\n",
       "      <td>2018-10-18</td>\n",
       "      <td>0.00</td>\n",
       "      <td>1000</td>\n",
       "    </tr>\n",
       "    <tr>\n",
       "      <th>7</th>\n",
       "      <td>1000_7</td>\n",
       "      <td>2018-08-22</td>\n",
       "      <td>18.31</td>\n",
       "      <td>1000</td>\n",
       "    </tr>\n",
       "    <tr>\n",
       "      <th>8</th>\n",
       "      <td>1000_8</td>\n",
       "      <td>2018-09-15</td>\n",
       "      <td>18.44</td>\n",
       "      <td>1000</td>\n",
       "    </tr>\n",
       "    <tr>\n",
       "      <th>9</th>\n",
       "      <td>1000_9</td>\n",
       "      <td>2018-08-15</td>\n",
       "      <td>0.00</td>\n",
       "      <td>1000</td>\n",
       "    </tr>\n",
       "  </tbody>\n",
       "</table>\n",
       "</div>"
      ],
      "text/plain": [
       "       id   call_date  duration  user_id\n",
       "0  1000_0  2018-07-25      0.00     1000\n",
       "1  1000_1  2018-08-17      0.00     1000\n",
       "2  1000_2  2018-06-11      2.85     1000\n",
       "3  1000_3  2018-09-21     13.80     1000\n",
       "4  1000_4  2018-12-15      5.18     1000\n",
       "5  1000_5  2018-11-02      0.00     1000\n",
       "6  1000_6  2018-10-18      0.00     1000\n",
       "7  1000_7  2018-08-22     18.31     1000\n",
       "8  1000_8  2018-09-15     18.44     1000\n",
       "9  1000_9  2018-08-15      0.00     1000"
      ]
     },
     "metadata": {},
     "output_type": "display_data"
    },
    {
     "name": "stdout",
     "output_type": "stream",
     "text": [
      "<class 'pandas.core.frame.DataFrame'>\n",
      "RangeIndex: 202607 entries, 0 to 202606\n",
      "Data columns (total 4 columns):\n",
      " #   Column     Non-Null Count   Dtype  \n",
      "---  ------     --------------   -----  \n",
      " 0   id         202607 non-null  object \n",
      " 1   call_date  202607 non-null  object \n",
      " 2   duration   202607 non-null  float64\n",
      " 3   user_id    202607 non-null  int64  \n",
      "dtypes: float64(1), int64(1), object(2)\n",
      "memory usage: 6.2+ MB\n"
     ]
    }
   ],
   "source": [
    "# выводим первые 10 строк и общую информацию таблицы 'calls'\n",
    "display(calls.head(10))\n",
    "calls.info()"
   ]
  },
  {
   "cell_type": "markdown",
   "metadata": {},
   "source": [
    "В таблице отсутствуют пропущенные данные и в целом имеют удовлетворительный вид. Необходима лишь так же смена типа данных столбца `call_date`\n",
    "\n",
    "Информация по столбцам:\n",
    "* `id` — уникальный номер звонка\n",
    "* `call_date` — дата звонка\n",
    "* `duration` — длительность звонка в минутах\n",
    "* `user_id` — идентификатор пользователя, сделавшего звонок"
   ]
  },
  {
   "cell_type": "code",
   "execution_count": 5,
   "metadata": {},
   "outputs": [
    {
     "data": {
      "text/html": [
       "<div>\n",
       "<style scoped>\n",
       "    .dataframe tbody tr th:only-of-type {\n",
       "        vertical-align: middle;\n",
       "    }\n",
       "\n",
       "    .dataframe tbody tr th {\n",
       "        vertical-align: top;\n",
       "    }\n",
       "\n",
       "    .dataframe thead th {\n",
       "        text-align: right;\n",
       "    }\n",
       "</style>\n",
       "<table border=\"1\" class=\"dataframe\">\n",
       "  <thead>\n",
       "    <tr style=\"text-align: right;\">\n",
       "      <th></th>\n",
       "      <th>id</th>\n",
       "      <th>message_date</th>\n",
       "      <th>user_id</th>\n",
       "    </tr>\n",
       "  </thead>\n",
       "  <tbody>\n",
       "    <tr>\n",
       "      <th>0</th>\n",
       "      <td>1000_0</td>\n",
       "      <td>2018-06-27</td>\n",
       "      <td>1000</td>\n",
       "    </tr>\n",
       "    <tr>\n",
       "      <th>1</th>\n",
       "      <td>1000_1</td>\n",
       "      <td>2018-10-08</td>\n",
       "      <td>1000</td>\n",
       "    </tr>\n",
       "    <tr>\n",
       "      <th>2</th>\n",
       "      <td>1000_2</td>\n",
       "      <td>2018-08-04</td>\n",
       "      <td>1000</td>\n",
       "    </tr>\n",
       "    <tr>\n",
       "      <th>3</th>\n",
       "      <td>1000_3</td>\n",
       "      <td>2018-06-16</td>\n",
       "      <td>1000</td>\n",
       "    </tr>\n",
       "    <tr>\n",
       "      <th>4</th>\n",
       "      <td>1000_4</td>\n",
       "      <td>2018-12-05</td>\n",
       "      <td>1000</td>\n",
       "    </tr>\n",
       "    <tr>\n",
       "      <th>5</th>\n",
       "      <td>1000_5</td>\n",
       "      <td>2018-06-20</td>\n",
       "      <td>1000</td>\n",
       "    </tr>\n",
       "    <tr>\n",
       "      <th>6</th>\n",
       "      <td>1000_6</td>\n",
       "      <td>2018-11-19</td>\n",
       "      <td>1000</td>\n",
       "    </tr>\n",
       "    <tr>\n",
       "      <th>7</th>\n",
       "      <td>1000_7</td>\n",
       "      <td>2018-10-29</td>\n",
       "      <td>1000</td>\n",
       "    </tr>\n",
       "    <tr>\n",
       "      <th>8</th>\n",
       "      <td>1000_8</td>\n",
       "      <td>2018-06-25</td>\n",
       "      <td>1000</td>\n",
       "    </tr>\n",
       "    <tr>\n",
       "      <th>9</th>\n",
       "      <td>1000_9</td>\n",
       "      <td>2018-12-18</td>\n",
       "      <td>1000</td>\n",
       "    </tr>\n",
       "  </tbody>\n",
       "</table>\n",
       "</div>"
      ],
      "text/plain": [
       "       id message_date  user_id\n",
       "0  1000_0   2018-06-27     1000\n",
       "1  1000_1   2018-10-08     1000\n",
       "2  1000_2   2018-08-04     1000\n",
       "3  1000_3   2018-06-16     1000\n",
       "4  1000_4   2018-12-05     1000\n",
       "5  1000_5   2018-06-20     1000\n",
       "6  1000_6   2018-11-19     1000\n",
       "7  1000_7   2018-10-29     1000\n",
       "8  1000_8   2018-06-25     1000\n",
       "9  1000_9   2018-12-18     1000"
      ]
     },
     "metadata": {},
     "output_type": "display_data"
    },
    {
     "name": "stdout",
     "output_type": "stream",
     "text": [
      "<class 'pandas.core.frame.DataFrame'>\n",
      "RangeIndex: 123036 entries, 0 to 123035\n",
      "Data columns (total 3 columns):\n",
      " #   Column        Non-Null Count   Dtype \n",
      "---  ------        --------------   ----- \n",
      " 0   id            123036 non-null  object\n",
      " 1   message_date  123036 non-null  object\n",
      " 2   user_id       123036 non-null  int64 \n",
      "dtypes: int64(1), object(2)\n",
      "memory usage: 2.8+ MB\n"
     ]
    }
   ],
   "source": [
    "# выводим первые 10 строк и общую информацию таблицы 'messages'\n",
    "display(messages.head(10))\n",
    "messages.info()"
   ]
  },
  {
   "cell_type": "markdown",
   "metadata": {},
   "source": [
    "Отсутствуют пропуски, данные имеют надлежащий вид. Неодходимо лишь изменение типа данных столбца `message_date`\n",
    "\n",
    "Информация по столбцам: \n",
    "* `id` — уникальный номер сообщения\n",
    "* `message_date` — дата сообщения\n",
    "* `user_id` — идентификатор пользователя, отправившего сообщение"
   ]
  },
  {
   "cell_type": "code",
   "execution_count": 6,
   "metadata": {},
   "outputs": [
    {
     "data": {
      "text/html": [
       "<div>\n",
       "<style scoped>\n",
       "    .dataframe tbody tr th:only-of-type {\n",
       "        vertical-align: middle;\n",
       "    }\n",
       "\n",
       "    .dataframe tbody tr th {\n",
       "        vertical-align: top;\n",
       "    }\n",
       "\n",
       "    .dataframe thead th {\n",
       "        text-align: right;\n",
       "    }\n",
       "</style>\n",
       "<table border=\"1\" class=\"dataframe\">\n",
       "  <thead>\n",
       "    <tr style=\"text-align: right;\">\n",
       "      <th></th>\n",
       "      <th>Unnamed: 0</th>\n",
       "      <th>id</th>\n",
       "      <th>mb_used</th>\n",
       "      <th>session_date</th>\n",
       "      <th>user_id</th>\n",
       "    </tr>\n",
       "  </thead>\n",
       "  <tbody>\n",
       "    <tr>\n",
       "      <th>0</th>\n",
       "      <td>0</td>\n",
       "      <td>1000_0</td>\n",
       "      <td>112.95</td>\n",
       "      <td>2018-11-25</td>\n",
       "      <td>1000</td>\n",
       "    </tr>\n",
       "    <tr>\n",
       "      <th>1</th>\n",
       "      <td>1</td>\n",
       "      <td>1000_1</td>\n",
       "      <td>1052.81</td>\n",
       "      <td>2018-09-07</td>\n",
       "      <td>1000</td>\n",
       "    </tr>\n",
       "    <tr>\n",
       "      <th>2</th>\n",
       "      <td>2</td>\n",
       "      <td>1000_2</td>\n",
       "      <td>1197.26</td>\n",
       "      <td>2018-06-25</td>\n",
       "      <td>1000</td>\n",
       "    </tr>\n",
       "    <tr>\n",
       "      <th>3</th>\n",
       "      <td>3</td>\n",
       "      <td>1000_3</td>\n",
       "      <td>550.27</td>\n",
       "      <td>2018-08-22</td>\n",
       "      <td>1000</td>\n",
       "    </tr>\n",
       "    <tr>\n",
       "      <th>4</th>\n",
       "      <td>4</td>\n",
       "      <td>1000_4</td>\n",
       "      <td>302.56</td>\n",
       "      <td>2018-09-24</td>\n",
       "      <td>1000</td>\n",
       "    </tr>\n",
       "    <tr>\n",
       "      <th>5</th>\n",
       "      <td>5</td>\n",
       "      <td>1000_5</td>\n",
       "      <td>399.97</td>\n",
       "      <td>2018-10-02</td>\n",
       "      <td>1000</td>\n",
       "    </tr>\n",
       "    <tr>\n",
       "      <th>6</th>\n",
       "      <td>6</td>\n",
       "      <td>1000_6</td>\n",
       "      <td>540.08</td>\n",
       "      <td>2018-09-07</td>\n",
       "      <td>1000</td>\n",
       "    </tr>\n",
       "    <tr>\n",
       "      <th>7</th>\n",
       "      <td>7</td>\n",
       "      <td>1000_7</td>\n",
       "      <td>415.70</td>\n",
       "      <td>2018-07-11</td>\n",
       "      <td>1000</td>\n",
       "    </tr>\n",
       "    <tr>\n",
       "      <th>8</th>\n",
       "      <td>8</td>\n",
       "      <td>1000_8</td>\n",
       "      <td>505.40</td>\n",
       "      <td>2018-10-08</td>\n",
       "      <td>1000</td>\n",
       "    </tr>\n",
       "    <tr>\n",
       "      <th>9</th>\n",
       "      <td>9</td>\n",
       "      <td>1000_9</td>\n",
       "      <td>345.54</td>\n",
       "      <td>2018-09-03</td>\n",
       "      <td>1000</td>\n",
       "    </tr>\n",
       "  </tbody>\n",
       "</table>\n",
       "</div>"
      ],
      "text/plain": [
       "   Unnamed: 0      id  mb_used session_date  user_id\n",
       "0           0  1000_0   112.95   2018-11-25     1000\n",
       "1           1  1000_1  1052.81   2018-09-07     1000\n",
       "2           2  1000_2  1197.26   2018-06-25     1000\n",
       "3           3  1000_3   550.27   2018-08-22     1000\n",
       "4           4  1000_4   302.56   2018-09-24     1000\n",
       "5           5  1000_5   399.97   2018-10-02     1000\n",
       "6           6  1000_6   540.08   2018-09-07     1000\n",
       "7           7  1000_7   415.70   2018-07-11     1000\n",
       "8           8  1000_8   505.40   2018-10-08     1000\n",
       "9           9  1000_9   345.54   2018-09-03     1000"
      ]
     },
     "metadata": {},
     "output_type": "display_data"
    },
    {
     "name": "stdout",
     "output_type": "stream",
     "text": [
      "<class 'pandas.core.frame.DataFrame'>\n",
      "RangeIndex: 149396 entries, 0 to 149395\n",
      "Data columns (total 5 columns):\n",
      " #   Column        Non-Null Count   Dtype  \n",
      "---  ------        --------------   -----  \n",
      " 0   Unnamed: 0    149396 non-null  int64  \n",
      " 1   id            149396 non-null  object \n",
      " 2   mb_used       149396 non-null  float64\n",
      " 3   session_date  149396 non-null  object \n",
      " 4   user_id       149396 non-null  int64  \n",
      "dtypes: float64(1), int64(2), object(2)\n",
      "memory usage: 5.7+ MB\n"
     ]
    }
   ],
   "source": [
    "# выводим первые 10 строк и общую информацию таблицы 'internet'\n",
    "display(internet.head(10))\n",
    "internet.info()"
   ]
  },
  {
   "cell_type": "markdown",
   "metadata": {},
   "source": [
    "Имеется лишний столбец `Unnamed: 0`, который требует удаления. Так же необходима замена типа данных столбца `session_date`\n",
    "\n",
    "Информация по столбцам:\n",
    "* `id` — уникальный номер сессии\n",
    "* `mb_used` — объём потраченного за сессию интернет-трафика (в мегабайтах)\n",
    "* `session_date` — дата интернет-сессии\n",
    "* `user_id` — идентификатор пользователя"
   ]
  },
  {
   "cell_type": "code",
   "execution_count": 7,
   "metadata": {},
   "outputs": [
    {
     "data": {
      "text/html": [
       "<div>\n",
       "<style scoped>\n",
       "    .dataframe tbody tr th:only-of-type {\n",
       "        vertical-align: middle;\n",
       "    }\n",
       "\n",
       "    .dataframe tbody tr th {\n",
       "        vertical-align: top;\n",
       "    }\n",
       "\n",
       "    .dataframe thead th {\n",
       "        text-align: right;\n",
       "    }\n",
       "</style>\n",
       "<table border=\"1\" class=\"dataframe\">\n",
       "  <thead>\n",
       "    <tr style=\"text-align: right;\">\n",
       "      <th></th>\n",
       "      <th>messages_included</th>\n",
       "      <th>mb_per_month_included</th>\n",
       "      <th>minutes_included</th>\n",
       "      <th>rub_monthly_fee</th>\n",
       "      <th>rub_per_gb</th>\n",
       "      <th>rub_per_message</th>\n",
       "      <th>rub_per_minute</th>\n",
       "      <th>tariff_name</th>\n",
       "    </tr>\n",
       "  </thead>\n",
       "  <tbody>\n",
       "    <tr>\n",
       "      <th>0</th>\n",
       "      <td>50</td>\n",
       "      <td>15360</td>\n",
       "      <td>500</td>\n",
       "      <td>550</td>\n",
       "      <td>200</td>\n",
       "      <td>3</td>\n",
       "      <td>3</td>\n",
       "      <td>smart</td>\n",
       "    </tr>\n",
       "    <tr>\n",
       "      <th>1</th>\n",
       "      <td>1000</td>\n",
       "      <td>30720</td>\n",
       "      <td>3000</td>\n",
       "      <td>1950</td>\n",
       "      <td>150</td>\n",
       "      <td>1</td>\n",
       "      <td>1</td>\n",
       "      <td>ultra</td>\n",
       "    </tr>\n",
       "  </tbody>\n",
       "</table>\n",
       "</div>"
      ],
      "text/plain": [
       "   messages_included  mb_per_month_included  minutes_included  \\\n",
       "0                 50                  15360               500   \n",
       "1               1000                  30720              3000   \n",
       "\n",
       "   rub_monthly_fee  rub_per_gb  rub_per_message  rub_per_minute tariff_name  \n",
       "0              550         200                3               3       smart  \n",
       "1             1950         150                1               1       ultra  "
      ]
     },
     "metadata": {},
     "output_type": "display_data"
    },
    {
     "name": "stdout",
     "output_type": "stream",
     "text": [
      "<class 'pandas.core.frame.DataFrame'>\n",
      "RangeIndex: 2 entries, 0 to 1\n",
      "Data columns (total 8 columns):\n",
      " #   Column                 Non-Null Count  Dtype \n",
      "---  ------                 --------------  ----- \n",
      " 0   messages_included      2 non-null      int64 \n",
      " 1   mb_per_month_included  2 non-null      int64 \n",
      " 2   minutes_included       2 non-null      int64 \n",
      " 3   rub_monthly_fee        2 non-null      int64 \n",
      " 4   rub_per_gb             2 non-null      int64 \n",
      " 5   rub_per_message        2 non-null      int64 \n",
      " 6   rub_per_minute         2 non-null      int64 \n",
      " 7   tariff_name            2 non-null      object\n",
      "dtypes: int64(7), object(1)\n",
      "memory usage: 256.0+ bytes\n"
     ]
    }
   ],
   "source": [
    "# выводим первые 10 строк и общую информацию таблицы 'tariffs'\n",
    "display(tariffs.head())\n",
    "tariffs.info()"
   ]
  },
  {
   "cell_type": "markdown",
   "metadata": {},
   "source": [
    "Вся таблица имеет надлежащий вид.\n",
    "\n",
    "Информация по столбцам:\n",
    "* `tariff_name` — название тарифа\n",
    "* `rub_monthly_fee` — ежемесячная абонентская плата в рублях\n",
    "* `minutes_included` — количество минут разговора в месяц, включённых в абонентскую плату\n",
    "* `messages_included` — количество сообщений в месяц, включённых в абонентскую плату\n",
    "* `mb_per_month_included` — объём интернет-трафика, включённого в абонентскую плату (в мегабайтах)\n",
    "* `rub_per_minute` — стоимость минуты разговора сверх тарифного пакета (например, если в тарифе 100 минут разговора в месяц, то со 101 минуты будет взиматься плата)\n",
    "* `rub_per_message` — стоимость отправки сообщения сверх тарифного пакета\n",
    "* `rub_per_gb` — стоимость дополнительного гигабайта интернет-трафика сверх тарифного пакета (1 гигабайт = 1024 мегабайта)"
   ]
  },
  {
   "cell_type": "markdown",
   "metadata": {},
   "source": [
    "### Вывод"
   ]
  },
  {
   "cell_type": "markdown",
   "metadata": {},
   "source": [
    "В общем и целом можно заметить, что каждая таблица имеет удовлетворительный вид. Нет пропусков, все столбцы имеют надлежащее название. Необходима лишь смена типа данных, удаление столбца и дальнейший, более глубокий анализ."
   ]
  },
  {
   "cell_type": "markdown",
   "metadata": {},
   "source": [
    "## Предобработка данных"
   ]
  },
  {
   "cell_type": "markdown",
   "metadata": {},
   "source": [
    "Проведём предварительно обработку данных таблицы. Изменим тип данных, удалим или исправим ошибки в данных и добавим необходимую для анализа информацию."
   ]
  },
  {
   "cell_type": "markdown",
   "metadata": {},
   "source": [
    "### Изменение типа данных"
   ]
  },
  {
   "cell_type": "markdown",
   "metadata": {},
   "source": [
    "Изменим в указанных выше столбцах тип данных на `datetime64`."
   ]
  },
  {
   "cell_type": "code",
   "execution_count": 8,
   "metadata": {},
   "outputs": [],
   "source": [
    "users['churn_date'] = pd.to_datetime(users['churn_date'], format='%Y-%m-%d')\n",
    "\n",
    "users['reg_date'] = pd.to_datetime(users['reg_date'], format='%Y-%m-%d')\n",
    "\n",
    "calls['call_date'] = pd.to_datetime(calls['call_date'], format='%Y-%m-%d')\n",
    "\n",
    "messages['message_date'] = pd.to_datetime(messages['message_date'], format='%Y-%m-%d')\n",
    "\n",
    "internet['session_date'] = pd.to_datetime(internet['session_date'], format='%Y-%m-%d')"
   ]
  },
  {
   "cell_type": "markdown",
   "metadata": {},
   "source": [
    "Удаление лишнего столбца `Unnamed: 0` в таблице `internet`"
   ]
  },
  {
   "cell_type": "code",
   "execution_count": 9,
   "metadata": {},
   "outputs": [],
   "source": [
    "internet = internet.drop('Unnamed: 0', 1)"
   ]
  },
  {
   "cell_type": "markdown",
   "metadata": {},
   "source": [
    "### Подсчёт и внесение необходимых данных"
   ]
  },
  {
   "cell_type": "markdown",
   "metadata": {},
   "source": [
    "Для дальнейшего анализа нам необходимо подсчитать для каждого пользователя такие данные, как:\n",
    "* количество сделанных звонков и израсходованных минут разговора по месяцам;\n",
    "* количество отправленных сообщений по месяцам;\n",
    "* объем израсходованного интернет-трафика по месяцам;\n",
    "* помесячную выручку с каждого пользователя (вычтите бесплатный лимит из суммарного количества звонков, сообщений и интернет-трафика; остаток умножьте на значение из тарифного плана; прибавьте абонентскую плату, соответствующую тарифному плану)."
   ]
  },
  {
   "cell_type": "code",
   "execution_count": 10,
   "metadata": {},
   "outputs": [],
   "source": [
    "# добавляем к строке каждого звонка, веб-сессии и сообщения в какой месяц он был сделан\n",
    "calls['month'] = calls['call_date'].dt.month.astype('int')\n",
    "internet['month'] = internet['session_date'].dt.month.astype('int')\n",
    "messages['month'] = messages['message_date'].dt.month.astype('int')"
   ]
  },
  {
   "cell_type": "code",
   "execution_count": 11,
   "metadata": {},
   "outputs": [],
   "source": [
    "# делаем функцию <month> для перезаписи месяцев в строчный тип\n",
    "# на вход функция получает порядковое число месяца:\n",
    "def month_name(month_number):\n",
    "# если числовое значение месяца 1, то:\n",
    "    if month_number == 1:\n",
    "# месяц - 'january'\n",
    "        return 'january'\n",
    "# если числовое значение месяца 2, то:\n",
    "    if month_number == 2:\n",
    "# месяц - 'february'\n",
    "        return 'february'\n",
    "# если числовое значение месяца 3, то:\n",
    "    if month_number == 3:\n",
    "# месяц - 'march'\n",
    "        return 'march'\n",
    "# если числовое значение месяца 4, то:\n",
    "    if month_number == 4:\n",
    "# месяц - 'april'\n",
    "        return 'april'\n",
    "# если числовое значение месяца 5, то:\n",
    "    if month_number == 5:\n",
    "# месяц - 'may'\n",
    "        return 'may'\n",
    "# если числовое значение месяца 6, то:\n",
    "    if month_number == 6:\n",
    "# месяц - 'june'\n",
    "        return 'june'\n",
    "# если числовое значение месяца 7, то:\n",
    "    if month_number == 7:\n",
    "# месяц - 'july'\n",
    "        return 'july'\n",
    "# если числовое значение месяца 8, то:\n",
    "    if month_number == 8:\n",
    "# месяц - 'august'\n",
    "        return 'august'\n",
    "# если числовое значение месяца 9, то:\n",
    "    if month_number == 9:\n",
    "# месяц - 'september'\n",
    "        return 'september'\n",
    "# если числовое значение месяца 10, то:\n",
    "    if month_number == 10:\n",
    "# месяц - 'october'\n",
    "        return 'october'\n",
    "# если числовое значение месяца 11, то:\n",
    "    if month_number == 11:\n",
    "# месяц - 'november'\n",
    "        return 'november'\n",
    "# в ином случае месяц - 'december'\n",
    "    return 'december'"
   ]
  },
  {
   "cell_type": "code",
   "execution_count": 12,
   "metadata": {},
   "outputs": [],
   "source": [
    "# создаём функцию <real_call_time> для подсчёта, сколько реально минут списывается за звонок\n",
    "# на вход функция получает вещественное число:\n",
    "def real_call_time(call_time):\n",
    "# проверяем, если у длительности звонка остаток от деления на 1 не 0, то:\n",
    "    if ((call_time % 1) != 0 ):\n",
    "# делаем целочисленное деление длительности звонка и добавляем 1 минуту\n",
    "        return (call_time // 1) + 1\n",
    "# в ином случае продолжительность звонка прежняя\n",
    "    return call_time"
   ]
  },
  {
   "cell_type": "code",
   "execution_count": 13,
   "metadata": {},
   "outputs": [],
   "source": [
    "# с помощью созданных функций перезаписываем данные в столбцах `month` и `duration`\n",
    "\n",
    "calls['month'] = calls['month'].apply(month_name)\n",
    "internet['month'] = internet['month'].apply(month_name)\n",
    "messages['month'] = messages['month'].apply(month_name)\n",
    "calls['duration'] = calls['duration'].apply(real_call_time)"
   ]
  },
  {
   "cell_type": "markdown",
   "metadata": {},
   "source": [
    "Выведем первые 10 строк таблицы `calls` с изменёнными и добавленными данными:"
   ]
  },
  {
   "cell_type": "code",
   "execution_count": 14,
   "metadata": {},
   "outputs": [
    {
     "data": {
      "text/html": [
       "<div>\n",
       "<style scoped>\n",
       "    .dataframe tbody tr th:only-of-type {\n",
       "        vertical-align: middle;\n",
       "    }\n",
       "\n",
       "    .dataframe tbody tr th {\n",
       "        vertical-align: top;\n",
       "    }\n",
       "\n",
       "    .dataframe thead th {\n",
       "        text-align: right;\n",
       "    }\n",
       "</style>\n",
       "<table border=\"1\" class=\"dataframe\">\n",
       "  <thead>\n",
       "    <tr style=\"text-align: right;\">\n",
       "      <th></th>\n",
       "      <th>id</th>\n",
       "      <th>call_date</th>\n",
       "      <th>duration</th>\n",
       "      <th>user_id</th>\n",
       "      <th>month</th>\n",
       "    </tr>\n",
       "  </thead>\n",
       "  <tbody>\n",
       "    <tr>\n",
       "      <th>0</th>\n",
       "      <td>1000_0</td>\n",
       "      <td>2018-07-25</td>\n",
       "      <td>0.0</td>\n",
       "      <td>1000</td>\n",
       "      <td>july</td>\n",
       "    </tr>\n",
       "    <tr>\n",
       "      <th>1</th>\n",
       "      <td>1000_1</td>\n",
       "      <td>2018-08-17</td>\n",
       "      <td>0.0</td>\n",
       "      <td>1000</td>\n",
       "      <td>august</td>\n",
       "    </tr>\n",
       "    <tr>\n",
       "      <th>2</th>\n",
       "      <td>1000_2</td>\n",
       "      <td>2018-06-11</td>\n",
       "      <td>3.0</td>\n",
       "      <td>1000</td>\n",
       "      <td>june</td>\n",
       "    </tr>\n",
       "    <tr>\n",
       "      <th>3</th>\n",
       "      <td>1000_3</td>\n",
       "      <td>2018-09-21</td>\n",
       "      <td>14.0</td>\n",
       "      <td>1000</td>\n",
       "      <td>september</td>\n",
       "    </tr>\n",
       "    <tr>\n",
       "      <th>4</th>\n",
       "      <td>1000_4</td>\n",
       "      <td>2018-12-15</td>\n",
       "      <td>6.0</td>\n",
       "      <td>1000</td>\n",
       "      <td>december</td>\n",
       "    </tr>\n",
       "    <tr>\n",
       "      <th>5</th>\n",
       "      <td>1000_5</td>\n",
       "      <td>2018-11-02</td>\n",
       "      <td>0.0</td>\n",
       "      <td>1000</td>\n",
       "      <td>november</td>\n",
       "    </tr>\n",
       "    <tr>\n",
       "      <th>6</th>\n",
       "      <td>1000_6</td>\n",
       "      <td>2018-10-18</td>\n",
       "      <td>0.0</td>\n",
       "      <td>1000</td>\n",
       "      <td>october</td>\n",
       "    </tr>\n",
       "    <tr>\n",
       "      <th>7</th>\n",
       "      <td>1000_7</td>\n",
       "      <td>2018-08-22</td>\n",
       "      <td>19.0</td>\n",
       "      <td>1000</td>\n",
       "      <td>august</td>\n",
       "    </tr>\n",
       "    <tr>\n",
       "      <th>8</th>\n",
       "      <td>1000_8</td>\n",
       "      <td>2018-09-15</td>\n",
       "      <td>19.0</td>\n",
       "      <td>1000</td>\n",
       "      <td>september</td>\n",
       "    </tr>\n",
       "    <tr>\n",
       "      <th>9</th>\n",
       "      <td>1000_9</td>\n",
       "      <td>2018-08-15</td>\n",
       "      <td>0.0</td>\n",
       "      <td>1000</td>\n",
       "      <td>august</td>\n",
       "    </tr>\n",
       "  </tbody>\n",
       "</table>\n",
       "</div>"
      ],
      "text/plain": [
       "       id  call_date  duration  user_id      month\n",
       "0  1000_0 2018-07-25       0.0     1000       july\n",
       "1  1000_1 2018-08-17       0.0     1000     august\n",
       "2  1000_2 2018-06-11       3.0     1000       june\n",
       "3  1000_3 2018-09-21      14.0     1000  september\n",
       "4  1000_4 2018-12-15       6.0     1000   december\n",
       "5  1000_5 2018-11-02       0.0     1000   november\n",
       "6  1000_6 2018-10-18       0.0     1000    october\n",
       "7  1000_7 2018-08-22      19.0     1000     august\n",
       "8  1000_8 2018-09-15      19.0     1000  september\n",
       "9  1000_9 2018-08-15       0.0     1000     august"
      ]
     },
     "execution_count": 14,
     "metadata": {},
     "output_type": "execute_result"
    }
   ],
   "source": [
    "calls.head(10)"
   ]
  },
  {
   "cell_type": "markdown",
   "metadata": {},
   "source": [
    "С помощью сводных таблиц посчитаем помесячное потребление пользователями интернет-траффика, минут и сообщений:"
   ]
  },
  {
   "cell_type": "markdown",
   "metadata": {},
   "source": [
    "#### Подсчет количества и продолжительности звонков пользователей по месяцам"
   ]
  },
  {
   "cell_type": "code",
   "execution_count": 15,
   "metadata": {},
   "outputs": [
    {
     "data": {
      "text/html": [
       "<div>\n",
       "<style scoped>\n",
       "    .dataframe tbody tr th:only-of-type {\n",
       "        vertical-align: middle;\n",
       "    }\n",
       "\n",
       "    .dataframe tbody tr th {\n",
       "        vertical-align: top;\n",
       "    }\n",
       "\n",
       "    .dataframe thead th {\n",
       "        text-align: right;\n",
       "    }\n",
       "</style>\n",
       "<table border=\"1\" class=\"dataframe\">\n",
       "  <thead>\n",
       "    <tr style=\"text-align: right;\">\n",
       "      <th></th>\n",
       "      <th>user_id</th>\n",
       "      <th>month</th>\n",
       "      <th>calls_count</th>\n",
       "      <th>calls_sum</th>\n",
       "    </tr>\n",
       "  </thead>\n",
       "  <tbody>\n",
       "    <tr>\n",
       "      <th>0</th>\n",
       "      <td>1000</td>\n",
       "      <td>august</td>\n",
       "      <td>52</td>\n",
       "      <td>408.0</td>\n",
       "    </tr>\n",
       "    <tr>\n",
       "      <th>1</th>\n",
       "      <td>1000</td>\n",
       "      <td>december</td>\n",
       "      <td>46</td>\n",
       "      <td>333.0</td>\n",
       "    </tr>\n",
       "    <tr>\n",
       "      <th>2</th>\n",
       "      <td>1000</td>\n",
       "      <td>july</td>\n",
       "      <td>47</td>\n",
       "      <td>340.0</td>\n",
       "    </tr>\n",
       "    <tr>\n",
       "      <th>3</th>\n",
       "      <td>1000</td>\n",
       "      <td>june</td>\n",
       "      <td>43</td>\n",
       "      <td>172.0</td>\n",
       "    </tr>\n",
       "    <tr>\n",
       "      <th>4</th>\n",
       "      <td>1000</td>\n",
       "      <td>may</td>\n",
       "      <td>22</td>\n",
       "      <td>159.0</td>\n",
       "    </tr>\n",
       "    <tr>\n",
       "      <th>5</th>\n",
       "      <td>1000</td>\n",
       "      <td>november</td>\n",
       "      <td>43</td>\n",
       "      <td>338.0</td>\n",
       "    </tr>\n",
       "    <tr>\n",
       "      <th>6</th>\n",
       "      <td>1000</td>\n",
       "      <td>october</td>\n",
       "      <td>57</td>\n",
       "      <td>350.0</td>\n",
       "    </tr>\n",
       "    <tr>\n",
       "      <th>7</th>\n",
       "      <td>1000</td>\n",
       "      <td>september</td>\n",
       "      <td>58</td>\n",
       "      <td>466.0</td>\n",
       "    </tr>\n",
       "    <tr>\n",
       "      <th>8</th>\n",
       "      <td>1001</td>\n",
       "      <td>december</td>\n",
       "      <td>63</td>\n",
       "      <td>414.0</td>\n",
       "    </tr>\n",
       "    <tr>\n",
       "      <th>9</th>\n",
       "      <td>1001</td>\n",
       "      <td>november</td>\n",
       "      <td>59</td>\n",
       "      <td>430.0</td>\n",
       "    </tr>\n",
       "  </tbody>\n",
       "</table>\n",
       "</div>"
      ],
      "text/plain": [
       "   user_id      month  calls_count  calls_sum\n",
       "0     1000     august           52      408.0\n",
       "1     1000   december           46      333.0\n",
       "2     1000       july           47      340.0\n",
       "3     1000       june           43      172.0\n",
       "4     1000        may           22      159.0\n",
       "5     1000   november           43      338.0\n",
       "6     1000    october           57      350.0\n",
       "7     1000  september           58      466.0\n",
       "8     1001   december           63      414.0\n",
       "9     1001   november           59      430.0"
      ]
     },
     "execution_count": 15,
     "metadata": {},
     "output_type": "execute_result"
    }
   ],
   "source": [
    "# делаем сводную таблицу с индексом в виде ID пользователя и подсчётом кол-ва израсходованных минут в каждом месяце\n",
    "calls_pivot = pd.pivot_table(calls,\n",
    "                             index=['user_id', 'month'],\n",
    "                             values='duration',\n",
    "                             aggfunc=('sum', 'count')\n",
    "                            ).reset_index()\n",
    "\n",
    "calls_pivot = calls_pivot.rename(columns = {'count':'calls_count',\n",
    "                                            'sum':'calls_sum'}\n",
    "                                )\n",
    "\n",
    "calls_pivot.head(10)"
   ]
  },
  {
   "cell_type": "markdown",
   "metadata": {},
   "source": [
    "#### Подсчет количества используемого интернет-траффика в месяц"
   ]
  },
  {
   "cell_type": "code",
   "execution_count": 16,
   "metadata": {},
   "outputs": [
    {
     "data": {
      "text/html": [
       "<div>\n",
       "<style scoped>\n",
       "    .dataframe tbody tr th:only-of-type {\n",
       "        vertical-align: middle;\n",
       "    }\n",
       "\n",
       "    .dataframe tbody tr th {\n",
       "        vertical-align: top;\n",
       "    }\n",
       "\n",
       "    .dataframe thead th {\n",
       "        text-align: right;\n",
       "    }\n",
       "</style>\n",
       "<table border=\"1\" class=\"dataframe\">\n",
       "  <thead>\n",
       "    <tr style=\"text-align: right;\">\n",
       "      <th></th>\n",
       "      <th>user_id</th>\n",
       "      <th>month</th>\n",
       "      <th>mb_used</th>\n",
       "    </tr>\n",
       "  </thead>\n",
       "  <tbody>\n",
       "    <tr>\n",
       "      <th>0</th>\n",
       "      <td>1000</td>\n",
       "      <td>august</td>\n",
       "      <td>14055.93</td>\n",
       "    </tr>\n",
       "    <tr>\n",
       "      <th>1</th>\n",
       "      <td>1000</td>\n",
       "      <td>december</td>\n",
       "      <td>9817.61</td>\n",
       "    </tr>\n",
       "    <tr>\n",
       "      <th>2</th>\n",
       "      <td>1000</td>\n",
       "      <td>july</td>\n",
       "      <td>14003.64</td>\n",
       "    </tr>\n",
       "    <tr>\n",
       "      <th>3</th>\n",
       "      <td>1000</td>\n",
       "      <td>june</td>\n",
       "      <td>23233.77</td>\n",
       "    </tr>\n",
       "    <tr>\n",
       "      <th>4</th>\n",
       "      <td>1000</td>\n",
       "      <td>may</td>\n",
       "      <td>2253.49</td>\n",
       "    </tr>\n",
       "    <tr>\n",
       "      <th>5</th>\n",
       "      <td>1000</td>\n",
       "      <td>november</td>\n",
       "      <td>14756.47</td>\n",
       "    </tr>\n",
       "    <tr>\n",
       "      <th>6</th>\n",
       "      <td>1000</td>\n",
       "      <td>october</td>\n",
       "      <td>14702.49</td>\n",
       "    </tr>\n",
       "    <tr>\n",
       "      <th>7</th>\n",
       "      <td>1000</td>\n",
       "      <td>september</td>\n",
       "      <td>14568.91</td>\n",
       "    </tr>\n",
       "    <tr>\n",
       "      <th>8</th>\n",
       "      <td>1001</td>\n",
       "      <td>december</td>\n",
       "      <td>14036.66</td>\n",
       "    </tr>\n",
       "    <tr>\n",
       "      <th>9</th>\n",
       "      <td>1001</td>\n",
       "      <td>november</td>\n",
       "      <td>18429.34</td>\n",
       "    </tr>\n",
       "  </tbody>\n",
       "</table>\n",
       "</div>"
      ],
      "text/plain": [
       "   user_id      month   mb_used\n",
       "0     1000     august  14055.93\n",
       "1     1000   december   9817.61\n",
       "2     1000       july  14003.64\n",
       "3     1000       june  23233.77\n",
       "4     1000        may   2253.49\n",
       "5     1000   november  14756.47\n",
       "6     1000    october  14702.49\n",
       "7     1000  september  14568.91\n",
       "8     1001   december  14036.66\n",
       "9     1001   november  18429.34"
      ]
     },
     "execution_count": 16,
     "metadata": {},
     "output_type": "execute_result"
    }
   ],
   "source": [
    "# делаем сводную таблицу с помесячным подсчетом общего объёма интернет-сессий для каждого пользователя\n",
    "internet_pivot = pd.pivot_table(internet,\n",
    "                                index=['user_id','month'],\n",
    "                                values='mb_used',\n",
    "                                aggfunc='sum'\n",
    "                               ).reset_index()\n",
    "\n",
    "internet_pivot.head(10)"
   ]
  },
  {
   "cell_type": "markdown",
   "metadata": {},
   "source": [
    "Учитывая условия подсчета общей суммы веб-сессий в месяц, округлим значения до круглых Гб:"
   ]
  },
  {
   "cell_type": "code",
   "execution_count": 17,
   "metadata": {},
   "outputs": [],
   "source": [
    "# создаём функцию <right_mb_used> для подсчета верного кол-ва израсходованного траффика по тарифу\n",
    "# функция получает на вход кол-во израсходованного траффика\n",
    "def right_internet_used(mb_used):\n",
    "# если использованные Мб нельзя округлить до целых Гб, то:\n",
    "    if ((mb_used % 1024) != 0):\n",
    "# перевести в Мб в Гб и добавить еденицу\n",
    "        return mb_used - (mb_used % 1024) + 1024\n",
    "# иначе просто перевести Мб в Гб\n",
    "    return mb_used"
   ]
  },
  {
   "cell_type": "code",
   "execution_count": 18,
   "metadata": {},
   "outputs": [
    {
     "data": {
      "text/html": [
       "<div>\n",
       "<style scoped>\n",
       "    .dataframe tbody tr th:only-of-type {\n",
       "        vertical-align: middle;\n",
       "    }\n",
       "\n",
       "    .dataframe tbody tr th {\n",
       "        vertical-align: top;\n",
       "    }\n",
       "\n",
       "    .dataframe thead th {\n",
       "        text-align: right;\n",
       "    }\n",
       "</style>\n",
       "<table border=\"1\" class=\"dataframe\">\n",
       "  <thead>\n",
       "    <tr style=\"text-align: right;\">\n",
       "      <th></th>\n",
       "      <th>user_id</th>\n",
       "      <th>month</th>\n",
       "      <th>mb_used</th>\n",
       "    </tr>\n",
       "  </thead>\n",
       "  <tbody>\n",
       "    <tr>\n",
       "      <th>0</th>\n",
       "      <td>1000</td>\n",
       "      <td>august</td>\n",
       "      <td>14336.0</td>\n",
       "    </tr>\n",
       "    <tr>\n",
       "      <th>1</th>\n",
       "      <td>1000</td>\n",
       "      <td>december</td>\n",
       "      <td>10240.0</td>\n",
       "    </tr>\n",
       "    <tr>\n",
       "      <th>2</th>\n",
       "      <td>1000</td>\n",
       "      <td>july</td>\n",
       "      <td>14336.0</td>\n",
       "    </tr>\n",
       "    <tr>\n",
       "      <th>3</th>\n",
       "      <td>1000</td>\n",
       "      <td>june</td>\n",
       "      <td>23552.0</td>\n",
       "    </tr>\n",
       "    <tr>\n",
       "      <th>4</th>\n",
       "      <td>1000</td>\n",
       "      <td>may</td>\n",
       "      <td>3072.0</td>\n",
       "    </tr>\n",
       "    <tr>\n",
       "      <th>5</th>\n",
       "      <td>1000</td>\n",
       "      <td>november</td>\n",
       "      <td>15360.0</td>\n",
       "    </tr>\n",
       "    <tr>\n",
       "      <th>6</th>\n",
       "      <td>1000</td>\n",
       "      <td>october</td>\n",
       "      <td>15360.0</td>\n",
       "    </tr>\n",
       "    <tr>\n",
       "      <th>7</th>\n",
       "      <td>1000</td>\n",
       "      <td>september</td>\n",
       "      <td>15360.0</td>\n",
       "    </tr>\n",
       "    <tr>\n",
       "      <th>8</th>\n",
       "      <td>1001</td>\n",
       "      <td>december</td>\n",
       "      <td>14336.0</td>\n",
       "    </tr>\n",
       "    <tr>\n",
       "      <th>9</th>\n",
       "      <td>1001</td>\n",
       "      <td>november</td>\n",
       "      <td>18432.0</td>\n",
       "    </tr>\n",
       "  </tbody>\n",
       "</table>\n",
       "</div>"
      ],
      "text/plain": [
       "   user_id      month  mb_used\n",
       "0     1000     august  14336.0\n",
       "1     1000   december  10240.0\n",
       "2     1000       july  14336.0\n",
       "3     1000       june  23552.0\n",
       "4     1000        may   3072.0\n",
       "5     1000   november  15360.0\n",
       "6     1000    october  15360.0\n",
       "7     1000  september  15360.0\n",
       "8     1001   december  14336.0\n",
       "9     1001   november  18432.0"
      ]
     },
     "execution_count": 18,
     "metadata": {},
     "output_type": "execute_result"
    }
   ],
   "source": [
    "# применим написанную функцию к столбцу `mb_used`\n",
    "internet_pivot['mb_used'] = internet_pivot['mb_used'].apply(right_internet_used)\n",
    "\n",
    "internet_pivot.head(10)"
   ]
  },
  {
   "cell_type": "markdown",
   "metadata": {},
   "source": [
    "#### Подсчет количества исходящих сообщений по месяцам"
   ]
  },
  {
   "cell_type": "code",
   "execution_count": 19,
   "metadata": {},
   "outputs": [
    {
     "data": {
      "text/html": [
       "<div>\n",
       "<style scoped>\n",
       "    .dataframe tbody tr th:only-of-type {\n",
       "        vertical-align: middle;\n",
       "    }\n",
       "\n",
       "    .dataframe tbody tr th {\n",
       "        vertical-align: top;\n",
       "    }\n",
       "\n",
       "    .dataframe thead th {\n",
       "        text-align: right;\n",
       "    }\n",
       "</style>\n",
       "<table border=\"1\" class=\"dataframe\">\n",
       "  <thead>\n",
       "    <tr style=\"text-align: right;\">\n",
       "      <th></th>\n",
       "      <th>user_id</th>\n",
       "      <th>month</th>\n",
       "      <th>count_messages</th>\n",
       "    </tr>\n",
       "  </thead>\n",
       "  <tbody>\n",
       "    <tr>\n",
       "      <th>0</th>\n",
       "      <td>1000</td>\n",
       "      <td>august</td>\n",
       "      <td>81</td>\n",
       "    </tr>\n",
       "    <tr>\n",
       "      <th>1</th>\n",
       "      <td>1000</td>\n",
       "      <td>december</td>\n",
       "      <td>70</td>\n",
       "    </tr>\n",
       "    <tr>\n",
       "      <th>2</th>\n",
       "      <td>1000</td>\n",
       "      <td>july</td>\n",
       "      <td>75</td>\n",
       "    </tr>\n",
       "    <tr>\n",
       "      <th>3</th>\n",
       "      <td>1000</td>\n",
       "      <td>june</td>\n",
       "      <td>60</td>\n",
       "    </tr>\n",
       "    <tr>\n",
       "      <th>4</th>\n",
       "      <td>1000</td>\n",
       "      <td>may</td>\n",
       "      <td>22</td>\n",
       "    </tr>\n",
       "    <tr>\n",
       "      <th>5</th>\n",
       "      <td>1000</td>\n",
       "      <td>november</td>\n",
       "      <td>58</td>\n",
       "    </tr>\n",
       "    <tr>\n",
       "      <th>6</th>\n",
       "      <td>1000</td>\n",
       "      <td>october</td>\n",
       "      <td>73</td>\n",
       "    </tr>\n",
       "    <tr>\n",
       "      <th>7</th>\n",
       "      <td>1000</td>\n",
       "      <td>september</td>\n",
       "      <td>57</td>\n",
       "    </tr>\n",
       "    <tr>\n",
       "      <th>8</th>\n",
       "      <td>1002</td>\n",
       "      <td>august</td>\n",
       "      <td>13</td>\n",
       "    </tr>\n",
       "    <tr>\n",
       "      <th>9</th>\n",
       "      <td>1002</td>\n",
       "      <td>december</td>\n",
       "      <td>12</td>\n",
       "    </tr>\n",
       "  </tbody>\n",
       "</table>\n",
       "</div>"
      ],
      "text/plain": [
       "   user_id      month  count_messages\n",
       "0     1000     august              81\n",
       "1     1000   december              70\n",
       "2     1000       july              75\n",
       "3     1000       june              60\n",
       "4     1000        may              22\n",
       "5     1000   november              58\n",
       "6     1000    october              73\n",
       "7     1000  september              57\n",
       "8     1002     august              13\n",
       "9     1002   december              12"
      ]
     },
     "execution_count": 19,
     "metadata": {},
     "output_type": "execute_result"
    }
   ],
   "source": [
    "# делаем сводную таблицу с помесячным подсчетом исходящих сообщений для каждого пользователя\n",
    "messages_pivot = pd.pivot_table(messages,\n",
    "                                index=['user_id', 'month'],\n",
    "                                values='id',\n",
    "                                aggfunc='count'\n",
    "                               ).rename(columns = {'id':'count_messages'}\n",
    "                               ).reset_index()\n",
    "\n",
    "messages_pivot.head(10)"
   ]
  },
  {
   "cell_type": "markdown",
   "metadata": {},
   "source": [
    "#### Общая таблица с подсчетами"
   ]
  },
  {
   "cell_type": "code",
   "execution_count": 20,
   "metadata": {},
   "outputs": [
    {
     "data": {
      "text/html": [
       "<div>\n",
       "<style scoped>\n",
       "    .dataframe tbody tr th:only-of-type {\n",
       "        vertical-align: middle;\n",
       "    }\n",
       "\n",
       "    .dataframe tbody tr th {\n",
       "        vertical-align: top;\n",
       "    }\n",
       "\n",
       "    .dataframe thead th {\n",
       "        text-align: right;\n",
       "    }\n",
       "</style>\n",
       "<table border=\"1\" class=\"dataframe\">\n",
       "  <thead>\n",
       "    <tr style=\"text-align: right;\">\n",
       "      <th></th>\n",
       "      <th>user_id</th>\n",
       "      <th>month</th>\n",
       "      <th>calls_count</th>\n",
       "      <th>calls_sum</th>\n",
       "      <th>mb_used</th>\n",
       "      <th>count_messages</th>\n",
       "    </tr>\n",
       "  </thead>\n",
       "  <tbody>\n",
       "    <tr>\n",
       "      <th>0</th>\n",
       "      <td>1000</td>\n",
       "      <td>august</td>\n",
       "      <td>52.0</td>\n",
       "      <td>408.0</td>\n",
       "      <td>14336.0</td>\n",
       "      <td>81.0</td>\n",
       "    </tr>\n",
       "    <tr>\n",
       "      <th>1</th>\n",
       "      <td>1000</td>\n",
       "      <td>december</td>\n",
       "      <td>46.0</td>\n",
       "      <td>333.0</td>\n",
       "      <td>10240.0</td>\n",
       "      <td>70.0</td>\n",
       "    </tr>\n",
       "    <tr>\n",
       "      <th>2</th>\n",
       "      <td>1000</td>\n",
       "      <td>july</td>\n",
       "      <td>47.0</td>\n",
       "      <td>340.0</td>\n",
       "      <td>14336.0</td>\n",
       "      <td>75.0</td>\n",
       "    </tr>\n",
       "    <tr>\n",
       "      <th>3</th>\n",
       "      <td>1000</td>\n",
       "      <td>june</td>\n",
       "      <td>43.0</td>\n",
       "      <td>172.0</td>\n",
       "      <td>23552.0</td>\n",
       "      <td>60.0</td>\n",
       "    </tr>\n",
       "    <tr>\n",
       "      <th>4</th>\n",
       "      <td>1000</td>\n",
       "      <td>may</td>\n",
       "      <td>22.0</td>\n",
       "      <td>159.0</td>\n",
       "      <td>3072.0</td>\n",
       "      <td>22.0</td>\n",
       "    </tr>\n",
       "    <tr>\n",
       "      <th>5</th>\n",
       "      <td>1000</td>\n",
       "      <td>november</td>\n",
       "      <td>43.0</td>\n",
       "      <td>338.0</td>\n",
       "      <td>15360.0</td>\n",
       "      <td>58.0</td>\n",
       "    </tr>\n",
       "    <tr>\n",
       "      <th>6</th>\n",
       "      <td>1000</td>\n",
       "      <td>october</td>\n",
       "      <td>57.0</td>\n",
       "      <td>350.0</td>\n",
       "      <td>15360.0</td>\n",
       "      <td>73.0</td>\n",
       "    </tr>\n",
       "    <tr>\n",
       "      <th>7</th>\n",
       "      <td>1000</td>\n",
       "      <td>september</td>\n",
       "      <td>58.0</td>\n",
       "      <td>466.0</td>\n",
       "      <td>15360.0</td>\n",
       "      <td>57.0</td>\n",
       "    </tr>\n",
       "    <tr>\n",
       "      <th>8</th>\n",
       "      <td>1001</td>\n",
       "      <td>december</td>\n",
       "      <td>63.0</td>\n",
       "      <td>414.0</td>\n",
       "      <td>14336.0</td>\n",
       "      <td>NaN</td>\n",
       "    </tr>\n",
       "    <tr>\n",
       "      <th>9</th>\n",
       "      <td>1001</td>\n",
       "      <td>november</td>\n",
       "      <td>59.0</td>\n",
       "      <td>430.0</td>\n",
       "      <td>18432.0</td>\n",
       "      <td>NaN</td>\n",
       "    </tr>\n",
       "  </tbody>\n",
       "</table>\n",
       "</div>"
      ],
      "text/plain": [
       "   user_id      month  calls_count  calls_sum  mb_used  count_messages\n",
       "0     1000     august         52.0      408.0  14336.0            81.0\n",
       "1     1000   december         46.0      333.0  10240.0            70.0\n",
       "2     1000       july         47.0      340.0  14336.0            75.0\n",
       "3     1000       june         43.0      172.0  23552.0            60.0\n",
       "4     1000        may         22.0      159.0   3072.0            22.0\n",
       "5     1000   november         43.0      338.0  15360.0            58.0\n",
       "6     1000    october         57.0      350.0  15360.0            73.0\n",
       "7     1000  september         58.0      466.0  15360.0            57.0\n",
       "8     1001   december         63.0      414.0  14336.0             NaN\n",
       "9     1001   november         59.0      430.0  18432.0             NaN"
      ]
     },
     "execution_count": 20,
     "metadata": {},
     "output_type": "execute_result"
    }
   ],
   "source": [
    "# при помощи метода <merge> объединяем все сводные таблицы в одну\n",
    "monthly_users_spending = pd.merge(calls_pivot,\n",
    "                                  internet_pivot,\n",
    "                                  on=('user_id', 'month'),\n",
    "                                  how='outer')\n",
    "\n",
    "monthly_users_spending = pd.merge(monthly_users_spending,\n",
    "                                  messages_pivot,\n",
    "                                  on=('user_id', 'month'),\n",
    "                                  how='outer')\n",
    "\n",
    "monthly_users_spending.head(10)"
   ]
  },
  {
   "cell_type": "code",
   "execution_count": 21,
   "metadata": {},
   "outputs": [
    {
     "name": "stdout",
     "output_type": "stream",
     "text": [
      "<class 'pandas.core.frame.DataFrame'>\n",
      "Int64Index: 3214 entries, 0 to 3213\n",
      "Data columns (total 6 columns):\n",
      " #   Column          Non-Null Count  Dtype  \n",
      "---  ------          --------------  -----  \n",
      " 0   user_id         3214 non-null   int64  \n",
      " 1   month           3214 non-null   object \n",
      " 2   calls_count     3174 non-null   float64\n",
      " 3   calls_sum       3174 non-null   float64\n",
      " 4   mb_used         3203 non-null   float64\n",
      " 5   count_messages  2717 non-null   float64\n",
      "dtypes: float64(4), int64(1), object(1)\n",
      "memory usage: 175.8+ KB\n"
     ]
    }
   ],
   "source": [
    "monthly_users_spending.info()"
   ]
  },
  {
   "cell_type": "markdown",
   "metadata": {},
   "source": [
    "Заполним все пропуски нулевыми значениями:"
   ]
  },
  {
   "cell_type": "code",
   "execution_count": 22,
   "metadata": {},
   "outputs": [],
   "source": [
    "monthly_users_spending = monthly_users_spending.fillna(0)"
   ]
  },
  {
   "cell_type": "code",
   "execution_count": 23,
   "metadata": {},
   "outputs": [
    {
     "data": {
      "text/plain": [
       "user_id           0\n",
       "month             0\n",
       "calls_count       0\n",
       "calls_sum         0\n",
       "mb_used           0\n",
       "count_messages    0\n",
       "dtype: int64"
      ]
     },
     "execution_count": 23,
     "metadata": {},
     "output_type": "execute_result"
    }
   ],
   "source": [
    "monthly_users_spending.isna().sum()"
   ]
  },
  {
   "cell_type": "markdown",
   "metadata": {},
   "source": [
    "Объеденим таблицы `users` и `monthly_users_spending` для отображения в единой таблице полной информации помесячных расходов пользователями."
   ]
  },
  {
   "cell_type": "code",
   "execution_count": 24,
   "metadata": {},
   "outputs": [
    {
     "data": {
      "text/html": [
       "<div>\n",
       "<style scoped>\n",
       "    .dataframe tbody tr th:only-of-type {\n",
       "        vertical-align: middle;\n",
       "    }\n",
       "\n",
       "    .dataframe tbody tr th {\n",
       "        vertical-align: top;\n",
       "    }\n",
       "\n",
       "    .dataframe thead th {\n",
       "        text-align: right;\n",
       "    }\n",
       "</style>\n",
       "<table border=\"1\" class=\"dataframe\">\n",
       "  <thead>\n",
       "    <tr style=\"text-align: right;\">\n",
       "      <th></th>\n",
       "      <th>user_id</th>\n",
       "      <th>month</th>\n",
       "      <th>calls_count</th>\n",
       "      <th>calls_sum</th>\n",
       "      <th>mb_used</th>\n",
       "      <th>count_messages</th>\n",
       "    </tr>\n",
       "  </thead>\n",
       "  <tbody>\n",
       "    <tr>\n",
       "      <th>0</th>\n",
       "      <td>1000</td>\n",
       "      <td>august</td>\n",
       "      <td>52.0</td>\n",
       "      <td>408.0</td>\n",
       "      <td>14336.0</td>\n",
       "      <td>81.0</td>\n",
       "    </tr>\n",
       "    <tr>\n",
       "      <th>1</th>\n",
       "      <td>1000</td>\n",
       "      <td>december</td>\n",
       "      <td>46.0</td>\n",
       "      <td>333.0</td>\n",
       "      <td>10240.0</td>\n",
       "      <td>70.0</td>\n",
       "    </tr>\n",
       "    <tr>\n",
       "      <th>2</th>\n",
       "      <td>1000</td>\n",
       "      <td>july</td>\n",
       "      <td>47.0</td>\n",
       "      <td>340.0</td>\n",
       "      <td>14336.0</td>\n",
       "      <td>75.0</td>\n",
       "    </tr>\n",
       "    <tr>\n",
       "      <th>3</th>\n",
       "      <td>1000</td>\n",
       "      <td>june</td>\n",
       "      <td>43.0</td>\n",
       "      <td>172.0</td>\n",
       "      <td>23552.0</td>\n",
       "      <td>60.0</td>\n",
       "    </tr>\n",
       "    <tr>\n",
       "      <th>4</th>\n",
       "      <td>1000</td>\n",
       "      <td>may</td>\n",
       "      <td>22.0</td>\n",
       "      <td>159.0</td>\n",
       "      <td>3072.0</td>\n",
       "      <td>22.0</td>\n",
       "    </tr>\n",
       "    <tr>\n",
       "      <th>5</th>\n",
       "      <td>1000</td>\n",
       "      <td>november</td>\n",
       "      <td>43.0</td>\n",
       "      <td>338.0</td>\n",
       "      <td>15360.0</td>\n",
       "      <td>58.0</td>\n",
       "    </tr>\n",
       "    <tr>\n",
       "      <th>6</th>\n",
       "      <td>1000</td>\n",
       "      <td>october</td>\n",
       "      <td>57.0</td>\n",
       "      <td>350.0</td>\n",
       "      <td>15360.0</td>\n",
       "      <td>73.0</td>\n",
       "    </tr>\n",
       "    <tr>\n",
       "      <th>7</th>\n",
       "      <td>1000</td>\n",
       "      <td>september</td>\n",
       "      <td>58.0</td>\n",
       "      <td>466.0</td>\n",
       "      <td>15360.0</td>\n",
       "      <td>57.0</td>\n",
       "    </tr>\n",
       "    <tr>\n",
       "      <th>8</th>\n",
       "      <td>1001</td>\n",
       "      <td>december</td>\n",
       "      <td>63.0</td>\n",
       "      <td>414.0</td>\n",
       "      <td>14336.0</td>\n",
       "      <td>0.0</td>\n",
       "    </tr>\n",
       "    <tr>\n",
       "      <th>9</th>\n",
       "      <td>1001</td>\n",
       "      <td>november</td>\n",
       "      <td>59.0</td>\n",
       "      <td>430.0</td>\n",
       "      <td>18432.0</td>\n",
       "      <td>0.0</td>\n",
       "    </tr>\n",
       "  </tbody>\n",
       "</table>\n",
       "</div>"
      ],
      "text/plain": [
       "   user_id      month  calls_count  calls_sum  mb_used  count_messages\n",
       "0     1000     august         52.0      408.0  14336.0            81.0\n",
       "1     1000   december         46.0      333.0  10240.0            70.0\n",
       "2     1000       july         47.0      340.0  14336.0            75.0\n",
       "3     1000       june         43.0      172.0  23552.0            60.0\n",
       "4     1000        may         22.0      159.0   3072.0            22.0\n",
       "5     1000   november         43.0      338.0  15360.0            58.0\n",
       "6     1000    october         57.0      350.0  15360.0            73.0\n",
       "7     1000  september         58.0      466.0  15360.0            57.0\n",
       "8     1001   december         63.0      414.0  14336.0             0.0\n",
       "9     1001   november         59.0      430.0  18432.0             0.0"
      ]
     },
     "execution_count": 24,
     "metadata": {},
     "output_type": "execute_result"
    }
   ],
   "source": [
    "monthly_users_spending.head(10)"
   ]
  },
  {
   "cell_type": "code",
   "execution_count": 25,
   "metadata": {},
   "outputs": [
    {
     "data": {
      "text/html": [
       "<div>\n",
       "<style scoped>\n",
       "    .dataframe tbody tr th:only-of-type {\n",
       "        vertical-align: middle;\n",
       "    }\n",
       "\n",
       "    .dataframe tbody tr th {\n",
       "        vertical-align: top;\n",
       "    }\n",
       "\n",
       "    .dataframe thead th {\n",
       "        text-align: right;\n",
       "    }\n",
       "</style>\n",
       "<table border=\"1\" class=\"dataframe\">\n",
       "  <thead>\n",
       "    <tr style=\"text-align: right;\">\n",
       "      <th></th>\n",
       "      <th>user_id</th>\n",
       "      <th>age</th>\n",
       "      <th>churn_date</th>\n",
       "      <th>city</th>\n",
       "      <th>first_name</th>\n",
       "      <th>last_name</th>\n",
       "      <th>reg_date</th>\n",
       "      <th>tariff_name</th>\n",
       "      <th>month</th>\n",
       "      <th>calls_count</th>\n",
       "      <th>calls_sum</th>\n",
       "      <th>mb_used</th>\n",
       "      <th>count_messages</th>\n",
       "      <th>messages_included</th>\n",
       "      <th>mb_per_month_included</th>\n",
       "      <th>minutes_included</th>\n",
       "      <th>rub_monthly_fee</th>\n",
       "      <th>rub_per_gb</th>\n",
       "      <th>rub_per_message</th>\n",
       "      <th>rub_per_minute</th>\n",
       "    </tr>\n",
       "  </thead>\n",
       "  <tbody>\n",
       "    <tr>\n",
       "      <th>0</th>\n",
       "      <td>1000</td>\n",
       "      <td>52</td>\n",
       "      <td>NaT</td>\n",
       "      <td>Краснодар</td>\n",
       "      <td>Рафаил</td>\n",
       "      <td>Верещагин</td>\n",
       "      <td>2018-05-25</td>\n",
       "      <td>ultra</td>\n",
       "      <td>august</td>\n",
       "      <td>52.0</td>\n",
       "      <td>408.0</td>\n",
       "      <td>14336.0</td>\n",
       "      <td>81.0</td>\n",
       "      <td>1000</td>\n",
       "      <td>30720</td>\n",
       "      <td>3000</td>\n",
       "      <td>1950</td>\n",
       "      <td>150</td>\n",
       "      <td>1</td>\n",
       "      <td>1</td>\n",
       "    </tr>\n",
       "    <tr>\n",
       "      <th>1</th>\n",
       "      <td>1000</td>\n",
       "      <td>52</td>\n",
       "      <td>NaT</td>\n",
       "      <td>Краснодар</td>\n",
       "      <td>Рафаил</td>\n",
       "      <td>Верещагин</td>\n",
       "      <td>2018-05-25</td>\n",
       "      <td>ultra</td>\n",
       "      <td>december</td>\n",
       "      <td>46.0</td>\n",
       "      <td>333.0</td>\n",
       "      <td>10240.0</td>\n",
       "      <td>70.0</td>\n",
       "      <td>1000</td>\n",
       "      <td>30720</td>\n",
       "      <td>3000</td>\n",
       "      <td>1950</td>\n",
       "      <td>150</td>\n",
       "      <td>1</td>\n",
       "      <td>1</td>\n",
       "    </tr>\n",
       "    <tr>\n",
       "      <th>2</th>\n",
       "      <td>1000</td>\n",
       "      <td>52</td>\n",
       "      <td>NaT</td>\n",
       "      <td>Краснодар</td>\n",
       "      <td>Рафаил</td>\n",
       "      <td>Верещагин</td>\n",
       "      <td>2018-05-25</td>\n",
       "      <td>ultra</td>\n",
       "      <td>july</td>\n",
       "      <td>47.0</td>\n",
       "      <td>340.0</td>\n",
       "      <td>14336.0</td>\n",
       "      <td>75.0</td>\n",
       "      <td>1000</td>\n",
       "      <td>30720</td>\n",
       "      <td>3000</td>\n",
       "      <td>1950</td>\n",
       "      <td>150</td>\n",
       "      <td>1</td>\n",
       "      <td>1</td>\n",
       "    </tr>\n",
       "    <tr>\n",
       "      <th>3</th>\n",
       "      <td>1000</td>\n",
       "      <td>52</td>\n",
       "      <td>NaT</td>\n",
       "      <td>Краснодар</td>\n",
       "      <td>Рафаил</td>\n",
       "      <td>Верещагин</td>\n",
       "      <td>2018-05-25</td>\n",
       "      <td>ultra</td>\n",
       "      <td>june</td>\n",
       "      <td>43.0</td>\n",
       "      <td>172.0</td>\n",
       "      <td>23552.0</td>\n",
       "      <td>60.0</td>\n",
       "      <td>1000</td>\n",
       "      <td>30720</td>\n",
       "      <td>3000</td>\n",
       "      <td>1950</td>\n",
       "      <td>150</td>\n",
       "      <td>1</td>\n",
       "      <td>1</td>\n",
       "    </tr>\n",
       "    <tr>\n",
       "      <th>4</th>\n",
       "      <td>1000</td>\n",
       "      <td>52</td>\n",
       "      <td>NaT</td>\n",
       "      <td>Краснодар</td>\n",
       "      <td>Рафаил</td>\n",
       "      <td>Верещагин</td>\n",
       "      <td>2018-05-25</td>\n",
       "      <td>ultra</td>\n",
       "      <td>may</td>\n",
       "      <td>22.0</td>\n",
       "      <td>159.0</td>\n",
       "      <td>3072.0</td>\n",
       "      <td>22.0</td>\n",
       "      <td>1000</td>\n",
       "      <td>30720</td>\n",
       "      <td>3000</td>\n",
       "      <td>1950</td>\n",
       "      <td>150</td>\n",
       "      <td>1</td>\n",
       "      <td>1</td>\n",
       "    </tr>\n",
       "    <tr>\n",
       "      <th>5</th>\n",
       "      <td>1000</td>\n",
       "      <td>52</td>\n",
       "      <td>NaT</td>\n",
       "      <td>Краснодар</td>\n",
       "      <td>Рафаил</td>\n",
       "      <td>Верещагин</td>\n",
       "      <td>2018-05-25</td>\n",
       "      <td>ultra</td>\n",
       "      <td>november</td>\n",
       "      <td>43.0</td>\n",
       "      <td>338.0</td>\n",
       "      <td>15360.0</td>\n",
       "      <td>58.0</td>\n",
       "      <td>1000</td>\n",
       "      <td>30720</td>\n",
       "      <td>3000</td>\n",
       "      <td>1950</td>\n",
       "      <td>150</td>\n",
       "      <td>1</td>\n",
       "      <td>1</td>\n",
       "    </tr>\n",
       "    <tr>\n",
       "      <th>6</th>\n",
       "      <td>1000</td>\n",
       "      <td>52</td>\n",
       "      <td>NaT</td>\n",
       "      <td>Краснодар</td>\n",
       "      <td>Рафаил</td>\n",
       "      <td>Верещагин</td>\n",
       "      <td>2018-05-25</td>\n",
       "      <td>ultra</td>\n",
       "      <td>october</td>\n",
       "      <td>57.0</td>\n",
       "      <td>350.0</td>\n",
       "      <td>15360.0</td>\n",
       "      <td>73.0</td>\n",
       "      <td>1000</td>\n",
       "      <td>30720</td>\n",
       "      <td>3000</td>\n",
       "      <td>1950</td>\n",
       "      <td>150</td>\n",
       "      <td>1</td>\n",
       "      <td>1</td>\n",
       "    </tr>\n",
       "    <tr>\n",
       "      <th>7</th>\n",
       "      <td>1000</td>\n",
       "      <td>52</td>\n",
       "      <td>NaT</td>\n",
       "      <td>Краснодар</td>\n",
       "      <td>Рафаил</td>\n",
       "      <td>Верещагин</td>\n",
       "      <td>2018-05-25</td>\n",
       "      <td>ultra</td>\n",
       "      <td>september</td>\n",
       "      <td>58.0</td>\n",
       "      <td>466.0</td>\n",
       "      <td>15360.0</td>\n",
       "      <td>57.0</td>\n",
       "      <td>1000</td>\n",
       "      <td>30720</td>\n",
       "      <td>3000</td>\n",
       "      <td>1950</td>\n",
       "      <td>150</td>\n",
       "      <td>1</td>\n",
       "      <td>1</td>\n",
       "    </tr>\n",
       "    <tr>\n",
       "      <th>8</th>\n",
       "      <td>1003</td>\n",
       "      <td>23</td>\n",
       "      <td>NaT</td>\n",
       "      <td>Москва</td>\n",
       "      <td>Белла</td>\n",
       "      <td>Белякова</td>\n",
       "      <td>2018-08-17</td>\n",
       "      <td>ultra</td>\n",
       "      <td>august</td>\n",
       "      <td>55.0</td>\n",
       "      <td>380.0</td>\n",
       "      <td>9216.0</td>\n",
       "      <td>37.0</td>\n",
       "      <td>1000</td>\n",
       "      <td>30720</td>\n",
       "      <td>3000</td>\n",
       "      <td>1950</td>\n",
       "      <td>150</td>\n",
       "      <td>1</td>\n",
       "      <td>1</td>\n",
       "    </tr>\n",
       "    <tr>\n",
       "      <th>9</th>\n",
       "      <td>1003</td>\n",
       "      <td>23</td>\n",
       "      <td>NaT</td>\n",
       "      <td>Москва</td>\n",
       "      <td>Белла</td>\n",
       "      <td>Белякова</td>\n",
       "      <td>2018-08-17</td>\n",
       "      <td>ultra</td>\n",
       "      <td>december</td>\n",
       "      <td>108.0</td>\n",
       "      <td>802.0</td>\n",
       "      <td>10240.0</td>\n",
       "      <td>75.0</td>\n",
       "      <td>1000</td>\n",
       "      <td>30720</td>\n",
       "      <td>3000</td>\n",
       "      <td>1950</td>\n",
       "      <td>150</td>\n",
       "      <td>1</td>\n",
       "      <td>1</td>\n",
       "    </tr>\n",
       "  </tbody>\n",
       "</table>\n",
       "</div>"
      ],
      "text/plain": [
       "   user_id  age churn_date       city first_name  last_name   reg_date  \\\n",
       "0     1000   52        NaT  Краснодар     Рафаил  Верещагин 2018-05-25   \n",
       "1     1000   52        NaT  Краснодар     Рафаил  Верещагин 2018-05-25   \n",
       "2     1000   52        NaT  Краснодар     Рафаил  Верещагин 2018-05-25   \n",
       "3     1000   52        NaT  Краснодар     Рафаил  Верещагин 2018-05-25   \n",
       "4     1000   52        NaT  Краснодар     Рафаил  Верещагин 2018-05-25   \n",
       "5     1000   52        NaT  Краснодар     Рафаил  Верещагин 2018-05-25   \n",
       "6     1000   52        NaT  Краснодар     Рафаил  Верещагин 2018-05-25   \n",
       "7     1000   52        NaT  Краснодар     Рафаил  Верещагин 2018-05-25   \n",
       "8     1003   23        NaT     Москва      Белла   Белякова 2018-08-17   \n",
       "9     1003   23        NaT     Москва      Белла   Белякова 2018-08-17   \n",
       "\n",
       "  tariff_name      month  calls_count  calls_sum  mb_used  count_messages  \\\n",
       "0       ultra     august         52.0      408.0  14336.0            81.0   \n",
       "1       ultra   december         46.0      333.0  10240.0            70.0   \n",
       "2       ultra       july         47.0      340.0  14336.0            75.0   \n",
       "3       ultra       june         43.0      172.0  23552.0            60.0   \n",
       "4       ultra        may         22.0      159.0   3072.0            22.0   \n",
       "5       ultra   november         43.0      338.0  15360.0            58.0   \n",
       "6       ultra    october         57.0      350.0  15360.0            73.0   \n",
       "7       ultra  september         58.0      466.0  15360.0            57.0   \n",
       "8       ultra     august         55.0      380.0   9216.0            37.0   \n",
       "9       ultra   december        108.0      802.0  10240.0            75.0   \n",
       "\n",
       "   messages_included  mb_per_month_included  minutes_included  \\\n",
       "0               1000                  30720              3000   \n",
       "1               1000                  30720              3000   \n",
       "2               1000                  30720              3000   \n",
       "3               1000                  30720              3000   \n",
       "4               1000                  30720              3000   \n",
       "5               1000                  30720              3000   \n",
       "6               1000                  30720              3000   \n",
       "7               1000                  30720              3000   \n",
       "8               1000                  30720              3000   \n",
       "9               1000                  30720              3000   \n",
       "\n",
       "   rub_monthly_fee  rub_per_gb  rub_per_message  rub_per_minute  \n",
       "0             1950         150                1               1  \n",
       "1             1950         150                1               1  \n",
       "2             1950         150                1               1  \n",
       "3             1950         150                1               1  \n",
       "4             1950         150                1               1  \n",
       "5             1950         150                1               1  \n",
       "6             1950         150                1               1  \n",
       "7             1950         150                1               1  \n",
       "8             1950         150                1               1  \n",
       "9             1950         150                1               1  "
      ]
     },
     "execution_count": 25,
     "metadata": {},
     "output_type": "execute_result"
    }
   ],
   "source": [
    "full_monthly_data = pd.merge(users,\n",
    "                             monthly_users_spending,\n",
    "                             on='user_id',\n",
    "                             how='outer'\n",
    "                            )\n",
    "\n",
    "full_monthly_data = full_monthly_data.rename(columns={'tariff':'tariff_name'})\n",
    "\n",
    "full_monthly_data = pd.merge(full_monthly_data,\n",
    "                             tariffs,\n",
    "                             on='tariff_name',\n",
    "                             how='outer'\n",
    "                            )\n",
    "\n",
    "full_monthly_data.head(10)"
   ]
  },
  {
   "cell_type": "code",
   "execution_count": 26,
   "metadata": {},
   "outputs": [
    {
     "name": "stdout",
     "output_type": "stream",
     "text": [
      "<class 'pandas.core.frame.DataFrame'>\n",
      "Int64Index: 3216 entries, 0 to 3215\n",
      "Data columns (total 20 columns):\n",
      " #   Column                 Non-Null Count  Dtype         \n",
      "---  ------                 --------------  -----         \n",
      " 0   user_id                3216 non-null   int64         \n",
      " 1   age                    3216 non-null   int64         \n",
      " 2   churn_date             189 non-null    datetime64[ns]\n",
      " 3   city                   3216 non-null   object        \n",
      " 4   first_name             3216 non-null   object        \n",
      " 5   last_name              3216 non-null   object        \n",
      " 6   reg_date               3216 non-null   datetime64[ns]\n",
      " 7   tariff_name            3216 non-null   object        \n",
      " 8   month                  3214 non-null   object        \n",
      " 9   calls_count            3214 non-null   float64       \n",
      " 10  calls_sum              3214 non-null   float64       \n",
      " 11  mb_used                3214 non-null   float64       \n",
      " 12  count_messages         3214 non-null   float64       \n",
      " 13  messages_included      3216 non-null   int64         \n",
      " 14  mb_per_month_included  3216 non-null   int64         \n",
      " 15  minutes_included       3216 non-null   int64         \n",
      " 16  rub_monthly_fee        3216 non-null   int64         \n",
      " 17  rub_per_gb             3216 non-null   int64         \n",
      " 18  rub_per_message        3216 non-null   int64         \n",
      " 19  rub_per_minute         3216 non-null   int64         \n",
      "dtypes: datetime64[ns](2), float64(4), int64(9), object(5)\n",
      "memory usage: 527.6+ KB\n"
     ]
    }
   ],
   "source": [
    "full_monthly_data.info()"
   ]
  },
  {
   "cell_type": "markdown",
   "metadata": {},
   "source": [
    "Как можем заметить, 2 строки таблицы имеют пропуски в важных для рассчетов столбцах. Учитывая незначительное кол-во строк, заполним их важные для рассчета столбцы нулями.\n",
    "\n",
    "Помимо этого, заменим данные в этих столбцах на целочисленный вид."
   ]
  },
  {
   "cell_type": "code",
   "execution_count": 27,
   "metadata": {},
   "outputs": [],
   "source": [
    "# заполним пропуски в столбцах 'calls_sum', 'mb_used' и 'count_messages'\n",
    "full_monthly_data['calls_sum'] = full_monthly_data['calls_sum'].fillna(0)\n",
    "full_monthly_data['mb_used'] = full_monthly_data['mb_used'].fillna(0)\n",
    "full_monthly_data['count_messages'] = full_monthly_data['count_messages'].fillna(0)\n",
    "\n",
    "# переводим данные столбцов в целочисленный вид\n",
    "full_monthly_data['calls_sum'] = full_monthly_data['calls_sum'].astype('int')\n",
    "full_monthly_data['mb_used'] = full_monthly_data['mb_used'].astype('int')\n",
    "full_monthly_data['count_messages'] = full_monthly_data['count_messages'].astype('int')"
   ]
  },
  {
   "cell_type": "markdown",
   "metadata": {},
   "source": [
    "#### Рассчет помесячной прибыли с каждого пользователя"
   ]
  },
  {
   "cell_type": "markdown",
   "metadata": {},
   "source": [
    "Создадим функцию `monthly_profit` для расчёта помесячной прибыли с каждого пользователя:"
   ]
  },
  {
   "cell_type": "code",
   "execution_count": 28,
   "metadata": {},
   "outputs": [],
   "source": [
    "# объявляем функцию <monthly_profit> для рассчета прибыли,\n",
    "# на вход функция получает строку, содержащую данные пользователя за конкретный месяц\n",
    "def monthly_profit(user):\n",
    "# рассчитаем отдельно прибыль за интернет, звонки и сообщения\n",
    "# отдельно для каждого параметра рассчитаем, был ли превышен лимит\n",
    " \n",
    "# если тарифный план по звонкам не был превышен,\n",
    "# т.е. разница израсходованных минут и включенных в тариф минут меньше или равна нулю, то:\n",
    "    if (user['calls_sum'] - user['minutes_included']) <= 0:\n",
    "# прибыль с минут равна 0\n",
    "        calls_profit = 0\n",
    "# иначе:\n",
    "    else:\n",
    "# считаем прибыль, как разницу израсходованных минут и включенных в тариф минут, умноженную\n",
    "# на цену минуты по тарифу\n",
    "        calls_profit = (\n",
    "            (user['calls_sum'] - user['minutes_included']) * user['rub_per_minute']\n",
    "        )\n",
    "# если тарифный план по интернету не был превышен,\n",
    "# т.е. разница израсходованных Мб и включенных в тариф Мб меньше или равна нулю, то:        \n",
    "    if (user['mb_used'] - user['mb_per_month_included']) <= 0:\n",
    "# прибыль с интернета равна 0\n",
    "        internet_profit = 0\n",
    "# иначе:\n",
    "    else:\n",
    "# считаем прибыль с интернета, как разницу израсходованных Мб и включенных в тариф Мб,\n",
    "# переведённую в Гб и помноженную на цену за Гб по тарифу\n",
    "        internet_profit = (\n",
    "            (user['mb_used'] - user['mb_per_month_included']) / 1024 * user['rub_per_gb']\n",
    "        )\n",
    "# если тарифный план по СМС не был превышен,\n",
    "# т.е. разница израсходованных СМС и включенных в тариф СМС меньше или равна нулю, то:    \n",
    "    if (user['count_messages'] - user['messages_included']) <= 0:\n",
    "# прибыль с СМС равна 0\n",
    "        messages_profit = 0\n",
    "# иначе:\n",
    "    else:\n",
    "# считаем прибыль с СМС, как разницу отправленных СМС и включенного кол-ва СМС по тарифу,\n",
    "# умноженную на цену за СМС по тарифу\n",
    "        messages_profit = (\n",
    "            (user['count_messages'] - user['messages_included']) * user['rub_per_message']\n",
    "        )\n",
    "# рассчитываем общую прибыль за месяц, не учитывая абонентскую плату за тариф\n",
    "# считаем её, как сумму прибыли со всех параметров, плюс месячная абонентская плата\n",
    "    profit =(\n",
    "        calls_profit + internet_profit + messages_profit + user['rub_monthly_fee']\n",
    "    )\n",
    "# в конце функция возвращает полученную прибыль, т.е. переменную 'profit'\n",
    "    return profit"
   ]
  },
  {
   "cell_type": "code",
   "execution_count": 29,
   "metadata": {},
   "outputs": [
    {
     "data": {
      "text/html": [
       "<div>\n",
       "<style scoped>\n",
       "    .dataframe tbody tr th:only-of-type {\n",
       "        vertical-align: middle;\n",
       "    }\n",
       "\n",
       "    .dataframe tbody tr th {\n",
       "        vertical-align: top;\n",
       "    }\n",
       "\n",
       "    .dataframe thead th {\n",
       "        text-align: right;\n",
       "    }\n",
       "</style>\n",
       "<table border=\"1\" class=\"dataframe\">\n",
       "  <thead>\n",
       "    <tr style=\"text-align: right;\">\n",
       "      <th></th>\n",
       "      <th>user_id</th>\n",
       "      <th>age</th>\n",
       "      <th>churn_date</th>\n",
       "      <th>city</th>\n",
       "      <th>first_name</th>\n",
       "      <th>last_name</th>\n",
       "      <th>reg_date</th>\n",
       "      <th>tariff_name</th>\n",
       "      <th>month</th>\n",
       "      <th>calls_count</th>\n",
       "      <th>...</th>\n",
       "      <th>mb_used</th>\n",
       "      <th>count_messages</th>\n",
       "      <th>messages_included</th>\n",
       "      <th>mb_per_month_included</th>\n",
       "      <th>minutes_included</th>\n",
       "      <th>rub_monthly_fee</th>\n",
       "      <th>rub_per_gb</th>\n",
       "      <th>rub_per_message</th>\n",
       "      <th>rub_per_minute</th>\n",
       "      <th>profit</th>\n",
       "    </tr>\n",
       "  </thead>\n",
       "  <tbody>\n",
       "    <tr>\n",
       "      <th>0</th>\n",
       "      <td>1000</td>\n",
       "      <td>52</td>\n",
       "      <td>NaT</td>\n",
       "      <td>Краснодар</td>\n",
       "      <td>Рафаил</td>\n",
       "      <td>Верещагин</td>\n",
       "      <td>2018-05-25</td>\n",
       "      <td>ultra</td>\n",
       "      <td>august</td>\n",
       "      <td>52.0</td>\n",
       "      <td>...</td>\n",
       "      <td>14336</td>\n",
       "      <td>81</td>\n",
       "      <td>1000</td>\n",
       "      <td>30720</td>\n",
       "      <td>3000</td>\n",
       "      <td>1950</td>\n",
       "      <td>150</td>\n",
       "      <td>1</td>\n",
       "      <td>1</td>\n",
       "      <td>1950.0</td>\n",
       "    </tr>\n",
       "    <tr>\n",
       "      <th>1</th>\n",
       "      <td>1000</td>\n",
       "      <td>52</td>\n",
       "      <td>NaT</td>\n",
       "      <td>Краснодар</td>\n",
       "      <td>Рафаил</td>\n",
       "      <td>Верещагин</td>\n",
       "      <td>2018-05-25</td>\n",
       "      <td>ultra</td>\n",
       "      <td>december</td>\n",
       "      <td>46.0</td>\n",
       "      <td>...</td>\n",
       "      <td>10240</td>\n",
       "      <td>70</td>\n",
       "      <td>1000</td>\n",
       "      <td>30720</td>\n",
       "      <td>3000</td>\n",
       "      <td>1950</td>\n",
       "      <td>150</td>\n",
       "      <td>1</td>\n",
       "      <td>1</td>\n",
       "      <td>1950.0</td>\n",
       "    </tr>\n",
       "    <tr>\n",
       "      <th>2</th>\n",
       "      <td>1000</td>\n",
       "      <td>52</td>\n",
       "      <td>NaT</td>\n",
       "      <td>Краснодар</td>\n",
       "      <td>Рафаил</td>\n",
       "      <td>Верещагин</td>\n",
       "      <td>2018-05-25</td>\n",
       "      <td>ultra</td>\n",
       "      <td>july</td>\n",
       "      <td>47.0</td>\n",
       "      <td>...</td>\n",
       "      <td>14336</td>\n",
       "      <td>75</td>\n",
       "      <td>1000</td>\n",
       "      <td>30720</td>\n",
       "      <td>3000</td>\n",
       "      <td>1950</td>\n",
       "      <td>150</td>\n",
       "      <td>1</td>\n",
       "      <td>1</td>\n",
       "      <td>1950.0</td>\n",
       "    </tr>\n",
       "    <tr>\n",
       "      <th>3</th>\n",
       "      <td>1000</td>\n",
       "      <td>52</td>\n",
       "      <td>NaT</td>\n",
       "      <td>Краснодар</td>\n",
       "      <td>Рафаил</td>\n",
       "      <td>Верещагин</td>\n",
       "      <td>2018-05-25</td>\n",
       "      <td>ultra</td>\n",
       "      <td>june</td>\n",
       "      <td>43.0</td>\n",
       "      <td>...</td>\n",
       "      <td>23552</td>\n",
       "      <td>60</td>\n",
       "      <td>1000</td>\n",
       "      <td>30720</td>\n",
       "      <td>3000</td>\n",
       "      <td>1950</td>\n",
       "      <td>150</td>\n",
       "      <td>1</td>\n",
       "      <td>1</td>\n",
       "      <td>1950.0</td>\n",
       "    </tr>\n",
       "    <tr>\n",
       "      <th>4</th>\n",
       "      <td>1000</td>\n",
       "      <td>52</td>\n",
       "      <td>NaT</td>\n",
       "      <td>Краснодар</td>\n",
       "      <td>Рафаил</td>\n",
       "      <td>Верещагин</td>\n",
       "      <td>2018-05-25</td>\n",
       "      <td>ultra</td>\n",
       "      <td>may</td>\n",
       "      <td>22.0</td>\n",
       "      <td>...</td>\n",
       "      <td>3072</td>\n",
       "      <td>22</td>\n",
       "      <td>1000</td>\n",
       "      <td>30720</td>\n",
       "      <td>3000</td>\n",
       "      <td>1950</td>\n",
       "      <td>150</td>\n",
       "      <td>1</td>\n",
       "      <td>1</td>\n",
       "      <td>1950.0</td>\n",
       "    </tr>\n",
       "    <tr>\n",
       "      <th>5</th>\n",
       "      <td>1000</td>\n",
       "      <td>52</td>\n",
       "      <td>NaT</td>\n",
       "      <td>Краснодар</td>\n",
       "      <td>Рафаил</td>\n",
       "      <td>Верещагин</td>\n",
       "      <td>2018-05-25</td>\n",
       "      <td>ultra</td>\n",
       "      <td>november</td>\n",
       "      <td>43.0</td>\n",
       "      <td>...</td>\n",
       "      <td>15360</td>\n",
       "      <td>58</td>\n",
       "      <td>1000</td>\n",
       "      <td>30720</td>\n",
       "      <td>3000</td>\n",
       "      <td>1950</td>\n",
       "      <td>150</td>\n",
       "      <td>1</td>\n",
       "      <td>1</td>\n",
       "      <td>1950.0</td>\n",
       "    </tr>\n",
       "    <tr>\n",
       "      <th>6</th>\n",
       "      <td>1000</td>\n",
       "      <td>52</td>\n",
       "      <td>NaT</td>\n",
       "      <td>Краснодар</td>\n",
       "      <td>Рафаил</td>\n",
       "      <td>Верещагин</td>\n",
       "      <td>2018-05-25</td>\n",
       "      <td>ultra</td>\n",
       "      <td>october</td>\n",
       "      <td>57.0</td>\n",
       "      <td>...</td>\n",
       "      <td>15360</td>\n",
       "      <td>73</td>\n",
       "      <td>1000</td>\n",
       "      <td>30720</td>\n",
       "      <td>3000</td>\n",
       "      <td>1950</td>\n",
       "      <td>150</td>\n",
       "      <td>1</td>\n",
       "      <td>1</td>\n",
       "      <td>1950.0</td>\n",
       "    </tr>\n",
       "    <tr>\n",
       "      <th>7</th>\n",
       "      <td>1000</td>\n",
       "      <td>52</td>\n",
       "      <td>NaT</td>\n",
       "      <td>Краснодар</td>\n",
       "      <td>Рафаил</td>\n",
       "      <td>Верещагин</td>\n",
       "      <td>2018-05-25</td>\n",
       "      <td>ultra</td>\n",
       "      <td>september</td>\n",
       "      <td>58.0</td>\n",
       "      <td>...</td>\n",
       "      <td>15360</td>\n",
       "      <td>57</td>\n",
       "      <td>1000</td>\n",
       "      <td>30720</td>\n",
       "      <td>3000</td>\n",
       "      <td>1950</td>\n",
       "      <td>150</td>\n",
       "      <td>1</td>\n",
       "      <td>1</td>\n",
       "      <td>1950.0</td>\n",
       "    </tr>\n",
       "    <tr>\n",
       "      <th>8</th>\n",
       "      <td>1003</td>\n",
       "      <td>23</td>\n",
       "      <td>NaT</td>\n",
       "      <td>Москва</td>\n",
       "      <td>Белла</td>\n",
       "      <td>Белякова</td>\n",
       "      <td>2018-08-17</td>\n",
       "      <td>ultra</td>\n",
       "      <td>august</td>\n",
       "      <td>55.0</td>\n",
       "      <td>...</td>\n",
       "      <td>9216</td>\n",
       "      <td>37</td>\n",
       "      <td>1000</td>\n",
       "      <td>30720</td>\n",
       "      <td>3000</td>\n",
       "      <td>1950</td>\n",
       "      <td>150</td>\n",
       "      <td>1</td>\n",
       "      <td>1</td>\n",
       "      <td>1950.0</td>\n",
       "    </tr>\n",
       "    <tr>\n",
       "      <th>9</th>\n",
       "      <td>1003</td>\n",
       "      <td>23</td>\n",
       "      <td>NaT</td>\n",
       "      <td>Москва</td>\n",
       "      <td>Белла</td>\n",
       "      <td>Белякова</td>\n",
       "      <td>2018-08-17</td>\n",
       "      <td>ultra</td>\n",
       "      <td>december</td>\n",
       "      <td>108.0</td>\n",
       "      <td>...</td>\n",
       "      <td>10240</td>\n",
       "      <td>75</td>\n",
       "      <td>1000</td>\n",
       "      <td>30720</td>\n",
       "      <td>3000</td>\n",
       "      <td>1950</td>\n",
       "      <td>150</td>\n",
       "      <td>1</td>\n",
       "      <td>1</td>\n",
       "      <td>1950.0</td>\n",
       "    </tr>\n",
       "  </tbody>\n",
       "</table>\n",
       "<p>10 rows × 21 columns</p>\n",
       "</div>"
      ],
      "text/plain": [
       "   user_id  age churn_date       city first_name  last_name   reg_date  \\\n",
       "0     1000   52        NaT  Краснодар     Рафаил  Верещагин 2018-05-25   \n",
       "1     1000   52        NaT  Краснодар     Рафаил  Верещагин 2018-05-25   \n",
       "2     1000   52        NaT  Краснодар     Рафаил  Верещагин 2018-05-25   \n",
       "3     1000   52        NaT  Краснодар     Рафаил  Верещагин 2018-05-25   \n",
       "4     1000   52        NaT  Краснодар     Рафаил  Верещагин 2018-05-25   \n",
       "5     1000   52        NaT  Краснодар     Рафаил  Верещагин 2018-05-25   \n",
       "6     1000   52        NaT  Краснодар     Рафаил  Верещагин 2018-05-25   \n",
       "7     1000   52        NaT  Краснодар     Рафаил  Верещагин 2018-05-25   \n",
       "8     1003   23        NaT     Москва      Белла   Белякова 2018-08-17   \n",
       "9     1003   23        NaT     Москва      Белла   Белякова 2018-08-17   \n",
       "\n",
       "  tariff_name      month  calls_count  ...  mb_used  count_messages  \\\n",
       "0       ultra     august         52.0  ...    14336              81   \n",
       "1       ultra   december         46.0  ...    10240              70   \n",
       "2       ultra       july         47.0  ...    14336              75   \n",
       "3       ultra       june         43.0  ...    23552              60   \n",
       "4       ultra        may         22.0  ...     3072              22   \n",
       "5       ultra   november         43.0  ...    15360              58   \n",
       "6       ultra    october         57.0  ...    15360              73   \n",
       "7       ultra  september         58.0  ...    15360              57   \n",
       "8       ultra     august         55.0  ...     9216              37   \n",
       "9       ultra   december        108.0  ...    10240              75   \n",
       "\n",
       "   messages_included  mb_per_month_included  minutes_included  \\\n",
       "0               1000                  30720              3000   \n",
       "1               1000                  30720              3000   \n",
       "2               1000                  30720              3000   \n",
       "3               1000                  30720              3000   \n",
       "4               1000                  30720              3000   \n",
       "5               1000                  30720              3000   \n",
       "6               1000                  30720              3000   \n",
       "7               1000                  30720              3000   \n",
       "8               1000                  30720              3000   \n",
       "9               1000                  30720              3000   \n",
       "\n",
       "   rub_monthly_fee  rub_per_gb  rub_per_message  rub_per_minute  profit  \n",
       "0             1950         150                1               1  1950.0  \n",
       "1             1950         150                1               1  1950.0  \n",
       "2             1950         150                1               1  1950.0  \n",
       "3             1950         150                1               1  1950.0  \n",
       "4             1950         150                1               1  1950.0  \n",
       "5             1950         150                1               1  1950.0  \n",
       "6             1950         150                1               1  1950.0  \n",
       "7             1950         150                1               1  1950.0  \n",
       "8             1950         150                1               1  1950.0  \n",
       "9             1950         150                1               1  1950.0  \n",
       "\n",
       "[10 rows x 21 columns]"
      ]
     },
     "execution_count": 29,
     "metadata": {},
     "output_type": "execute_result"
    }
   ],
   "source": [
    "full_monthly_data['profit'] = full_monthly_data.apply(monthly_profit, axis = 1)\n",
    "\n",
    "full_monthly_data.head(10)"
   ]
  },
  {
   "cell_type": "markdown",
   "metadata": {},
   "source": [
    "**Вывод**\n",
    "\n",
    "Полностью обработав все данные, заполним образовавшиеся пропуски и выислив недостающие данные, мы можем приступить к полноценному анализу данных."
   ]
  },
  {
   "cell_type": "markdown",
   "metadata": {},
   "source": [
    "## Анализ данных"
   ]
  },
  {
   "cell_type": "markdown",
   "metadata": {},
   "source": [
    "### Анализ поведения пользователей тарифа 'smart'"
   ]
  },
  {
   "cell_type": "markdown",
   "metadata": {},
   "source": [
    "#### Анализ использования пакета минут пользователями"
   ]
  },
  {
   "cell_type": "code",
   "execution_count": 30,
   "metadata": {},
   "outputs": [
    {
     "data": {
      "text/plain": [
       "array([[<AxesSubplot:title={'center':'calls_sum'}>]], dtype=object)"
      ]
     },
     "execution_count": 30,
     "metadata": {},
     "output_type": "execute_result"
    },
    {
     "data": {
      "image/png": "[encoded data removed]",
      "text/plain": [
       "<Figure size 864x432 with 1 Axes>"
      ]
     },
     "metadata": {
      "needs_background": "light"
     },
     "output_type": "display_data"
    }
   ],
   "source": [
    "full_monthly_data.query(\n",
    "    'tariff_name == \"smart\"'\n",
    "    ).hist(\n",
    "    'calls_sum',\n",
    "    bins=100,\n",
    "    figsize=(12, 6)\n",
    ")"
   ]
  },
  {
   "cell_type": "code",
   "execution_count": 31,
   "metadata": {
    "scrolled": true
   },
   "outputs": [
    {
     "name": "stdout",
     "output_type": "stream",
     "text": [
      "Среднее значение помесячного количества используемых минут пользователями тарифа Smart равна: 417.747533632287\n",
      "Медианное значение помесячного количества используемых минут пользователями тарифа Smart равна: 421.5\n"
     ]
    }
   ],
   "source": [
    "# посчитаем среднее и медианное значения по кол-ву используемых минут\n",
    "# пользователями тарифа Smart\n",
    "\n",
    "# для начала получим Series с кол-вом использованных минут клиентов тарифа 'smart'\n",
    "calls_smart = full_monthly_data.query('tariff_name == \"smart\"')\n",
    "calls_smart = calls_smart['calls_sum']\n",
    "\n",
    "print('Среднее значение помесячного количества используемых минут пользователями тарифа Smart равна:',\n",
    "     calls_smart.mean())\n",
    "print('Медианное значение помесячного количества используемых минут пользователями тарифа Smart равна:',\n",
    "     calls_smart.median())"
   ]
  },
  {
   "cell_type": "code",
   "execution_count": 32,
   "metadata": {},
   "outputs": [
    {
     "name": "stdout",
     "output_type": "stream",
     "text": [
      "Дисперсия помесячного количества используемых минут пользователями тарифа Smart равна: 36281.39383644459\n"
     ]
    }
   ],
   "source": [
    "# считаем дисперсию по минутам пользователей тарифа 'smart'\n",
    "# используем параметр ddof = 1, т.к. известно, что это данные лишь небольшой выборки пользователей\n",
    "calls_smart_var = np.var(calls_smart, ddof=1)\n",
    "print('Дисперсия помесячного количества используемых минут пользователями тарифа Smart равна:',\n",
    "     calls_smart_var)"
   ]
  },
  {
   "cell_type": "code",
   "execution_count": 33,
   "metadata": {},
   "outputs": [
    {
     "name": "stdout",
     "output_type": "stream",
     "text": [
      "Стандартное отклонение количества используемых минут пользователями тарифа Smart равно: 190.47675405792853\n"
     ]
    }
   ],
   "source": [
    "# считаем стандартное отклонение по минутам пользователей тарифа 'smart'\n",
    "# т.к. нам уже известна дисперсия, то вычислим отклонение, как квадратный корень дисперсии\n",
    "print('Стандартное отклонение количества используемых минут пользователями тарифа Smart равно:',\n",
    "     np.sqrt(calls_smart_var))"
   ]
  },
  {
   "cell_type": "markdown",
   "metadata": {},
   "source": [
    "**Вывод**\n",
    "\n",
    "Как можем заметить по графику, дисперсии и среднему отклонению, большая часть пользователей пользуется минутами как сверх пакета, так и не использует его полностью. Теорию о 'вбросах' строит опровернуть, поскольку медианное и среднее значения выборки сильно близки друг к другу.\n",
    "\n",
    "Стоит предположить, что такой разброс обоснован низкой вариативностью тарифов. Это в свою очередь приводит к тому, что из-за использующие меньшее количество минут, берут тариф из-за неимения альтернативы, а использующие большее, берут тариф из-за различия цены по тарифам в почти 4 раза, что делает переплату сверх пакета небольшого кол-ва минут выгоднее, чем платёж по пакету *Ultra*."
   ]
  },
  {
   "cell_type": "markdown",
   "metadata": {},
   "source": [
    "#### Анализ использования интернет-пакета пользователями"
   ]
  },
  {
   "cell_type": "code",
   "execution_count": 34,
   "metadata": {},
   "outputs": [
    {
     "data": {
      "text/plain": [
       "array([[<AxesSubplot:title={'center':'mb_used'}>]], dtype=object)"
      ]
     },
     "execution_count": 34,
     "metadata": {},
     "output_type": "execute_result"
    },
    {
     "data": {
      "image/png": "[encoded data removed]",
      "text/plain": [
       "<Figure size 864x432 with 1 Axes>"
      ]
     },
     "metadata": {
      "needs_background": "light"
     },
     "output_type": "display_data"
    }
   ],
   "source": [
    "full_monthly_data.query(\n",
    "    'tariff_name == \"smart\"'\n",
    "    ).hist(\n",
    "    'mb_used',\n",
    "    bins=100,\n",
    "    figsize=(12, 6)\n",
    ")"
   ]
  },
  {
   "cell_type": "code",
   "execution_count": 35,
   "metadata": {},
   "outputs": [
    {
     "name": "stdout",
     "output_type": "stream",
     "text": [
      "Среднее значение помесячного объмёма интернет сессий пользователей тарифа Smart равна: 16713.241255605382\n",
      "Медианное значение помесячного объмёма интернет сессий пользователей тарифа Smart равна: 17408.0\n"
     ]
    }
   ],
   "source": [
    "# посчитаем среднее и медианное значения по использованию интернет-пакета\n",
    "# пользователями тарифа Smart\n",
    "\n",
    "# для начала получим Series с объёмом интернет сессий клиентов тарифа 'smart'\n",
    "internet_smart = full_monthly_data.query('tariff_name == \"smart\"')\n",
    "internet_smart = internet_smart['mb_used']\n",
    "\n",
    "print('Среднее значение помесячного объмёма интернет сессий пользователей тарифа Smart равна:',\n",
    "     internet_smart.mean())\n",
    "print('Медианное значение помесячного объмёма интернет сессий пользователей тарифа Smart равна:',\n",
    "     internet_smart.median())"
   ]
  },
  {
   "cell_type": "code",
   "execution_count": 36,
   "metadata": {},
   "outputs": [
    {
     "name": "stdout",
     "output_type": "stream",
     "text": [
      "Дисперсия помесячного помесячного объмёма интернет сессий пользователей тарифа Smart равна: 34742943.65015904\n"
     ]
    }
   ],
   "source": [
    "# считаем дисперсию по объёма интернет сессий пользователей тарифа 'smart'\n",
    "# используем параметр ddof = 1, т.к. известно, что это данные лишь небольшой выборки пользователей\n",
    "internet_smart_var = np.var(internet_smart, ddof=1)\n",
    "print('Дисперсия помесячного помесячного объмёма интернет сессий пользователей тарифа Smart равна:',\n",
    "     internet_smart_var)"
   ]
  },
  {
   "cell_type": "code",
   "execution_count": 37,
   "metadata": {},
   "outputs": [
    {
     "name": "stdout",
     "output_type": "stream",
     "text": [
      "Стандартное отклонение помесячного объмёма интернет сессий пользователей тарифа Smart равно: 5894.314519107293\n"
     ]
    }
   ],
   "source": [
    "# считаем стандартное отклонение по минутам пользователей тарифа 'smart'\n",
    "# т.к. нам уже известна дисперсия, то вычислим отклонение, как квадратный корень дисперсии\n",
    "print('Стандартное отклонение помесячного объмёма интернет сессий пользователей тарифа Smart равно:',\n",
    "     np.sqrt(internet_smart_var))"
   ]
  },
  {
   "cell_type": "markdown",
   "metadata": {},
   "source": [
    "**Вывод**\n",
    "\n",
    "По гистограмме можно заметить классический колокол распределения. Учитывая шаг значений в 1024 Мб, можно сказать, что медианное и среднее значения имеют низкий разброс, что говорит от отсутствии 'выбросов'. Тем же самым можно обосновать высокие значения дисперсии и стандартного отклонения. \n",
    "\n",
    "Однако вновь можно заметить большую часть пользователей, превышающие предоставляемый пакет тарифом. Стоит предположить, что причиной этого является так же малая вариативность тарифов, как описано ранее."
   ]
  },
  {
   "cell_type": "markdown",
   "metadata": {},
   "source": [
    "#### Анализ пакета СМС пользователями"
   ]
  },
  {
   "cell_type": "code",
   "execution_count": 38,
   "metadata": {},
   "outputs": [
    {
     "data": {
      "text/plain": [
       "array([[<AxesSubplot:title={'center':'count_messages'}>]], dtype=object)"
      ]
     },
     "execution_count": 38,
     "metadata": {},
     "output_type": "execute_result"
    },
    {
     "data": {
      "image/png": "[encoded data removed]",
      "text/plain": [
       "<Figure size 864x432 with 1 Axes>"
      ]
     },
     "metadata": {
      "needs_background": "light"
     },
     "output_type": "display_data"
    }
   ],
   "source": [
    "full_monthly_data.query(\n",
    "    'tariff_name == \"smart\"'\n",
    "    ).hist(\n",
    "    'count_messages',\n",
    "    bins=100,\n",
    "    figsize=(12, 6)\n",
    ")"
   ]
  },
  {
   "cell_type": "code",
   "execution_count": 39,
   "metadata": {},
   "outputs": [
    {
     "name": "stdout",
     "output_type": "stream",
     "text": [
      "Среднее значение помесячного количества СМС от пользователей тарифа Smart равна: 33.36905829596412\n",
      "Медианное значение помесячного количества СМС от пользователей тарифа Smart равна: 28.0\n"
     ]
    }
   ],
   "source": [
    "# посчитаем среднее и медианное значения по кол-ву СМС от\n",
    "# пользователей тарифа Smart\n",
    "\n",
    "# для начала получим Series с количеством СМС от клиентов тарифа 'smart'\n",
    "messages_smart = full_monthly_data.query('tariff_name == \"smart\"')\n",
    "messages_smart = messages_smart['count_messages']\n",
    "\n",
    "print('Среднее значение помесячного количества СМС от пользователей тарифа Smart равна:',\n",
    "     messages_smart.mean())\n",
    "print('Медианное значение помесячного количества СМС от пользователей тарифа Smart равна:',\n",
    "     messages_smart.median())"
   ]
  },
  {
   "cell_type": "code",
   "execution_count": 40,
   "metadata": {},
   "outputs": [
    {
     "name": "stdout",
     "output_type": "stream",
     "text": [
      "Дисперсия помесячного количества СМС от пользователей тарифа Smart равна: 796.955255730113\n"
     ]
    }
   ],
   "source": [
    "# считаем дисперсию по кол-ву СМС от пользователей тарифа 'smart'\n",
    "# используем параметр ddof = 1, т.к. известно, что это данные лишь небольшой выборки пользователей\n",
    "messages_smart_var = np.var(messages_smart, ddof=1)\n",
    "print('Дисперсия помесячного количества СМС от пользователей тарифа Smart равна:',\n",
    "     messages_smart_var)"
   ]
  },
  {
   "cell_type": "code",
   "execution_count": 41,
   "metadata": {},
   "outputs": [
    {
     "name": "stdout",
     "output_type": "stream",
     "text": [
      "Стандартное отклонение помесячного количества СМС от пользователей тарифа Smart равно: 28.230395954185852\n"
     ]
    }
   ],
   "source": [
    "# считаем стандартное отклонение по кол-ву СМС от пользователей тарифа 'smart'\n",
    "# т.к. нам уже известна дисперсия, то вычислим отклонение, как квадратный корень дисперсии\n",
    "print('Стандартное отклонение помесячного количества СМС от пользователей тарифа Smart равно:',\n",
    "     np.sqrt(messages_smart_var))"
   ]
  },
  {
   "cell_type": "markdown",
   "metadata": {},
   "source": [
    "**Вывод**\n",
    "\n",
    "Как можем заметить, данный параметр имеет, сравнительно предыдущих, низкие показатели разброса, а так же вновь практические идентичные медианное и среднее значения.\n",
    "\n",
    "Распределение гистограммы имеет более обоснованное к данному параметру распределение Пуассона, а не колокол."
   ]
  },
  {
   "cell_type": "markdown",
   "metadata": {},
   "source": [
    "### Анализ пользователей тарифа 'ultra'"
   ]
  },
  {
   "cell_type": "markdown",
   "metadata": {},
   "source": [
    "#### Анализ использования пакета минут пользователями"
   ]
  },
  {
   "cell_type": "code",
   "execution_count": 42,
   "metadata": {},
   "outputs": [
    {
     "data": {
      "text/plain": [
       "array([[<AxesSubplot:title={'center':'calls_sum'}>]], dtype=object)"
      ]
     },
     "execution_count": 42,
     "metadata": {},
     "output_type": "execute_result"
    },
    {
     "data": {
      "image/png": "[encoded data removed]",
      "text/plain": [
       "<Figure size 864x432 with 1 Axes>"
      ]
     },
     "metadata": {
      "needs_background": "light"
     },
     "output_type": "display_data"
    }
   ],
   "source": [
    "full_monthly_data.query(\n",
    "    'tariff_name == \"ultra\"'\n",
    "    ).hist(\n",
    "    'calls_sum',\n",
    "    bins=100,\n",
    "    figsize=(12, 6)\n",
    ")"
   ]
  },
  {
   "cell_type": "code",
   "execution_count": 43,
   "metadata": {},
   "outputs": [
    {
     "name": "stdout",
     "output_type": "stream",
     "text": [
      "Среднее значение помесячного количества используемых минут пользователями тарифа Ultra равна: 526.0892494929006\n",
      "Медианное значение помесячного количества используемых минут пользователями тарифа Ultra равна: 518.0\n"
     ]
    }
   ],
   "source": [
    "# посчитаем среднее и медианное значения по кол-ву используемых минут\n",
    "# пользователями тарифа Ultra\n",
    "\n",
    "# для начала получим Series с кол-вом использованных минут клиентов тарифа 'smart'\n",
    "calls_ultra = full_monthly_data.query('tariff_name == \"ultra\"')\n",
    "calls_ultra = calls_ultra['calls_sum']\n",
    "\n",
    "print('Среднее значение помесячного количества используемых минут пользователями тарифа Ultra равна:',\n",
    "     calls_ultra.mean())\n",
    "print('Медианное значение помесячного количества используемых минут пользователями тарифа Ultra равна:',\n",
    "     calls_ultra.median())"
   ]
  },
  {
   "cell_type": "code",
   "execution_count": 44,
   "metadata": {},
   "outputs": [
    {
     "name": "stdout",
     "output_type": "stream",
     "text": [
      "Дисперсия помесячного количества используемых минут пользователями тарифа Ultra равна: 101052.49354928388\n"
     ]
    }
   ],
   "source": [
    "# считаем дисперсию по минутам пользователей тарифа 'ultra'\n",
    "# используем параметр ddof = 1, т.к. известно, что это данные лишь небольшой выборки пользователей\n",
    "calls_ultra_var = np.var(calls_ultra, ddof=1)\n",
    "print('Дисперсия помесячного количества используемых минут пользователями тарифа Ultra равна:',\n",
    "     calls_ultra_var)"
   ]
  },
  {
   "cell_type": "code",
   "execution_count": 45,
   "metadata": {},
   "outputs": [
    {
     "name": "stdout",
     "output_type": "stream",
     "text": [
      "Стандартное отклонение количества используемых минут пользователями тарифа Ultra равно: 317.8875485911392\n"
     ]
    }
   ],
   "source": [
    "# считаем стандартное отклонение по минутам пользователей тарифа 'ultra'\n",
    "# т.к. нам уже известна дисперсия, то вычислим отклонение, как квадратный корень дисперсии\n",
    "print('Стандартное отклонение количества используемых минут пользователями тарифа Ultra равно:',\n",
    "     np.sqrt(calls_ultra_var))"
   ]
  },
  {
   "cell_type": "markdown",
   "metadata": {},
   "source": [
    "**Вывод**\n",
    "\n",
    "Как можем заметить, кол-во используемых минут в среднем лишь едва превышает пакет минут тарифа 'Smart'. Помимо этого заметен меньший разброс показателей и более естественную гистограмму."
   ]
  },
  {
   "cell_type": "markdown",
   "metadata": {},
   "source": [
    "#### Анализ использования интернет-пакета пользователями"
   ]
  },
  {
   "cell_type": "code",
   "execution_count": 46,
   "metadata": {},
   "outputs": [
    {
     "data": {
      "text/plain": [
       "array([[<AxesSubplot:title={'center':'mb_used'}>]], dtype=object)"
      ]
     },
     "execution_count": 46,
     "metadata": {},
     "output_type": "execute_result"
    },
    {
     "data": {
      "image/png": "[encoded data removed]",
      "text/plain": [
       "<Figure size 864x432 with 1 Axes>"
      ]
     },
     "metadata": {
      "needs_background": "light"
     },
     "output_type": "display_data"
    }
   ],
   "source": [
    "full_monthly_data.query(\n",
    "    'tariff_name == \"ultra\"'\n",
    "    ).hist(\n",
    "    'mb_used',\n",
    "    bins=100,\n",
    "    figsize=(12, 6)\n",
    ")"
   ]
  },
  {
   "cell_type": "code",
   "execution_count": 47,
   "metadata": {},
   "outputs": [
    {
     "name": "stdout",
     "output_type": "stream",
     "text": [
      "Среднее значение помесячного объмёма интернет сессий пользователей тарифа Ultra равна: 19942.036511156188\n",
      "Медианное значение помесячного объмёма интернет сессий пользователей тарифа Ultra равна: 19456.0\n"
     ]
    }
   ],
   "source": [
    "# посчитаем среднее и медианное значения по использованию интернет-пакета\n",
    "# пользователями тарифа Smart\n",
    "\n",
    "# для начала получим Series с объёмом интернет сессий клиентов тарифа 'smart'\n",
    "internet_ultra = full_monthly_data.query('tariff_name == \"ultra\"')\n",
    "internet_ultra = internet_ultra['mb_used']\n",
    "\n",
    "print('Среднее значение помесячного объмёма интернет сессий пользователей тарифа Ultra равна:',\n",
    "     internet_ultra.mean())\n",
    "print('Медианное значение помесячного объмёма интернет сессий пользователей тарифа Ultra равна:',\n",
    "     internet_ultra.median())"
   ]
  },
  {
   "cell_type": "code",
   "execution_count": 48,
   "metadata": {},
   "outputs": [
    {
     "name": "stdout",
     "output_type": "stream",
     "text": [
      "Дисперсия помесячного помесячного объмёма интернет сессий пользователей тарифа Ultra равна: 102108804.45754883\n"
     ]
    }
   ],
   "source": [
    "# считаем дисперсию по объёма интернет сессий пользователей тарифа 'smart'\n",
    "# используем параметр ddof = 1, т.к. известно, что это данные лишь небольшой выборки пользователей\n",
    "internet_ultra_var = np.var(internet_ultra, ddof=1)\n",
    "print('Дисперсия помесячного помесячного объмёма интернет сессий пользователей тарифа Ultra равна:',\n",
    "     internet_ultra_var)"
   ]
  },
  {
   "cell_type": "code",
   "execution_count": 49,
   "metadata": {},
   "outputs": [
    {
     "name": "stdout",
     "output_type": "stream",
     "text": [
      "Стандартное отклонение помесячного объмёма интернет сессий пользователей тарифа Ultra равно: 10104.890125951337\n"
     ]
    }
   ],
   "source": [
    "# считаем стандартное отклонение по минутам пользователей тарифа 'smart'\n",
    "# т.к. нам уже известна дисперсия, то вычислим отклонение, как квадратный корень дисперсии\n",
    "print('Стандартное отклонение помесячного объмёма интернет сессий пользователей тарифа Ultra равно:',\n",
    "     np.sqrt(internet_ultra_var))"
   ]
  },
  {
   "cell_type": "markdown",
   "metadata": {},
   "source": [
    "**Вывод**\n",
    "\n",
    "Показатели дисперсии крайне велики, по сравнению с показателями предыдущего тарифа. Медианное и среднее значения так же слабо выше предыдущих показателей."
   ]
  },
  {
   "cell_type": "markdown",
   "metadata": {},
   "source": [
    "#### Анализ использования пакета СМС пользователями"
   ]
  },
  {
   "cell_type": "code",
   "execution_count": 50,
   "metadata": {},
   "outputs": [
    {
     "data": {
      "text/plain": [
       "array([[<AxesSubplot:title={'center':'count_messages'}>]], dtype=object)"
      ]
     },
     "execution_count": 50,
     "metadata": {},
     "output_type": "execute_result"
    },
    {
     "data": {
      "image/png": "[encoded data removed]",
      "text/plain": [
       "<Figure size 864x432 with 1 Axes>"
      ]
     },
     "metadata": {
      "needs_background": "light"
     },
     "output_type": "display_data"
    }
   ],
   "source": [
    "full_monthly_data.query(\n",
    "    'tariff_name == \"ultra\"'\n",
    "    ).hist(\n",
    "    'count_messages',\n",
    "    bins=100,\n",
    "    figsize=(12, 6)\n",
    ")"
   ]
  },
  {
   "cell_type": "code",
   "execution_count": 51,
   "metadata": {},
   "outputs": [
    {
     "name": "stdout",
     "output_type": "stream",
     "text": [
      "Среднее значение помесячного количества СМС от пользователей тарифа Ultra равна: 49.31338742393509\n",
      "Медианное значение помесячного количества СМС от пользователей тарифа Ultra равна: 38.0\n"
     ]
    }
   ],
   "source": [
    "# посчитаем среднее и медианное значения по кол-ву СМС от\n",
    "# пользователей тарифа Smart\n",
    "\n",
    "# для начала получим Series с количеством СМС от клиентов тарифа 'smart'\n",
    "messages_ultra = full_monthly_data.query('tariff_name == \"ultra\"')\n",
    "messages_ultra = messages_ultra['count_messages']\n",
    "\n",
    "print('Среднее значение помесячного количества СМС от пользователей тарифа Ultra равна:',\n",
    "     messages_ultra.mean())\n",
    "print('Медианное значение помесячного количества СМС от пользователей тарифа Ultra равна:',\n",
    "     messages_ultra.median())"
   ]
  },
  {
   "cell_type": "code",
   "execution_count": 52,
   "metadata": {},
   "outputs": [
    {
     "name": "stdout",
     "output_type": "stream",
     "text": [
      "Дисперсия помесячного количества СМС от пользователей тарифа ultra равна: 2285.4174246558414\n"
     ]
    }
   ],
   "source": [
    "# считаем дисперсию по кол-ву СМС от пользователей тарифа 'ultra'\n",
    "# используем параметр ddof = 1, т.к. известно, что это данные лишь небольшой выборки пользователей\n",
    "messages_ultra_var = np.var(messages_ultra, ddof=1)\n",
    "print('Дисперсия помесячного количества СМС от пользователей тарифа ultra равна:',\n",
    "     messages_ultra_var)"
   ]
  },
  {
   "cell_type": "code",
   "execution_count": 53,
   "metadata": {},
   "outputs": [
    {
     "name": "stdout",
     "output_type": "stream",
     "text": [
      "Стандартное отклонение помесячного количества СМС от пользователей тарифа Ultra равно: 47.80603962530092\n"
     ]
    }
   ],
   "source": [
    "# считаем стандартное отклонение по кол-ву СМС от пользователей тарифа 'smart'\n",
    "# т.к. нам уже известна дисперсия, то вычислим отклонение, как квадратный корень дисперсии\n",
    "print('Стандартное отклонение помесячного количества СМС от пользователей тарифа Ultra равно:',\n",
    "     np.sqrt(messages_ultra_var))"
   ]
  },
  {
   "cell_type": "markdown",
   "metadata": {},
   "source": [
    "**Вывод**\n",
    "\n",
    "Как можно заметить, бОльшая часть клиентов едва использует пакет СМС.\n",
    "\n",
    "Помимо этого стоит заметить, что в целом показатели демонстрируют то, что большая часть клиентов едва используют весь потенциал тарифа, лишь едва превышая, в среднем, пакет более дешёвого тарифа, при этом платя за него в, почти, 4 раза больше."
   ]
  },
  {
   "cell_type": "markdown",
   "metadata": {},
   "source": [
    "## Проверка гепотез"
   ]
  },
  {
   "cell_type": "markdown",
   "metadata": {},
   "source": [
    "### Различается ли средняя выручка с клиентов разных тарифов?"
   ]
  },
  {
   "cell_type": "markdown",
   "metadata": {},
   "source": [
    " В качестве критерия оценки возьмём параметр `profit`, т.е. помесячную прибыль с каждого клиента.\n",
    " \n",
    " Сформулируем нулевую и альтернативную гипотезу:\n",
    " \n",
    "* *Нулевая гипотеза* гласит, что средняя выручка с клиента не зависит от тарифа и, разница в прибыли слаба или вовсе отсутствует у выборок клиентов с разным тарифом.\n",
    " \n",
    "* *Альтернативная гипотеза* гласит, что средняя выручка с клиента зависит от тарифа клиента и, разница в прибыли сильна у выборок клиентов с разными тарифами.\n",
    "\n"
   ]
  },
  {
   "cell_type": "code",
   "execution_count": 54,
   "metadata": {},
   "outputs": [
    {
     "name": "stdout",
     "output_type": "stream",
     "text": [
      "p-значение: 1.927011394420941e-250\n",
      "Отвергаем нулевую теорию\n"
     ]
    }
   ],
   "source": [
    "# в качестве параметра <alpha>, а именно критического уровня статистической значимости возьмём 5%, т.е. зададим значени 0.05\n",
    "alpha = .05\n",
    "\n",
    "# помесячная прибыль с выборки клиентов тарифа 'smart'\n",
    "sample_1 = full_monthly_data.query('tariff_name == \"smart\"')['profit']\n",
    "\n",
    "# помесячная прибыль с выборки клиентов тарифа 'ultra'\n",
    "sample_2 = full_monthly_data.query('tariff_name == \"ultra\"')['profit']\n",
    "\n",
    "# проведение t-теста с использованием полученных выборок\n",
    "result = st.ttest_ind(sample_1,\n",
    "                     sample_2,\n",
    "                     equal_var = False)\n",
    "                     \n",
    "\n",
    "\n",
    "print('p-значение:', result.pvalue)\n",
    "\n",
    "if result.pvalue < alpha:\n",
    "    print('Отвергаем нулевую теорию')\n",
    "else:\n",
    "    print('Отвергнуть нулевую теорию не получилось')"
   ]
  },
  {
   "cell_type": "markdown",
   "metadata": {},
   "source": [
    "В результате t-теста мы можем убедиться в верности альтернативной гепотезы. \n",
    "\n",
    "**Вывод**\n",
    "\n",
    "Средняя выручка с клиентов тарифов *Ultra* и *Smart* действительно различается. "
   ]
  },
  {
   "cell_type": "markdown",
   "metadata": {},
   "source": [
    "### Отличается ли средняя выручка с московских клиентов и с клиентов других регионов?"
   ]
  },
  {
   "cell_type": "markdown",
   "metadata": {},
   "source": [
    "В качестве критерия оценки возьмём тот же параметр, как и ранее - `profit`.\n",
    "\n",
    "Сформируем нулевую и альтернативную гепотезы:\n",
    "\n",
    "* *Нулевая гепотеза* гласит, что средняя выручка со столичных клиентов не значительно или вовсе не отличается от средней выручки с клиентов остальных регионов.\n",
    "\n",
    "* *Альтернативная гепотеза* гласит, что средняя выручка со столичных клиентов значительно отличается от средней выручки с клиентов остальных регионов."
   ]
  },
  {
   "cell_type": "code",
   "execution_count": 55,
   "metadata": {},
   "outputs": [
    {
     "name": "stdout",
     "output_type": "stream",
     "text": [
      "p-значение: 0.5216952110000278\n",
      "Отвергнуть нулевую теорию не получилось\n"
     ]
    }
   ],
   "source": [
    "# в качестве параметра <alpha>, а именно критического уровня статистической значимости возьмём 5%, т.е. зададим значени 0.05\n",
    "alpha = .05\n",
    "\n",
    "# помесячная прибыль с выборки столичных клиентов\n",
    "sample_1 = full_monthly_data.query('city == \"Москва\"')['profit']\n",
    "\n",
    "# помесячная прибыль с выборки клиентов иных регионов\n",
    "sample_2 = full_monthly_data.query('city != \"Москва\"')['profit']\n",
    "\n",
    "# проведение t-теста с использованием полученных выборок\n",
    "result = st.ttest_ind(sample_1,\n",
    "                     sample_2,\n",
    "                     equal_var = False)\n",
    "                     \n",
    "\n",
    "\n",
    "print('p-значение:', result.pvalue)\n",
    "\n",
    "if result.pvalue < alpha:\n",
    "    print('Отвергаем нулевую теорию')\n",
    "else:\n",
    "    print('Отвергнуть нулевую теорию не получилось')"
   ]
  },
  {
   "cell_type": "markdown",
   "metadata": {},
   "source": [
    "В результате t-теста нам ну удалось опровергнуть нулевую теорию. \n",
    "\n",
    "**Вывод**\n",
    "\n",
    "Средняя выручка со столичных клиентов и клиентов иных регионов не значительно или вовсе не различается."
   ]
  },
  {
   "cell_type": "markdown",
   "metadata": {},
   "source": [
    "## Вывод"
   ]
  },
  {
   "cell_type": "markdown",
   "metadata": {},
   "source": [
    "Проведя полноценное иследованние, можно сделать несколько выводов:\n",
    "\n",
    "* Значительная часть клиентов тарифа *Smart* перевышают тарифный план, клиенты тарифа *Ultra* наоборот не используют и 2/3 тарифного пакета.\n",
    "* Большая часть клиентов обоих тарифов практически не используют СМС-пакет.\n",
    "* Среднее и медианное потребление интернета клиентов тарифа *Ultra* лишь на 30% выше интернет пакета тарифа *Smart*\n",
    "* Средние выручки с клиентов обоих тарифов сильно отличаются.\n",
    "* Выручка с клиента не зависит от региона\n",
    "* Стоит предположить, что из-за различий в цене тарифов почти в 4 раза и малого превышения лимитов тарифного плана *Smart*, клиенты предпочитают докупать дополнительные минут и Гб, вместо того, что бы переплачивать за тариф *Ultra*\n",
    "* Стоит предположить, что такие аномалии в использовании тарифных пакетов обосновано малым выбором тарифов. Есть предположение, что расширенный выбор тарифных планов поможет решить эту проблему."
   ]
  }
 ],
 "metadata": {
  "ExecuteTimeLog": [
   {
    "duration": 886,
    "start_time": "2022-03-13T14:11:19.236Z"
   },
   {
    "duration": 354,
    "start_time": "2022-03-13T14:11:28.753Z"
   },
   {
    "duration": 1615,
    "start_time": "2022-03-13T14:16:02.230Z"
   },
   {
    "duration": 366,
    "start_time": "2022-03-13T14:16:16.642Z"
   },
   {
    "duration": 8,
    "start_time": "2022-03-13T14:22:47.911Z"
   },
   {
    "duration": 18,
    "start_time": "2022-03-13T14:23:12.509Z"
   },
   {
    "duration": 7,
    "start_time": "2022-03-13T14:23:21.297Z"
   },
   {
    "duration": 14,
    "start_time": "2022-03-13T14:23:56.599Z"
   },
   {
    "duration": 15,
    "start_time": "2022-03-13T14:24:15.033Z"
   },
   {
    "duration": 34,
    "start_time": "2022-03-13T14:25:35.626Z"
   },
   {
    "duration": 20,
    "start_time": "2022-03-13T14:27:53.163Z"
   },
   {
    "duration": 25,
    "start_time": "2022-03-13T14:30:31.675Z"
   },
   {
    "duration": 951,
    "start_time": "2022-03-13T14:31:57.624Z"
   },
   {
    "duration": 366,
    "start_time": "2022-03-13T14:31:58.577Z"
   },
   {
    "duration": 24,
    "start_time": "2022-03-13T14:31:58.945Z"
   },
   {
    "duration": 27,
    "start_time": "2022-03-13T14:31:58.971Z"
   },
   {
    "duration": 20,
    "start_time": "2022-03-13T14:31:58.999Z"
   },
   {
    "duration": 53,
    "start_time": "2022-03-13T14:31:59.021Z"
   },
   {
    "duration": 12,
    "start_time": "2022-03-13T14:31:59.076Z"
   },
   {
    "duration": 13,
    "start_time": "2022-03-13T14:33:27.937Z"
   },
   {
    "duration": 70,
    "start_time": "2022-03-13T15:30:58.845Z"
   },
   {
    "duration": 238,
    "start_time": "2022-03-14T12:35:08.329Z"
   },
   {
    "duration": 920,
    "start_time": "2022-03-14T12:35:09.983Z"
   },
   {
    "duration": 424,
    "start_time": "2022-03-14T12:35:10.905Z"
   },
   {
    "duration": 20,
    "start_time": "2022-03-14T12:35:11.332Z"
   },
   {
    "duration": 29,
    "start_time": "2022-03-14T12:35:11.355Z"
   },
   {
    "duration": 21,
    "start_time": "2022-03-14T12:35:11.386Z"
   },
   {
    "duration": 30,
    "start_time": "2022-03-14T12:35:11.409Z"
   },
   {
    "duration": 28,
    "start_time": "2022-03-14T12:35:11.440Z"
   },
   {
    "duration": 71,
    "start_time": "2022-03-14T12:35:11.470Z"
   },
   {
    "duration": 8,
    "start_time": "2022-03-14T12:35:11.560Z"
   },
   {
    "duration": 1584,
    "start_time": "2022-03-14T17:08:25.976Z"
   },
   {
    "duration": 598,
    "start_time": "2022-03-14T17:08:27.563Z"
   },
   {
    "duration": 31,
    "start_time": "2022-03-14T17:08:28.164Z"
   },
   {
    "duration": 45,
    "start_time": "2022-03-14T17:08:28.198Z"
   },
   {
    "duration": 37,
    "start_time": "2022-03-14T17:08:28.246Z"
   },
   {
    "duration": 61,
    "start_time": "2022-03-14T17:08:28.285Z"
   },
   {
    "duration": 21,
    "start_time": "2022-03-14T17:08:28.349Z"
   },
   {
    "duration": 138,
    "start_time": "2022-03-14T17:08:28.373Z"
   },
   {
    "duration": 10,
    "start_time": "2022-03-14T17:08:28.514Z"
   },
   {
    "duration": 92,
    "start_time": "2022-06-14T02:44:02.572Z"
   },
   {
    "duration": 830,
    "start_time": "2022-06-14T02:44:20.046Z"
   },
   {
    "duration": 413,
    "start_time": "2022-06-14T02:44:20.878Z"
   },
   {
    "duration": 39,
    "start_time": "2022-06-14T02:44:21.293Z"
   },
   {
    "duration": 31,
    "start_time": "2022-06-14T02:44:21.333Z"
   },
   {
    "duration": 21,
    "start_time": "2022-06-14T02:44:21.365Z"
   },
   {
    "duration": 46,
    "start_time": "2022-06-14T02:44:21.387Z"
   },
   {
    "duration": 16,
    "start_time": "2022-06-14T02:44:21.434Z"
   },
   {
    "duration": 88,
    "start_time": "2022-06-14T02:44:21.452Z"
   },
   {
    "duration": 8,
    "start_time": "2022-06-14T02:44:21.542Z"
   },
   {
    "duration": 9,
    "start_time": "2022-06-14T02:44:30.985Z"
   },
   {
    "duration": 1018,
    "start_time": "2022-06-17T09:50:10.014Z"
   },
   {
    "duration": 1109,
    "start_time": "2022-06-17T09:50:11.034Z"
   },
   {
    "duration": 40,
    "start_time": "2022-06-17T09:50:12.145Z"
   },
   {
    "duration": 53,
    "start_time": "2022-06-17T09:50:12.187Z"
   },
   {
    "duration": 29,
    "start_time": "2022-06-17T09:50:12.242Z"
   },
   {
    "duration": 52,
    "start_time": "2022-06-17T09:50:12.272Z"
   },
   {
    "duration": 18,
    "start_time": "2022-06-17T09:50:12.326Z"
   },
   {
    "duration": 97,
    "start_time": "2022-06-17T09:50:12.345Z"
   },
   {
    "duration": 10,
    "start_time": "2022-06-17T09:50:12.444Z"
   },
   {
    "duration": 25,
    "start_time": "2022-06-17T09:50:12.457Z"
   },
   {
    "duration": 30,
    "start_time": "2022-06-17T09:51:31.719Z"
   },
   {
    "duration": 25,
    "start_time": "2022-06-17T09:53:27.815Z"
   },
   {
    "duration": 5,
    "start_time": "2022-06-17T10:02:31.457Z"
   },
   {
    "duration": 7,
    "start_time": "2022-06-17T10:18:20.035Z"
   },
   {
    "duration": 5,
    "start_time": "2022-06-17T10:18:42.553Z"
   },
   {
    "duration": 4,
    "start_time": "2022-06-17T10:18:58.084Z"
   },
   {
    "duration": 147,
    "start_time": "2022-06-17T11:16:22.238Z"
   },
   {
    "duration": 10,
    "start_time": "2022-06-17T11:17:25.440Z"
   },
   {
    "duration": 106,
    "start_time": "2022-06-17T11:29:42.764Z"
   },
   {
    "duration": 93,
    "start_time": "2022-06-17T11:29:54.342Z"
   },
   {
    "duration": 864,
    "start_time": "2022-06-17T11:30:30.668Z"
   },
   {
    "duration": 523,
    "start_time": "2022-06-17T11:30:31.543Z"
   },
   {
    "duration": 26,
    "start_time": "2022-06-17T11:30:32.068Z"
   },
   {
    "duration": 44,
    "start_time": "2022-06-17T11:30:32.096Z"
   },
   {
    "duration": 24,
    "start_time": "2022-06-17T11:30:32.142Z"
   },
   {
    "duration": 27,
    "start_time": "2022-06-17T11:30:32.167Z"
   },
   {
    "duration": 41,
    "start_time": "2022-06-17T11:30:32.196Z"
   },
   {
    "duration": 91,
    "start_time": "2022-06-17T11:30:32.239Z"
   },
   {
    "duration": 11,
    "start_time": "2022-06-17T11:30:32.331Z"
   },
   {
    "duration": 25,
    "start_time": "2022-06-17T11:30:32.345Z"
   },
   {
    "duration": 5,
    "start_time": "2022-06-17T11:30:32.372Z"
   },
   {
    "duration": 11,
    "start_time": "2022-06-17T11:30:32.378Z"
   },
   {
    "duration": 156,
    "start_time": "2022-06-17T11:30:32.391Z"
   },
   {
    "duration": 10,
    "start_time": "2022-06-17T11:30:32.549Z"
   },
   {
    "duration": 85,
    "start_time": "2022-06-17T11:30:32.561Z"
   },
   {
    "duration": 55,
    "start_time": "2022-06-17T11:31:15.107Z"
   },
   {
    "duration": 55,
    "start_time": "2022-06-17T11:31:21.808Z"
   },
   {
    "duration": 97,
    "start_time": "2022-06-17T11:35:45.086Z"
   },
   {
    "duration": 89,
    "start_time": "2022-06-17T11:36:38.302Z"
   },
   {
    "duration": 879,
    "start_time": "2022-06-17T11:44:21.341Z"
   },
   {
    "duration": 517,
    "start_time": "2022-06-17T11:44:22.223Z"
   },
   {
    "duration": 37,
    "start_time": "2022-06-17T11:44:22.743Z"
   },
   {
    "duration": 45,
    "start_time": "2022-06-17T11:44:22.782Z"
   },
   {
    "duration": 38,
    "start_time": "2022-06-17T11:44:22.834Z"
   },
   {
    "duration": 51,
    "start_time": "2022-06-17T11:44:22.876Z"
   },
   {
    "duration": 18,
    "start_time": "2022-06-17T11:44:22.929Z"
   },
   {
    "duration": 128,
    "start_time": "2022-06-17T11:44:22.950Z"
   },
   {
    "duration": 10,
    "start_time": "2022-06-17T11:44:23.079Z"
   },
   {
    "duration": 158,
    "start_time": "2022-06-17T11:44:23.092Z"
   },
   {
    "duration": 0,
    "start_time": "2022-06-17T11:44:23.255Z"
   },
   {
    "duration": 0,
    "start_time": "2022-06-17T11:44:23.256Z"
   },
   {
    "duration": 0,
    "start_time": "2022-06-17T11:44:23.257Z"
   },
   {
    "duration": 0,
    "start_time": "2022-06-17T11:44:23.262Z"
   },
   {
    "duration": 0,
    "start_time": "2022-06-17T11:44:23.263Z"
   },
   {
    "duration": 0,
    "start_time": "2022-06-17T11:44:23.264Z"
   },
   {
    "duration": 862,
    "start_time": "2022-06-17T11:44:57.154Z"
   },
   {
    "duration": 471,
    "start_time": "2022-06-17T11:44:58.018Z"
   },
   {
    "duration": 25,
    "start_time": "2022-06-17T11:44:58.491Z"
   },
   {
    "duration": 55,
    "start_time": "2022-06-17T11:44:58.518Z"
   },
   {
    "duration": 23,
    "start_time": "2022-06-17T11:44:58.575Z"
   },
   {
    "duration": 47,
    "start_time": "2022-06-17T11:44:58.600Z"
   },
   {
    "duration": 13,
    "start_time": "2022-06-17T11:44:58.649Z"
   },
   {
    "duration": 108,
    "start_time": "2022-06-17T11:44:58.664Z"
   },
   {
    "duration": 9,
    "start_time": "2022-06-17T11:44:58.774Z"
   },
   {
    "duration": 68,
    "start_time": "2022-06-17T11:44:58.785Z"
   },
   {
    "duration": 6,
    "start_time": "2022-06-17T11:44:58.855Z"
   },
   {
    "duration": 8,
    "start_time": "2022-06-17T11:44:58.863Z"
   },
   {
    "duration": 268,
    "start_time": "2022-06-17T11:44:58.872Z"
   },
   {
    "duration": 10,
    "start_time": "2022-06-17T11:44:59.142Z"
   },
   {
    "duration": 123,
    "start_time": "2022-06-17T11:44:59.154Z"
   },
   {
    "duration": 3,
    "start_time": "2022-06-17T11:44:59.279Z"
   },
   {
    "duration": 33,
    "start_time": "2022-06-17T22:55:01.166Z"
   },
   {
    "duration": 41,
    "start_time": "2022-06-17T22:55:08.360Z"
   },
   {
    "duration": 937,
    "start_time": "2022-06-17T22:55:15.813Z"
   },
   {
    "duration": 1331,
    "start_time": "2022-06-17T22:55:16.752Z"
   },
   {
    "duration": 25,
    "start_time": "2022-06-17T22:55:18.085Z"
   },
   {
    "duration": 32,
    "start_time": "2022-06-17T22:55:18.112Z"
   },
   {
    "duration": 22,
    "start_time": "2022-06-17T22:55:18.146Z"
   },
   {
    "duration": 27,
    "start_time": "2022-06-17T22:55:18.170Z"
   },
   {
    "duration": 34,
    "start_time": "2022-06-17T22:55:18.199Z"
   },
   {
    "duration": 75,
    "start_time": "2022-06-17T22:55:18.235Z"
   },
   {
    "duration": 18,
    "start_time": "2022-06-17T22:55:18.312Z"
   },
   {
    "duration": 53,
    "start_time": "2022-06-17T22:55:18.332Z"
   },
   {
    "duration": 4,
    "start_time": "2022-06-17T22:55:18.387Z"
   },
   {
    "duration": 8,
    "start_time": "2022-06-17T22:55:18.393Z"
   },
   {
    "duration": 230,
    "start_time": "2022-06-17T22:55:18.403Z"
   },
   {
    "duration": 10,
    "start_time": "2022-06-17T22:55:18.634Z"
   },
   {
    "duration": 106,
    "start_time": "2022-06-17T22:55:18.646Z"
   },
   {
    "duration": 34,
    "start_time": "2022-06-17T22:55:18.754Z"
   },
   {
    "duration": 35,
    "start_time": "2022-06-17T22:55:38.973Z"
   },
   {
    "duration": 3,
    "start_time": "2022-06-17T23:01:35.447Z"
   },
   {
    "duration": 86,
    "start_time": "2022-06-17T23:06:05.908Z"
   },
   {
    "duration": 3,
    "start_time": "2022-06-17T23:06:17.957Z"
   },
   {
    "duration": 12,
    "start_time": "2022-06-17T23:06:19.698Z"
   },
   {
    "duration": 15,
    "start_time": "2022-06-17T23:06:31.139Z"
   },
   {
    "duration": 845,
    "start_time": "2022-06-17T23:09:56.482Z"
   },
   {
    "duration": 410,
    "start_time": "2022-06-17T23:09:57.330Z"
   },
   {
    "duration": 24,
    "start_time": "2022-06-17T23:09:57.742Z"
   },
   {
    "duration": 28,
    "start_time": "2022-06-17T23:09:57.768Z"
   },
   {
    "duration": 31,
    "start_time": "2022-06-17T23:09:57.797Z"
   },
   {
    "duration": 38,
    "start_time": "2022-06-17T23:09:57.830Z"
   },
   {
    "duration": 17,
    "start_time": "2022-06-17T23:09:57.870Z"
   },
   {
    "duration": 98,
    "start_time": "2022-06-17T23:09:57.889Z"
   },
   {
    "duration": 8,
    "start_time": "2022-06-17T23:09:57.989Z"
   },
   {
    "duration": 64,
    "start_time": "2022-06-17T23:09:57.999Z"
   },
   {
    "duration": 4,
    "start_time": "2022-06-17T23:09:58.065Z"
   },
   {
    "duration": 10,
    "start_time": "2022-06-17T23:09:58.070Z"
   },
   {
    "duration": 201,
    "start_time": "2022-06-17T23:09:58.082Z"
   },
   {
    "duration": 10,
    "start_time": "2022-06-17T23:09:58.285Z"
   },
   {
    "duration": 99,
    "start_time": "2022-06-17T23:09:58.296Z"
   },
   {
    "duration": 46,
    "start_time": "2022-06-17T23:09:58.397Z"
   },
   {
    "duration": 2,
    "start_time": "2022-06-17T23:09:58.445Z"
   },
   {
    "duration": 18,
    "start_time": "2022-06-17T23:09:58.448Z"
   },
   {
    "duration": 876,
    "start_time": "2022-06-17T23:10:07.343Z"
   },
   {
    "duration": 409,
    "start_time": "2022-06-17T23:10:08.221Z"
   },
   {
    "duration": 25,
    "start_time": "2022-06-17T23:10:08.631Z"
   },
   {
    "duration": 30,
    "start_time": "2022-06-17T23:10:08.659Z"
   },
   {
    "duration": 43,
    "start_time": "2022-06-17T23:10:08.691Z"
   },
   {
    "duration": 27,
    "start_time": "2022-06-17T23:10:08.736Z"
   },
   {
    "duration": 15,
    "start_time": "2022-06-17T23:10:08.765Z"
   },
   {
    "duration": 103,
    "start_time": "2022-06-17T23:10:08.782Z"
   },
   {
    "duration": 8,
    "start_time": "2022-06-17T23:10:08.887Z"
   },
   {
    "duration": 63,
    "start_time": "2022-06-17T23:10:08.899Z"
   },
   {
    "duration": 5,
    "start_time": "2022-06-17T23:10:08.964Z"
   },
   {
    "duration": 10,
    "start_time": "2022-06-17T23:10:08.971Z"
   },
   {
    "duration": 212,
    "start_time": "2022-06-17T23:10:08.983Z"
   },
   {
    "duration": 10,
    "start_time": "2022-06-17T23:10:09.197Z"
   },
   {
    "duration": 112,
    "start_time": "2022-06-17T23:10:09.209Z"
   },
   {
    "duration": 41,
    "start_time": "2022-06-17T23:10:09.322Z"
   },
   {
    "duration": 3,
    "start_time": "2022-06-17T23:10:09.364Z"
   },
   {
    "duration": 106,
    "start_time": "2022-06-17T23:10:09.370Z"
   },
   {
    "duration": 11,
    "start_time": "2022-06-17T23:10:20.198Z"
   },
   {
    "duration": 829,
    "start_time": "2022-06-18T00:01:58.285Z"
   },
   {
    "duration": 410,
    "start_time": "2022-06-18T00:01:59.115Z"
   },
   {
    "duration": 25,
    "start_time": "2022-06-18T00:01:59.526Z"
   },
   {
    "duration": 32,
    "start_time": "2022-06-18T00:01:59.553Z"
   },
   {
    "duration": 46,
    "start_time": "2022-06-18T00:01:59.586Z"
   },
   {
    "duration": 26,
    "start_time": "2022-06-18T00:01:59.634Z"
   },
   {
    "duration": 14,
    "start_time": "2022-06-18T00:01:59.662Z"
   },
   {
    "duration": 96,
    "start_time": "2022-06-18T00:01:59.678Z"
   },
   {
    "duration": 9,
    "start_time": "2022-06-18T00:01:59.776Z"
   },
   {
    "duration": 70,
    "start_time": "2022-06-18T00:01:59.787Z"
   },
   {
    "duration": 4,
    "start_time": "2022-06-18T00:01:59.859Z"
   },
   {
    "duration": 34,
    "start_time": "2022-06-18T00:01:59.864Z"
   },
   {
    "duration": 236,
    "start_time": "2022-06-18T00:01:59.900Z"
   },
   {
    "duration": 10,
    "start_time": "2022-06-18T00:02:00.138Z"
   },
   {
    "duration": 121,
    "start_time": "2022-06-18T00:02:00.149Z"
   },
   {
    "duration": 41,
    "start_time": "2022-06-18T00:02:00.272Z"
   },
   {
    "duration": 3,
    "start_time": "2022-06-18T00:02:00.314Z"
   },
   {
    "duration": 34,
    "start_time": "2022-06-18T00:02:00.326Z"
   },
   {
    "duration": 820,
    "start_time": "2022-06-19T02:08:20.201Z"
   },
   {
    "duration": 1017,
    "start_time": "2022-06-19T02:08:21.023Z"
   },
   {
    "duration": 25,
    "start_time": "2022-06-19T02:08:22.041Z"
   },
   {
    "duration": 29,
    "start_time": "2022-06-19T02:08:22.068Z"
   },
   {
    "duration": 35,
    "start_time": "2022-06-19T02:08:22.098Z"
   },
   {
    "duration": 27,
    "start_time": "2022-06-19T02:08:22.138Z"
   },
   {
    "duration": 14,
    "start_time": "2022-06-19T02:08:22.167Z"
   },
   {
    "duration": 96,
    "start_time": "2022-06-19T02:08:22.182Z"
   },
   {
    "duration": 8,
    "start_time": "2022-06-19T02:08:22.279Z"
   },
   {
    "duration": 59,
    "start_time": "2022-06-19T02:08:22.290Z"
   },
   {
    "duration": 5,
    "start_time": "2022-06-19T02:08:22.351Z"
   },
   {
    "duration": 20,
    "start_time": "2022-06-19T02:08:22.357Z"
   },
   {
    "duration": 219,
    "start_time": "2022-06-19T02:08:22.378Z"
   },
   {
    "duration": 9,
    "start_time": "2022-06-19T02:08:22.598Z"
   },
   {
    "duration": 101,
    "start_time": "2022-06-19T02:08:22.608Z"
   },
   {
    "duration": 54,
    "start_time": "2022-06-19T02:08:22.711Z"
   },
   {
    "duration": 3,
    "start_time": "2022-06-19T02:08:22.766Z"
   },
   {
    "duration": 14,
    "start_time": "2022-06-19T02:08:22.771Z"
   },
   {
    "duration": 275,
    "start_time": "2022-06-19T02:08:22.787Z"
   },
   {
    "duration": 40,
    "start_time": "2022-06-19T02:08:32.618Z"
   },
   {
    "duration": 18,
    "start_time": "2022-06-19T02:19:28.534Z"
   },
   {
    "duration": 879,
    "start_time": "2022-06-19T02:20:26.832Z"
   },
   {
    "duration": 428,
    "start_time": "2022-06-19T02:20:27.713Z"
   },
   {
    "duration": 25,
    "start_time": "2022-06-19T02:20:28.143Z"
   },
   {
    "duration": 29,
    "start_time": "2022-06-19T02:20:28.171Z"
   },
   {
    "duration": 32,
    "start_time": "2022-06-19T02:20:28.201Z"
   },
   {
    "duration": 25,
    "start_time": "2022-06-19T02:20:28.234Z"
   },
   {
    "duration": 13,
    "start_time": "2022-06-19T02:20:28.261Z"
   },
   {
    "duration": 98,
    "start_time": "2022-06-19T02:20:28.275Z"
   },
   {
    "duration": 8,
    "start_time": "2022-06-19T02:20:28.374Z"
   },
   {
    "duration": 55,
    "start_time": "2022-06-19T02:20:28.384Z"
   },
   {
    "duration": 4,
    "start_time": "2022-06-19T02:20:28.441Z"
   },
   {
    "duration": 12,
    "start_time": "2022-06-19T02:20:28.446Z"
   },
   {
    "duration": 203,
    "start_time": "2022-06-19T02:20:28.460Z"
   },
   {
    "duration": 10,
    "start_time": "2022-06-19T02:20:28.665Z"
   },
   {
    "duration": 101,
    "start_time": "2022-06-19T02:20:28.676Z"
   },
   {
    "duration": 38,
    "start_time": "2022-06-19T02:20:28.779Z"
   },
   {
    "duration": 3,
    "start_time": "2022-06-19T02:20:28.827Z"
   },
   {
    "duration": 15,
    "start_time": "2022-06-19T02:20:28.832Z"
   },
   {
    "duration": 48,
    "start_time": "2022-06-19T02:20:28.849Z"
   },
   {
    "duration": 42,
    "start_time": "2022-06-19T02:20:28.898Z"
   },
   {
    "duration": 916,
    "start_time": "2022-06-19T02:26:57.088Z"
   },
   {
    "duration": 411,
    "start_time": "2022-06-19T02:26:58.006Z"
   },
   {
    "duration": 23,
    "start_time": "2022-06-19T02:26:58.419Z"
   },
   {
    "duration": 29,
    "start_time": "2022-06-19T02:26:58.444Z"
   },
   {
    "duration": 21,
    "start_time": "2022-06-19T02:26:58.474Z"
   },
   {
    "duration": 56,
    "start_time": "2022-06-19T02:26:58.497Z"
   },
   {
    "duration": 15,
    "start_time": "2022-06-19T02:26:58.555Z"
   },
   {
    "duration": 97,
    "start_time": "2022-06-19T02:26:58.572Z"
   },
   {
    "duration": 8,
    "start_time": "2022-06-19T02:26:58.671Z"
   },
   {
    "duration": 65,
    "start_time": "2022-06-19T02:26:58.681Z"
   },
   {
    "duration": 4,
    "start_time": "2022-06-19T02:26:58.748Z"
   },
   {
    "duration": 9,
    "start_time": "2022-06-19T02:26:58.754Z"
   },
   {
    "duration": 204,
    "start_time": "2022-06-19T02:26:58.765Z"
   },
   {
    "duration": 11,
    "start_time": "2022-06-19T02:26:58.971Z"
   },
   {
    "duration": 106,
    "start_time": "2022-06-19T02:26:58.983Z"
   },
   {
    "duration": 60,
    "start_time": "2022-06-19T02:26:59.091Z"
   },
   {
    "duration": 3,
    "start_time": "2022-06-19T02:26:59.153Z"
   },
   {
    "duration": 18,
    "start_time": "2022-06-19T02:26:59.158Z"
   },
   {
    "duration": 68,
    "start_time": "2022-06-19T02:26:59.178Z"
   },
   {
    "duration": 32,
    "start_time": "2022-06-19T02:26:59.248Z"
   },
   {
    "duration": 13,
    "start_time": "2022-06-19T02:27:57.371Z"
   },
   {
    "duration": 873,
    "start_time": "2022-06-19T02:29:08.346Z"
   },
   {
    "duration": 484,
    "start_time": "2022-06-19T02:29:09.221Z"
   },
   {
    "duration": 29,
    "start_time": "2022-06-19T02:29:09.706Z"
   },
   {
    "duration": 34,
    "start_time": "2022-06-19T02:29:09.739Z"
   },
   {
    "duration": 22,
    "start_time": "2022-06-19T02:29:09.775Z"
   },
   {
    "duration": 57,
    "start_time": "2022-06-19T02:29:09.799Z"
   },
   {
    "duration": 19,
    "start_time": "2022-06-19T02:29:09.858Z"
   },
   {
    "duration": 108,
    "start_time": "2022-06-19T02:29:09.879Z"
   },
   {
    "duration": 9,
    "start_time": "2022-06-19T02:29:09.988Z"
   },
   {
    "duration": 61,
    "start_time": "2022-06-19T02:29:10.000Z"
   },
   {
    "duration": 5,
    "start_time": "2022-06-19T02:29:10.063Z"
   },
   {
    "duration": 9,
    "start_time": "2022-06-19T02:29:10.069Z"
   },
   {
    "duration": 227,
    "start_time": "2022-06-19T02:29:10.079Z"
   },
   {
    "duration": 10,
    "start_time": "2022-06-19T02:29:10.307Z"
   },
   {
    "duration": 126,
    "start_time": "2022-06-19T02:29:10.319Z"
   },
   {
    "duration": 41,
    "start_time": "2022-06-19T02:29:10.447Z"
   },
   {
    "duration": 3,
    "start_time": "2022-06-19T02:29:10.491Z"
   },
   {
    "duration": 17,
    "start_time": "2022-06-19T02:29:10.496Z"
   },
   {
    "duration": 51,
    "start_time": "2022-06-19T02:29:10.515Z"
   },
   {
    "duration": 28,
    "start_time": "2022-06-19T02:29:10.568Z"
   },
   {
    "duration": 411,
    "start_time": "2022-06-19T02:30:22.760Z"
   },
   {
    "duration": 868,
    "start_time": "2022-06-19T02:35:53.857Z"
   },
   {
    "duration": 474,
    "start_time": "2022-06-19T02:35:54.727Z"
   },
   {
    "duration": 31,
    "start_time": "2022-06-19T02:35:55.202Z"
   },
   {
    "duration": 48,
    "start_time": "2022-06-19T02:35:55.235Z"
   },
   {
    "duration": 22,
    "start_time": "2022-06-19T02:35:55.284Z"
   },
   {
    "duration": 58,
    "start_time": "2022-06-19T02:35:55.308Z"
   },
   {
    "duration": 16,
    "start_time": "2022-06-19T02:35:55.368Z"
   },
   {
    "duration": 94,
    "start_time": "2022-06-19T02:35:55.386Z"
   },
   {
    "duration": 8,
    "start_time": "2022-06-19T02:35:55.482Z"
   },
   {
    "duration": 70,
    "start_time": "2022-06-19T02:35:55.492Z"
   },
   {
    "duration": 4,
    "start_time": "2022-06-19T02:35:55.564Z"
   },
   {
    "duration": 19,
    "start_time": "2022-06-19T02:35:55.570Z"
   },
   {
    "duration": 276,
    "start_time": "2022-06-19T02:35:55.591Z"
   },
   {
    "duration": 10,
    "start_time": "2022-06-19T02:35:55.869Z"
   },
   {
    "duration": 108,
    "start_time": "2022-06-19T02:35:55.881Z"
   },
   {
    "duration": 66,
    "start_time": "2022-06-19T02:35:55.991Z"
   },
   {
    "duration": 3,
    "start_time": "2022-06-19T02:35:56.059Z"
   },
   {
    "duration": 23,
    "start_time": "2022-06-19T02:35:56.063Z"
   },
   {
    "duration": 57,
    "start_time": "2022-06-19T02:35:56.088Z"
   },
   {
    "duration": 29,
    "start_time": "2022-06-19T02:35:56.148Z"
   },
   {
    "duration": 183,
    "start_time": "2022-06-19T02:35:56.179Z"
   },
   {
    "duration": 60,
    "start_time": "2022-06-19T02:36:55.014Z"
   },
   {
    "duration": 62,
    "start_time": "2022-06-19T02:37:07.504Z"
   },
   {
    "duration": 8,
    "start_time": "2022-06-19T02:37:32.793Z"
   },
   {
    "duration": 59,
    "start_time": "2022-06-19T02:42:30.295Z"
   },
   {
    "duration": 833,
    "start_time": "2022-06-19T02:44:09.088Z"
   },
   {
    "duration": 451,
    "start_time": "2022-06-19T02:44:09.923Z"
   },
   {
    "duration": 26,
    "start_time": "2022-06-19T02:44:10.376Z"
   },
   {
    "duration": 46,
    "start_time": "2022-06-19T02:44:10.405Z"
   },
   {
    "duration": 25,
    "start_time": "2022-06-19T02:44:10.453Z"
   },
   {
    "duration": 27,
    "start_time": "2022-06-19T02:44:10.479Z"
   },
   {
    "duration": 22,
    "start_time": "2022-06-19T02:44:10.531Z"
   },
   {
    "duration": 97,
    "start_time": "2022-06-19T02:44:10.555Z"
   },
   {
    "duration": 10,
    "start_time": "2022-06-19T02:44:10.654Z"
   },
   {
    "duration": 63,
    "start_time": "2022-06-19T02:44:10.667Z"
   },
   {
    "duration": 6,
    "start_time": "2022-06-19T02:44:10.738Z"
   },
   {
    "duration": 28,
    "start_time": "2022-06-19T02:44:10.746Z"
   },
   {
    "duration": 248,
    "start_time": "2022-06-19T02:44:10.776Z"
   },
   {
    "duration": 17,
    "start_time": "2022-06-19T02:44:11.026Z"
   },
   {
    "duration": 79,
    "start_time": "2022-06-19T02:44:11.045Z"
   },
   {
    "duration": 46,
    "start_time": "2022-06-19T02:44:11.125Z"
   },
   {
    "duration": 3,
    "start_time": "2022-06-19T02:44:11.172Z"
   },
   {
    "duration": 11,
    "start_time": "2022-06-19T02:44:11.177Z"
   },
   {
    "duration": 60,
    "start_time": "2022-06-19T02:44:11.190Z"
   },
   {
    "duration": 28,
    "start_time": "2022-06-19T02:44:11.253Z"
   },
   {
    "duration": 13,
    "start_time": "2022-06-19T02:46:41.657Z"
   },
   {
    "duration": 10,
    "start_time": "2022-06-19T09:24:43.254Z"
   },
   {
    "duration": 844,
    "start_time": "2022-06-19T09:24:58.690Z"
   },
   {
    "duration": 495,
    "start_time": "2022-06-19T09:24:59.536Z"
   },
   {
    "duration": 26,
    "start_time": "2022-06-19T09:25:00.033Z"
   },
   {
    "duration": 30,
    "start_time": "2022-06-19T09:25:00.061Z"
   },
   {
    "duration": 48,
    "start_time": "2022-06-19T09:25:00.092Z"
   },
   {
    "duration": 27,
    "start_time": "2022-06-19T09:25:00.142Z"
   },
   {
    "duration": 14,
    "start_time": "2022-06-19T09:25:00.170Z"
   },
   {
    "duration": 105,
    "start_time": "2022-06-19T09:25:00.186Z"
   },
   {
    "duration": 9,
    "start_time": "2022-06-19T09:25:00.293Z"
   },
   {
    "duration": 60,
    "start_time": "2022-06-19T09:25:00.305Z"
   },
   {
    "duration": 5,
    "start_time": "2022-06-19T09:25:00.367Z"
   },
   {
    "duration": 31,
    "start_time": "2022-06-19T09:25:00.374Z"
   },
   {
    "duration": 224,
    "start_time": "2022-06-19T09:25:00.406Z"
   },
   {
    "duration": 10,
    "start_time": "2022-06-19T09:25:00.632Z"
   },
   {
    "duration": 92,
    "start_time": "2022-06-19T09:25:00.644Z"
   },
   {
    "duration": 43,
    "start_time": "2022-06-19T09:25:00.737Z"
   },
   {
    "duration": 3,
    "start_time": "2022-06-19T09:25:00.782Z"
   },
   {
    "duration": 17,
    "start_time": "2022-06-19T09:25:00.786Z"
   },
   {
    "duration": 65,
    "start_time": "2022-06-19T09:25:00.805Z"
   },
   {
    "duration": 21,
    "start_time": "2022-06-19T09:25:00.872Z"
   },
   {
    "duration": 12,
    "start_time": "2022-06-19T09:25:00.895Z"
   },
   {
    "duration": 16,
    "start_time": "2022-06-19T09:25:00.927Z"
   },
   {
    "duration": 17,
    "start_time": "2022-06-19T09:27:35.557Z"
   },
   {
    "duration": 9,
    "start_time": "2022-06-19T09:27:46.450Z"
   },
   {
    "duration": 895,
    "start_time": "2022-06-19T09:28:55.551Z"
   },
   {
    "duration": 431,
    "start_time": "2022-06-19T09:28:56.448Z"
   },
   {
    "duration": 26,
    "start_time": "2022-06-19T09:28:56.880Z"
   },
   {
    "duration": 43,
    "start_time": "2022-06-19T09:28:56.907Z"
   },
   {
    "duration": 24,
    "start_time": "2022-06-19T09:28:56.953Z"
   },
   {
    "duration": 27,
    "start_time": "2022-06-19T09:28:56.979Z"
   },
   {
    "duration": 20,
    "start_time": "2022-06-19T09:28:57.028Z"
   },
   {
    "duration": 92,
    "start_time": "2022-06-19T09:28:57.050Z"
   },
   {
    "duration": 10,
    "start_time": "2022-06-19T09:28:57.144Z"
   },
   {
    "duration": 51,
    "start_time": "2022-06-19T09:28:57.155Z"
   },
   {
    "duration": 4,
    "start_time": "2022-06-19T09:28:57.208Z"
   },
   {
    "duration": 6,
    "start_time": "2022-06-19T09:28:57.227Z"
   },
   {
    "duration": 241,
    "start_time": "2022-06-19T09:28:57.234Z"
   },
   {
    "duration": 11,
    "start_time": "2022-06-19T09:28:57.477Z"
   },
   {
    "duration": 83,
    "start_time": "2022-06-19T09:28:57.489Z"
   },
   {
    "duration": 60,
    "start_time": "2022-06-19T09:28:57.574Z"
   },
   {
    "duration": 4,
    "start_time": "2022-06-19T09:28:57.635Z"
   },
   {
    "duration": 13,
    "start_time": "2022-06-19T09:28:57.640Z"
   },
   {
    "duration": 40,
    "start_time": "2022-06-19T09:28:57.655Z"
   },
   {
    "duration": 43,
    "start_time": "2022-06-19T09:28:57.697Z"
   },
   {
    "duration": 11,
    "start_time": "2022-06-19T09:28:57.742Z"
   },
   {
    "duration": 8,
    "start_time": "2022-06-19T09:28:57.755Z"
   },
   {
    "duration": 10,
    "start_time": "2022-06-19T09:28:57.765Z"
   },
   {
    "duration": 133,
    "start_time": "2022-06-19T09:35:41.766Z"
   },
   {
    "duration": 10,
    "start_time": "2022-06-19T09:36:21.475Z"
   },
   {
    "duration": 11,
    "start_time": "2022-06-19T09:37:27.949Z"
   },
   {
    "duration": 10,
    "start_time": "2022-06-19T09:38:53.565Z"
   },
   {
    "duration": 20,
    "start_time": "2022-06-19T09:39:12.558Z"
   },
   {
    "duration": 12,
    "start_time": "2022-06-19T09:40:50.344Z"
   },
   {
    "duration": 23,
    "start_time": "2022-06-19T09:41:01.854Z"
   },
   {
    "duration": 13,
    "start_time": "2022-06-19T09:41:23.987Z"
   },
   {
    "duration": 55,
    "start_time": "2022-06-19T09:43:06.370Z"
   },
   {
    "duration": 21,
    "start_time": "2022-06-19T09:43:38.955Z"
   },
   {
    "duration": 15,
    "start_time": "2022-06-19T09:43:44.986Z"
   },
   {
    "duration": 854,
    "start_time": "2022-06-20T06:00:25.069Z"
   },
   {
    "duration": 908,
    "start_time": "2022-06-20T06:00:25.925Z"
   },
   {
    "duration": 30,
    "start_time": "2022-06-20T06:00:26.835Z"
   },
   {
    "duration": 36,
    "start_time": "2022-06-20T06:00:26.868Z"
   },
   {
    "duration": 40,
    "start_time": "2022-06-20T06:00:26.906Z"
   },
   {
    "duration": 37,
    "start_time": "2022-06-20T06:00:26.948Z"
   },
   {
    "duration": 43,
    "start_time": "2022-06-20T06:00:26.987Z"
   },
   {
    "duration": 91,
    "start_time": "2022-06-20T06:00:27.032Z"
   },
   {
    "duration": 11,
    "start_time": "2022-06-20T06:00:27.125Z"
   },
   {
    "duration": 63,
    "start_time": "2022-06-20T06:00:27.139Z"
   },
   {
    "duration": 22,
    "start_time": "2022-06-20T06:00:27.204Z"
   },
   {
    "duration": 9,
    "start_time": "2022-06-20T06:00:27.228Z"
   },
   {
    "duration": 232,
    "start_time": "2022-06-20T06:00:27.239Z"
   },
   {
    "duration": 11,
    "start_time": "2022-06-20T06:00:27.473Z"
   },
   {
    "duration": 82,
    "start_time": "2022-06-20T06:00:27.485Z"
   },
   {
    "duration": 57,
    "start_time": "2022-06-20T06:00:27.568Z"
   },
   {
    "duration": 5,
    "start_time": "2022-06-20T06:00:27.627Z"
   },
   {
    "duration": 17,
    "start_time": "2022-06-20T06:00:27.633Z"
   },
   {
    "duration": 52,
    "start_time": "2022-06-20T06:00:27.651Z"
   },
   {
    "duration": 36,
    "start_time": "2022-06-20T06:00:27.705Z"
   },
   {
    "duration": 12,
    "start_time": "2022-06-20T06:00:27.742Z"
   },
   {
    "duration": 10,
    "start_time": "2022-06-20T06:00:27.756Z"
   },
   {
    "duration": 8,
    "start_time": "2022-06-20T06:00:27.768Z"
   },
   {
    "duration": 15,
    "start_time": "2022-06-20T06:00:27.777Z"
   },
   {
    "duration": 45,
    "start_time": "2022-06-20T06:00:27.794Z"
   },
   {
    "duration": 12,
    "start_time": "2022-06-20T06:00:27.840Z"
   },
   {
    "duration": 10,
    "start_time": "2022-06-20T06:07:08.797Z"
   },
   {
    "duration": 102,
    "start_time": "2022-06-20T06:07:41.544Z"
   },
   {
    "duration": 15,
    "start_time": "2022-06-20T06:07:52.895Z"
   },
   {
    "duration": 16,
    "start_time": "2022-06-20T06:09:09.265Z"
   },
   {
    "duration": 5,
    "start_time": "2022-06-20T06:09:36.854Z"
   },
   {
    "duration": 9,
    "start_time": "2022-06-20T06:09:41.622Z"
   },
   {
    "duration": 7,
    "start_time": "2022-06-20T06:10:24.852Z"
   },
   {
    "duration": 48,
    "start_time": "2022-06-20T06:20:38.252Z"
   },
   {
    "duration": 51,
    "start_time": "2022-06-20T06:20:54.299Z"
   },
   {
    "duration": 6,
    "start_time": "2022-06-20T07:34:33.699Z"
   },
   {
    "duration": 876,
    "start_time": "2022-06-20T07:37:12.795Z"
   },
   {
    "duration": 840,
    "start_time": "2022-06-20T07:39:39.475Z"
   },
   {
    "duration": 894,
    "start_time": "2022-06-20T07:39:45.122Z"
   },
   {
    "duration": 819,
    "start_time": "2022-06-20T07:40:46.562Z"
   },
   {
    "duration": 983,
    "start_time": "2022-06-20T07:42:43.317Z"
   },
   {
    "duration": 951,
    "start_time": "2022-06-20T07:43:43.448Z"
   },
   {
    "duration": 880,
    "start_time": "2022-06-20T07:44:40.080Z"
   },
   {
    "duration": 442,
    "start_time": "2022-06-20T07:44:40.962Z"
   },
   {
    "duration": 30,
    "start_time": "2022-06-20T07:44:41.406Z"
   },
   {
    "duration": 31,
    "start_time": "2022-06-20T07:44:41.438Z"
   },
   {
    "duration": 22,
    "start_time": "2022-06-20T07:44:41.471Z"
   },
   {
    "duration": 58,
    "start_time": "2022-06-20T07:44:41.495Z"
   },
   {
    "duration": 15,
    "start_time": "2022-06-20T07:44:41.555Z"
   },
   {
    "duration": 101,
    "start_time": "2022-06-20T07:44:41.572Z"
   },
   {
    "duration": 8,
    "start_time": "2022-06-20T07:44:41.675Z"
   },
   {
    "duration": 62,
    "start_time": "2022-06-20T07:44:41.686Z"
   },
   {
    "duration": 5,
    "start_time": "2022-06-20T07:44:41.750Z"
   },
   {
    "duration": 8,
    "start_time": "2022-06-20T07:44:41.757Z"
   },
   {
    "duration": 250,
    "start_time": "2022-06-20T07:44:41.767Z"
   },
   {
    "duration": 15,
    "start_time": "2022-06-20T07:44:42.019Z"
   },
   {
    "duration": 74,
    "start_time": "2022-06-20T07:44:42.036Z"
   },
   {
    "duration": 66,
    "start_time": "2022-06-20T07:44:42.112Z"
   },
   {
    "duration": 3,
    "start_time": "2022-06-20T07:44:42.180Z"
   },
   {
    "duration": 25,
    "start_time": "2022-06-20T07:44:42.184Z"
   },
   {
    "duration": 67,
    "start_time": "2022-06-20T07:44:42.211Z"
   },
   {
    "duration": 21,
    "start_time": "2022-06-20T07:44:42.280Z"
   },
   {
    "duration": 12,
    "start_time": "2022-06-20T07:44:42.302Z"
   },
   {
    "duration": 10,
    "start_time": "2022-06-20T07:44:42.315Z"
   },
   {
    "duration": 22,
    "start_time": "2022-06-20T07:44:42.327Z"
   },
   {
    "duration": 15,
    "start_time": "2022-06-20T07:44:42.350Z"
   },
   {
    "duration": 22,
    "start_time": "2022-06-20T07:44:42.367Z"
   },
   {
    "duration": 12,
    "start_time": "2022-06-20T07:44:42.391Z"
   },
   {
    "duration": 17,
    "start_time": "2022-06-20T07:44:42.405Z"
   },
   {
    "duration": 8,
    "start_time": "2022-06-20T07:44:42.426Z"
   },
   {
    "duration": 173,
    "start_time": "2022-06-20T07:44:42.436Z"
   },
   {
    "duration": 1188,
    "start_time": "2022-06-20T07:45:22.504Z"
   },
   {
    "duration": 35,
    "start_time": "2022-06-20T07:45:40.193Z"
   },
   {
    "duration": 15,
    "start_time": "2022-06-20T07:47:49.471Z"
   },
   {
    "duration": 8,
    "start_time": "2022-06-20T07:49:04.262Z"
   },
   {
    "duration": 22,
    "start_time": "2022-06-20T07:53:35.347Z"
   },
   {
    "duration": 974,
    "start_time": "2022-06-20T08:00:32.217Z"
   },
   {
    "duration": 484,
    "start_time": "2022-06-20T08:00:33.194Z"
   },
   {
    "duration": 39,
    "start_time": "2022-06-20T08:00:33.680Z"
   },
   {
    "duration": 43,
    "start_time": "2022-06-20T08:00:33.722Z"
   },
   {
    "duration": 24,
    "start_time": "2022-06-20T08:00:33.767Z"
   },
   {
    "duration": 62,
    "start_time": "2022-06-20T08:00:33.793Z"
   },
   {
    "duration": 16,
    "start_time": "2022-06-20T08:00:33.856Z"
   },
   {
    "duration": 116,
    "start_time": "2022-06-20T08:00:33.874Z"
   },
   {
    "duration": 10,
    "start_time": "2022-06-20T08:00:33.992Z"
   },
   {
    "duration": 71,
    "start_time": "2022-06-20T08:00:34.006Z"
   },
   {
    "duration": 6,
    "start_time": "2022-06-20T08:00:34.079Z"
   },
   {
    "duration": 20,
    "start_time": "2022-06-20T08:00:34.086Z"
   },
   {
    "duration": 251,
    "start_time": "2022-06-20T08:00:34.108Z"
   },
   {
    "duration": 12,
    "start_time": "2022-06-20T08:00:34.360Z"
   },
   {
    "duration": 104,
    "start_time": "2022-06-20T08:00:34.374Z"
   },
   {
    "duration": 63,
    "start_time": "2022-06-20T08:00:34.480Z"
   },
   {
    "duration": 3,
    "start_time": "2022-06-20T08:00:34.545Z"
   },
   {
    "duration": 17,
    "start_time": "2022-06-20T08:00:34.550Z"
   },
   {
    "duration": 65,
    "start_time": "2022-06-20T08:00:34.570Z"
   },
   {
    "duration": 32,
    "start_time": "2022-06-20T08:00:34.636Z"
   },
   {
    "duration": 13,
    "start_time": "2022-06-20T08:00:34.670Z"
   },
   {
    "duration": 4,
    "start_time": "2022-06-20T08:00:34.685Z"
   },
   {
    "duration": 13,
    "start_time": "2022-06-20T08:00:34.691Z"
   },
   {
    "duration": 31,
    "start_time": "2022-06-20T08:00:34.706Z"
   },
   {
    "duration": 33,
    "start_time": "2022-06-20T08:00:34.740Z"
   },
   {
    "duration": 13,
    "start_time": "2022-06-20T08:00:34.775Z"
   },
   {
    "duration": 109,
    "start_time": "2022-06-20T08:00:34.790Z"
   },
   {
    "duration": 0,
    "start_time": "2022-06-20T08:00:34.901Z"
   },
   {
    "duration": 0,
    "start_time": "2022-06-20T08:00:34.903Z"
   },
   {
    "duration": 0,
    "start_time": "2022-06-20T08:00:34.904Z"
   },
   {
    "duration": 911,
    "start_time": "2022-06-20T08:01:27.994Z"
   },
   {
    "duration": 468,
    "start_time": "2022-06-20T08:01:28.907Z"
   },
   {
    "duration": 27,
    "start_time": "2022-06-20T08:01:29.377Z"
   },
   {
    "duration": 52,
    "start_time": "2022-06-20T08:01:29.407Z"
   },
   {
    "duration": 25,
    "start_time": "2022-06-20T08:01:29.461Z"
   },
   {
    "duration": 63,
    "start_time": "2022-06-20T08:01:29.488Z"
   },
   {
    "duration": 16,
    "start_time": "2022-06-20T08:01:29.553Z"
   },
   {
    "duration": 111,
    "start_time": "2022-06-20T08:01:29.571Z"
   },
   {
    "duration": 10,
    "start_time": "2022-06-20T08:01:29.684Z"
   },
   {
    "duration": 74,
    "start_time": "2022-06-20T08:01:29.696Z"
   },
   {
    "duration": 5,
    "start_time": "2022-06-20T08:01:29.772Z"
   },
   {
    "duration": 24,
    "start_time": "2022-06-20T08:01:29.779Z"
   },
   {
    "duration": 292,
    "start_time": "2022-06-20T08:01:29.805Z"
   },
   {
    "duration": 11,
    "start_time": "2022-06-20T08:01:30.099Z"
   },
   {
    "duration": 106,
    "start_time": "2022-06-20T08:01:30.112Z"
   },
   {
    "duration": 49,
    "start_time": "2022-06-20T08:01:30.220Z"
   },
   {
    "duration": 3,
    "start_time": "2022-06-20T08:01:30.271Z"
   },
   {
    "duration": 17,
    "start_time": "2022-06-20T08:01:30.276Z"
   },
   {
    "duration": 62,
    "start_time": "2022-06-20T08:01:30.295Z"
   },
   {
    "duration": 22,
    "start_time": "2022-06-20T08:01:30.359Z"
   },
   {
    "duration": 20,
    "start_time": "2022-06-20T08:01:30.382Z"
   },
   {
    "duration": 41,
    "start_time": "2022-06-20T08:01:30.404Z"
   },
   {
    "duration": 13,
    "start_time": "2022-06-20T08:01:30.447Z"
   },
   {
    "duration": 29,
    "start_time": "2022-06-20T08:01:30.461Z"
   },
   {
    "duration": 52,
    "start_time": "2022-06-20T08:01:30.491Z"
   },
   {
    "duration": 28,
    "start_time": "2022-06-20T08:01:30.544Z"
   },
   {
    "duration": 18,
    "start_time": "2022-06-20T08:01:30.574Z"
   },
   {
    "duration": 18,
    "start_time": "2022-06-20T08:01:30.595Z"
   },
   {
    "duration": 35,
    "start_time": "2022-06-20T08:01:30.615Z"
   },
   {
    "duration": 147,
    "start_time": "2022-06-20T08:01:30.651Z"
   },
   {
    "duration": 950,
    "start_time": "2022-06-20T08:03:15.210Z"
   },
   {
    "duration": 460,
    "start_time": "2022-06-20T08:03:16.162Z"
   },
   {
    "duration": 38,
    "start_time": "2022-06-20T08:03:16.629Z"
   },
   {
    "duration": 32,
    "start_time": "2022-06-20T08:03:16.668Z"
   },
   {
    "duration": 54,
    "start_time": "2022-06-20T08:03:16.702Z"
   },
   {
    "duration": 40,
    "start_time": "2022-06-20T08:03:16.758Z"
   },
   {
    "duration": 40,
    "start_time": "2022-06-20T08:03:16.801Z"
   },
   {
    "duration": 106,
    "start_time": "2022-06-20T08:03:16.846Z"
   },
   {
    "duration": 10,
    "start_time": "2022-06-20T08:03:16.956Z"
   },
   {
    "duration": 60,
    "start_time": "2022-06-20T08:03:16.970Z"
   },
   {
    "duration": 16,
    "start_time": "2022-06-20T08:03:17.039Z"
   },
   {
    "duration": 10,
    "start_time": "2022-06-20T08:03:17.056Z"
   },
   {
    "duration": 246,
    "start_time": "2022-06-20T08:03:17.068Z"
   },
   {
    "duration": 26,
    "start_time": "2022-06-20T08:03:17.316Z"
   },
   {
    "duration": 96,
    "start_time": "2022-06-20T08:03:17.346Z"
   },
   {
    "duration": 46,
    "start_time": "2022-06-20T08:03:17.443Z"
   },
   {
    "duration": 3,
    "start_time": "2022-06-20T08:03:17.490Z"
   },
   {
    "duration": 13,
    "start_time": "2022-06-20T08:03:17.495Z"
   },
   {
    "duration": 83,
    "start_time": "2022-06-20T08:03:17.510Z"
   },
   {
    "duration": 22,
    "start_time": "2022-06-20T08:03:17.595Z"
   },
   {
    "duration": 15,
    "start_time": "2022-06-20T08:03:17.619Z"
   },
   {
    "duration": 27,
    "start_time": "2022-06-20T08:03:17.636Z"
   },
   {
    "duration": 8,
    "start_time": "2022-06-20T08:03:17.665Z"
   },
   {
    "duration": 13,
    "start_time": "2022-06-20T08:03:17.675Z"
   },
   {
    "duration": 22,
    "start_time": "2022-06-20T08:03:17.690Z"
   },
   {
    "duration": 17,
    "start_time": "2022-06-20T08:03:17.713Z"
   },
   {
    "duration": 26,
    "start_time": "2022-06-20T08:03:17.738Z"
   },
   {
    "duration": 11,
    "start_time": "2022-06-20T08:03:17.768Z"
   },
   {
    "duration": 9,
    "start_time": "2022-06-20T08:03:17.781Z"
   },
   {
    "duration": 165,
    "start_time": "2022-06-20T08:03:17.792Z"
   },
   {
    "duration": 959,
    "start_time": "2022-06-20T08:12:28.205Z"
   },
   {
    "duration": 477,
    "start_time": "2022-06-20T08:12:29.167Z"
   },
   {
    "duration": 30,
    "start_time": "2022-06-20T08:12:29.650Z"
   },
   {
    "duration": 33,
    "start_time": "2022-06-20T08:12:29.681Z"
   },
   {
    "duration": 31,
    "start_time": "2022-06-20T08:12:29.716Z"
   },
   {
    "duration": 47,
    "start_time": "2022-06-20T08:12:29.749Z"
   },
   {
    "duration": 17,
    "start_time": "2022-06-20T08:12:29.798Z"
   },
   {
    "duration": 101,
    "start_time": "2022-06-20T08:12:29.816Z"
   },
   {
    "duration": 17,
    "start_time": "2022-06-20T08:12:29.919Z"
   },
   {
    "duration": 88,
    "start_time": "2022-06-20T08:12:29.940Z"
   },
   {
    "duration": 10,
    "start_time": "2022-06-20T08:12:30.030Z"
   },
   {
    "duration": 28,
    "start_time": "2022-06-20T08:12:30.043Z"
   },
   {
    "duration": 267,
    "start_time": "2022-06-20T08:12:30.073Z"
   },
   {
    "duration": 21,
    "start_time": "2022-06-20T08:12:30.342Z"
   },
   {
    "duration": 78,
    "start_time": "2022-06-20T08:12:30.366Z"
   },
   {
    "duration": 46,
    "start_time": "2022-06-20T08:12:30.446Z"
   },
   {
    "duration": 3,
    "start_time": "2022-06-20T08:12:30.494Z"
   },
   {
    "duration": 39,
    "start_time": "2022-06-20T08:12:30.498Z"
   },
   {
    "duration": 74,
    "start_time": "2022-06-20T08:12:30.539Z"
   },
   {
    "duration": 35,
    "start_time": "2022-06-20T08:12:30.615Z"
   },
   {
    "duration": 39,
    "start_time": "2022-06-20T08:12:30.651Z"
   },
   {
    "duration": 12,
    "start_time": "2022-06-20T08:12:30.691Z"
   },
   {
    "duration": 27,
    "start_time": "2022-06-20T08:12:30.705Z"
   },
   {
    "duration": 66,
    "start_time": "2022-06-20T08:12:30.738Z"
   },
   {
    "duration": 77,
    "start_time": "2022-06-20T08:12:30.806Z"
   },
   {
    "duration": 16,
    "start_time": "2022-06-20T08:12:30.886Z"
   },
   {
    "duration": 29,
    "start_time": "2022-06-20T08:12:30.905Z"
   },
   {
    "duration": 53,
    "start_time": "2022-06-20T08:12:30.940Z"
   },
   {
    "duration": 39,
    "start_time": "2022-06-20T08:12:30.995Z"
   },
   {
    "duration": 210,
    "start_time": "2022-06-20T08:12:31.035Z"
   },
   {
    "duration": 944,
    "start_time": "2022-06-20T08:13:51.698Z"
   },
   {
    "duration": 503,
    "start_time": "2022-06-20T08:13:52.644Z"
   },
   {
    "duration": 26,
    "start_time": "2022-06-20T08:13:53.151Z"
   },
   {
    "duration": 43,
    "start_time": "2022-06-20T08:13:53.178Z"
   },
   {
    "duration": 52,
    "start_time": "2022-06-20T08:13:53.225Z"
   },
   {
    "duration": 64,
    "start_time": "2022-06-20T08:13:53.279Z"
   },
   {
    "duration": 15,
    "start_time": "2022-06-20T08:13:53.349Z"
   },
   {
    "duration": 94,
    "start_time": "2022-06-20T08:13:53.365Z"
   },
   {
    "duration": 9,
    "start_time": "2022-06-20T08:13:53.460Z"
   },
   {
    "duration": 75,
    "start_time": "2022-06-20T08:13:53.471Z"
   },
   {
    "duration": 6,
    "start_time": "2022-06-20T08:13:53.547Z"
   },
   {
    "duration": 24,
    "start_time": "2022-06-20T08:13:53.555Z"
   },
   {
    "duration": 251,
    "start_time": "2022-06-20T08:13:53.581Z"
   },
   {
    "duration": 14,
    "start_time": "2022-06-20T08:13:53.842Z"
   },
   {
    "duration": 82,
    "start_time": "2022-06-20T08:13:53.858Z"
   },
   {
    "duration": 45,
    "start_time": "2022-06-20T08:13:53.941Z"
   },
   {
    "duration": 4,
    "start_time": "2022-06-20T08:13:53.987Z"
   },
   {
    "duration": 12,
    "start_time": "2022-06-20T08:13:53.993Z"
   },
   {
    "duration": 63,
    "start_time": "2022-06-20T08:13:54.006Z"
   },
   {
    "duration": 20,
    "start_time": "2022-06-20T08:13:54.071Z"
   },
   {
    "duration": 11,
    "start_time": "2022-06-20T08:13:54.092Z"
   },
   {
    "duration": 26,
    "start_time": "2022-06-20T08:13:54.104Z"
   },
   {
    "duration": 28,
    "start_time": "2022-06-20T08:13:54.136Z"
   },
   {
    "duration": 17,
    "start_time": "2022-06-20T08:13:54.166Z"
   },
   {
    "duration": 35,
    "start_time": "2022-06-20T08:13:54.185Z"
   },
   {
    "duration": 18,
    "start_time": "2022-06-20T08:13:54.222Z"
   },
   {
    "duration": 7,
    "start_time": "2022-06-20T08:13:54.241Z"
   },
   {
    "duration": 7,
    "start_time": "2022-06-20T08:13:54.251Z"
   },
   {
    "duration": 8,
    "start_time": "2022-06-20T08:13:54.260Z"
   },
   {
    "duration": 128,
    "start_time": "2022-06-20T08:13:54.270Z"
   },
   {
    "duration": 896,
    "start_time": "2022-06-20T08:14:35.840Z"
   },
   {
    "duration": 458,
    "start_time": "2022-06-20T08:14:36.743Z"
   },
   {
    "duration": 33,
    "start_time": "2022-06-20T08:14:37.203Z"
   },
   {
    "duration": 39,
    "start_time": "2022-06-20T08:14:37.238Z"
   },
   {
    "duration": 24,
    "start_time": "2022-06-20T08:14:37.279Z"
   },
   {
    "duration": 53,
    "start_time": "2022-06-20T08:14:37.304Z"
   },
   {
    "duration": 15,
    "start_time": "2022-06-20T08:14:37.359Z"
   },
   {
    "duration": 102,
    "start_time": "2022-06-20T08:14:37.377Z"
   },
   {
    "duration": 9,
    "start_time": "2022-06-20T08:14:37.481Z"
   },
   {
    "duration": 65,
    "start_time": "2022-06-20T08:14:37.492Z"
   },
   {
    "duration": 5,
    "start_time": "2022-06-20T08:14:37.559Z"
   },
   {
    "duration": 6,
    "start_time": "2022-06-20T08:14:37.566Z"
   },
   {
    "duration": 237,
    "start_time": "2022-06-20T08:14:37.574Z"
   },
   {
    "duration": 16,
    "start_time": "2022-06-20T08:14:37.814Z"
   },
   {
    "duration": 86,
    "start_time": "2022-06-20T08:14:37.831Z"
   },
   {
    "duration": 55,
    "start_time": "2022-06-20T08:14:37.918Z"
   },
   {
    "duration": 2,
    "start_time": "2022-06-20T08:14:37.975Z"
   },
   {
    "duration": 17,
    "start_time": "2022-06-20T08:14:37.979Z"
   },
   {
    "duration": 55,
    "start_time": "2022-06-20T08:14:37.998Z"
   },
   {
    "duration": 20,
    "start_time": "2022-06-20T08:14:38.054Z"
   },
   {
    "duration": 10,
    "start_time": "2022-06-20T08:14:38.076Z"
   },
   {
    "duration": 4,
    "start_time": "2022-06-20T08:14:38.087Z"
   },
   {
    "duration": 40,
    "start_time": "2022-06-20T08:14:38.092Z"
   },
   {
    "duration": 16,
    "start_time": "2022-06-20T08:14:38.138Z"
   },
   {
    "duration": 24,
    "start_time": "2022-06-20T08:14:38.156Z"
   },
   {
    "duration": 11,
    "start_time": "2022-06-20T08:14:38.182Z"
   },
   {
    "duration": 8,
    "start_time": "2022-06-20T08:14:38.195Z"
   },
   {
    "duration": 38,
    "start_time": "2022-06-20T08:14:38.204Z"
   },
   {
    "duration": 11,
    "start_time": "2022-06-20T08:14:38.244Z"
   },
   {
    "duration": 123,
    "start_time": "2022-06-20T08:14:38.256Z"
   },
   {
    "duration": 951,
    "start_time": "2022-06-20T09:01:40.388Z"
   },
   {
    "duration": 467,
    "start_time": "2022-06-20T09:01:41.341Z"
   },
   {
    "duration": 48,
    "start_time": "2022-06-20T09:01:41.810Z"
   },
   {
    "duration": 37,
    "start_time": "2022-06-20T09:01:41.862Z"
   },
   {
    "duration": 55,
    "start_time": "2022-06-20T09:01:41.900Z"
   },
   {
    "duration": 41,
    "start_time": "2022-06-20T09:01:41.957Z"
   },
   {
    "duration": 44,
    "start_time": "2022-06-20T09:01:42.000Z"
   },
   {
    "duration": 108,
    "start_time": "2022-06-20T09:01:42.046Z"
   },
   {
    "duration": 9,
    "start_time": "2022-06-20T09:01:42.156Z"
   },
   {
    "duration": 72,
    "start_time": "2022-06-20T09:01:42.168Z"
   },
   {
    "duration": 6,
    "start_time": "2022-06-20T09:01:42.242Z"
   },
   {
    "duration": 10,
    "start_time": "2022-06-20T09:01:42.250Z"
   },
   {
    "duration": 232,
    "start_time": "2022-06-20T09:01:42.262Z"
   },
   {
    "duration": 10,
    "start_time": "2022-06-20T09:01:42.496Z"
   },
   {
    "duration": 103,
    "start_time": "2022-06-20T09:01:42.508Z"
   },
   {
    "duration": 68,
    "start_time": "2022-06-20T09:01:42.613Z"
   },
   {
    "duration": 4,
    "start_time": "2022-06-20T09:01:42.683Z"
   },
   {
    "duration": 35,
    "start_time": "2022-06-20T09:01:42.690Z"
   },
   {
    "duration": 88,
    "start_time": "2022-06-20T09:01:42.728Z"
   },
   {
    "duration": 41,
    "start_time": "2022-06-20T09:01:42.819Z"
   },
   {
    "duration": 13,
    "start_time": "2022-06-20T09:01:42.862Z"
   },
   {
    "duration": 7,
    "start_time": "2022-06-20T09:01:42.877Z"
   },
   {
    "duration": 9,
    "start_time": "2022-06-20T09:01:42.885Z"
   },
   {
    "duration": 15,
    "start_time": "2022-06-20T09:01:42.895Z"
   },
   {
    "duration": 27,
    "start_time": "2022-06-20T09:01:42.924Z"
   },
   {
    "duration": 13,
    "start_time": "2022-06-20T09:01:42.953Z"
   },
   {
    "duration": 8,
    "start_time": "2022-06-20T09:01:42.968Z"
   },
   {
    "duration": 9,
    "start_time": "2022-06-20T09:01:42.979Z"
   },
   {
    "duration": 37,
    "start_time": "2022-06-20T09:01:42.990Z"
   },
   {
    "duration": 138,
    "start_time": "2022-06-20T09:01:43.030Z"
   },
   {
    "duration": 855,
    "start_time": "2022-06-20T09:07:14.055Z"
   },
   {
    "duration": 426,
    "start_time": "2022-06-20T09:07:14.911Z"
   },
   {
    "duration": 25,
    "start_time": "2022-06-20T09:07:15.339Z"
   },
   {
    "duration": 34,
    "start_time": "2022-06-20T09:07:15.367Z"
   },
   {
    "duration": 39,
    "start_time": "2022-06-20T09:07:15.403Z"
   },
   {
    "duration": 28,
    "start_time": "2022-06-20T09:07:15.443Z"
   },
   {
    "duration": 15,
    "start_time": "2022-06-20T09:07:15.473Z"
   },
   {
    "duration": 106,
    "start_time": "2022-06-20T09:07:15.489Z"
   },
   {
    "duration": 8,
    "start_time": "2022-06-20T09:07:15.597Z"
   },
   {
    "duration": 61,
    "start_time": "2022-06-20T09:07:15.608Z"
   },
   {
    "duration": 5,
    "start_time": "2022-06-20T09:07:15.671Z"
   },
   {
    "duration": 13,
    "start_time": "2022-06-20T09:07:15.677Z"
   },
   {
    "duration": 211,
    "start_time": "2022-06-20T09:07:15.692Z"
   },
   {
    "duration": 9,
    "start_time": "2022-06-20T09:07:15.905Z"
   },
   {
    "duration": 77,
    "start_time": "2022-06-20T09:07:15.916Z"
   },
   {
    "duration": 68,
    "start_time": "2022-06-20T09:07:15.996Z"
   },
   {
    "duration": 5,
    "start_time": "2022-06-20T09:07:16.065Z"
   },
   {
    "duration": 20,
    "start_time": "2022-06-20T09:07:16.071Z"
   },
   {
    "duration": 49,
    "start_time": "2022-06-20T09:07:16.093Z"
   },
   {
    "duration": 25,
    "start_time": "2022-06-20T09:07:16.143Z"
   },
   {
    "duration": 12,
    "start_time": "2022-06-20T09:07:16.169Z"
   },
   {
    "duration": 4,
    "start_time": "2022-06-20T09:07:16.183Z"
   },
   {
    "duration": 7,
    "start_time": "2022-06-20T09:07:16.188Z"
   },
   {
    "duration": 40,
    "start_time": "2022-06-20T09:07:16.196Z"
   },
   {
    "duration": 23,
    "start_time": "2022-06-20T09:07:16.238Z"
   },
   {
    "duration": 13,
    "start_time": "2022-06-20T09:07:16.263Z"
   },
   {
    "duration": 8,
    "start_time": "2022-06-20T09:07:16.278Z"
   },
   {
    "duration": 36,
    "start_time": "2022-06-20T09:07:16.288Z"
   },
   {
    "duration": 50,
    "start_time": "2022-06-20T09:07:16.326Z"
   },
   {
    "duration": 0,
    "start_time": "2022-06-20T09:07:16.378Z"
   },
   {
    "duration": 50,
    "start_time": "2022-06-20T09:07:50.172Z"
   },
   {
    "duration": 5,
    "start_time": "2022-06-20T09:09:19.096Z"
   },
   {
    "duration": 107,
    "start_time": "2022-06-20T09:09:25.448Z"
   },
   {
    "duration": 854,
    "start_time": "2022-06-20T09:12:26.686Z"
   },
   {
    "duration": 415,
    "start_time": "2022-06-20T09:12:27.542Z"
   },
   {
    "duration": 28,
    "start_time": "2022-06-20T09:12:27.959Z"
   },
   {
    "duration": 32,
    "start_time": "2022-06-20T09:12:27.989Z"
   },
   {
    "duration": 24,
    "start_time": "2022-06-20T09:12:28.023Z"
   },
   {
    "duration": 28,
    "start_time": "2022-06-20T09:12:28.048Z"
   },
   {
    "duration": 14,
    "start_time": "2022-06-20T09:12:28.078Z"
   },
   {
    "duration": 103,
    "start_time": "2022-06-20T09:12:28.094Z"
   },
   {
    "duration": 9,
    "start_time": "2022-06-20T09:12:28.199Z"
   },
   {
    "duration": 52,
    "start_time": "2022-06-20T09:12:28.224Z"
   },
   {
    "duration": 5,
    "start_time": "2022-06-20T09:12:28.278Z"
   },
   {
    "duration": 26,
    "start_time": "2022-06-20T09:12:28.284Z"
   },
   {
    "duration": 221,
    "start_time": "2022-06-20T09:12:28.312Z"
   },
   {
    "duration": 10,
    "start_time": "2022-06-20T09:12:28.534Z"
   },
   {
    "duration": 71,
    "start_time": "2022-06-20T09:12:28.545Z"
   },
   {
    "duration": 42,
    "start_time": "2022-06-20T09:12:28.622Z"
   },
   {
    "duration": 3,
    "start_time": "2022-06-20T09:12:28.666Z"
   },
   {
    "duration": 14,
    "start_time": "2022-06-20T09:12:28.670Z"
   },
   {
    "duration": 61,
    "start_time": "2022-06-20T09:12:28.685Z"
   },
   {
    "duration": 22,
    "start_time": "2022-06-20T09:12:28.747Z"
   },
   {
    "duration": 15,
    "start_time": "2022-06-20T09:12:28.771Z"
   },
   {
    "duration": 30,
    "start_time": "2022-06-20T09:12:28.787Z"
   },
   {
    "duration": 19,
    "start_time": "2022-06-20T09:12:28.819Z"
   },
   {
    "duration": 21,
    "start_time": "2022-06-20T09:12:28.840Z"
   },
   {
    "duration": 22,
    "start_time": "2022-06-20T09:12:28.863Z"
   },
   {
    "duration": 12,
    "start_time": "2022-06-20T09:12:28.886Z"
   },
   {
    "duration": 6,
    "start_time": "2022-06-20T09:12:28.900Z"
   },
   {
    "duration": 15,
    "start_time": "2022-06-20T09:12:28.909Z"
   },
   {
    "duration": 10,
    "start_time": "2022-06-20T09:12:28.926Z"
   },
   {
    "duration": 134,
    "start_time": "2022-06-20T09:12:28.937Z"
   },
   {
    "duration": 925,
    "start_time": "2022-06-20T09:13:00.598Z"
   },
   {
    "duration": 449,
    "start_time": "2022-06-20T09:13:01.525Z"
   },
   {
    "duration": 34,
    "start_time": "2022-06-20T09:13:01.976Z"
   },
   {
    "duration": 35,
    "start_time": "2022-06-20T09:13:02.014Z"
   },
   {
    "duration": 26,
    "start_time": "2022-06-20T09:13:02.051Z"
   },
   {
    "duration": 54,
    "start_time": "2022-06-20T09:13:02.078Z"
   },
   {
    "duration": 17,
    "start_time": "2022-06-20T09:13:02.134Z"
   },
   {
    "duration": 105,
    "start_time": "2022-06-20T09:13:02.153Z"
   },
   {
    "duration": 9,
    "start_time": "2022-06-20T09:13:02.260Z"
   },
   {
    "duration": 75,
    "start_time": "2022-06-20T09:13:02.272Z"
   },
   {
    "duration": 5,
    "start_time": "2022-06-20T09:13:02.349Z"
   },
   {
    "duration": 12,
    "start_time": "2022-06-20T09:13:02.356Z"
   },
   {
    "duration": 254,
    "start_time": "2022-06-20T09:13:02.370Z"
   },
   {
    "duration": 18,
    "start_time": "2022-06-20T09:13:02.626Z"
   },
   {
    "duration": 111,
    "start_time": "2022-06-20T09:13:02.646Z"
   },
   {
    "duration": 71,
    "start_time": "2022-06-20T09:13:02.759Z"
   },
   {
    "duration": 3,
    "start_time": "2022-06-20T09:13:02.833Z"
   },
   {
    "duration": 16,
    "start_time": "2022-06-20T09:13:02.838Z"
   },
   {
    "duration": 50,
    "start_time": "2022-06-20T09:13:02.856Z"
   },
   {
    "duration": 41,
    "start_time": "2022-06-20T09:13:02.908Z"
   },
   {
    "duration": 20,
    "start_time": "2022-06-20T09:13:02.951Z"
   },
   {
    "duration": 8,
    "start_time": "2022-06-20T09:13:02.973Z"
   },
   {
    "duration": 24,
    "start_time": "2022-06-20T09:13:02.983Z"
   },
   {
    "duration": 19,
    "start_time": "2022-06-20T09:13:03.009Z"
   },
   {
    "duration": 32,
    "start_time": "2022-06-20T09:13:03.031Z"
   },
   {
    "duration": 19,
    "start_time": "2022-06-20T09:13:03.066Z"
   },
   {
    "duration": 9,
    "start_time": "2022-06-20T09:13:03.087Z"
   },
   {
    "duration": 29,
    "start_time": "2022-06-20T09:13:03.100Z"
   },
   {
    "duration": 13,
    "start_time": "2022-06-20T09:13:03.131Z"
   },
   {
    "duration": 141,
    "start_time": "2022-06-20T09:13:03.145Z"
   },
   {
    "duration": 924,
    "start_time": "2022-06-20T09:59:35.688Z"
   },
   {
    "duration": 411,
    "start_time": "2022-06-20T09:59:36.614Z"
   },
   {
    "duration": 25,
    "start_time": "2022-06-20T09:59:37.027Z"
   },
   {
    "duration": 31,
    "start_time": "2022-06-20T09:59:37.054Z"
   },
   {
    "duration": 45,
    "start_time": "2022-06-20T09:59:37.086Z"
   },
   {
    "duration": 29,
    "start_time": "2022-06-20T09:59:37.132Z"
   },
   {
    "duration": 15,
    "start_time": "2022-06-20T09:59:37.163Z"
   },
   {
    "duration": 104,
    "start_time": "2022-06-20T09:59:37.180Z"
   },
   {
    "duration": 9,
    "start_time": "2022-06-20T09:59:37.285Z"
   },
   {
    "duration": 65,
    "start_time": "2022-06-20T09:59:37.297Z"
   },
   {
    "duration": 4,
    "start_time": "2022-06-20T09:59:37.364Z"
   },
   {
    "duration": 8,
    "start_time": "2022-06-20T09:59:37.370Z"
   },
   {
    "duration": 203,
    "start_time": "2022-06-20T09:59:37.380Z"
   },
   {
    "duration": 10,
    "start_time": "2022-06-20T09:59:37.585Z"
   },
   {
    "duration": 81,
    "start_time": "2022-06-20T09:59:37.596Z"
   },
   {
    "duration": 51,
    "start_time": "2022-06-20T09:59:37.678Z"
   },
   {
    "duration": 3,
    "start_time": "2022-06-20T09:59:37.731Z"
   },
   {
    "duration": 15,
    "start_time": "2022-06-20T09:59:37.735Z"
   },
   {
    "duration": 49,
    "start_time": "2022-06-20T09:59:37.751Z"
   },
   {
    "duration": 42,
    "start_time": "2022-06-20T09:59:37.802Z"
   },
   {
    "duration": 14,
    "start_time": "2022-06-20T09:59:37.845Z"
   },
   {
    "duration": 11,
    "start_time": "2022-06-20T09:59:37.862Z"
   },
   {
    "duration": 8,
    "start_time": "2022-06-20T09:59:37.875Z"
   },
   {
    "duration": 40,
    "start_time": "2022-06-20T09:59:37.885Z"
   },
   {
    "duration": 34,
    "start_time": "2022-06-20T09:59:37.927Z"
   },
   {
    "duration": 13,
    "start_time": "2022-06-20T09:59:37.963Z"
   },
   {
    "duration": 7,
    "start_time": "2022-06-20T09:59:37.977Z"
   },
   {
    "duration": 6,
    "start_time": "2022-06-20T09:59:37.987Z"
   },
   {
    "duration": 140,
    "start_time": "2022-06-20T09:59:37.995Z"
   },
   {
    "duration": 937,
    "start_time": "2022-06-20T10:00:21.883Z"
   },
   {
    "duration": 478,
    "start_time": "2022-06-20T10:00:22.823Z"
   },
   {
    "duration": 30,
    "start_time": "2022-06-20T10:00:23.303Z"
   },
   {
    "duration": 46,
    "start_time": "2022-06-20T10:00:23.336Z"
   },
   {
    "duration": 35,
    "start_time": "2022-06-20T10:00:23.388Z"
   },
   {
    "duration": 37,
    "start_time": "2022-06-20T10:00:23.425Z"
   },
   {
    "duration": 15,
    "start_time": "2022-06-20T10:00:23.464Z"
   },
   {
    "duration": 107,
    "start_time": "2022-06-20T10:00:23.481Z"
   },
   {
    "duration": 10,
    "start_time": "2022-06-20T10:00:23.589Z"
   },
   {
    "duration": 73,
    "start_time": "2022-06-20T10:00:23.600Z"
   },
   {
    "duration": 5,
    "start_time": "2022-06-20T10:00:23.674Z"
   },
   {
    "duration": 8,
    "start_time": "2022-06-20T10:00:23.681Z"
   },
   {
    "duration": 240,
    "start_time": "2022-06-20T10:00:23.691Z"
   },
   {
    "duration": 12,
    "start_time": "2022-06-20T10:00:23.935Z"
   },
   {
    "duration": 90,
    "start_time": "2022-06-20T10:00:23.949Z"
   },
   {
    "duration": 49,
    "start_time": "2022-06-20T10:00:24.041Z"
   },
   {
    "duration": 3,
    "start_time": "2022-06-20T10:00:24.092Z"
   },
   {
    "duration": 32,
    "start_time": "2022-06-20T10:00:24.097Z"
   },
   {
    "duration": 54,
    "start_time": "2022-06-20T10:00:24.131Z"
   },
   {
    "duration": 22,
    "start_time": "2022-06-20T10:00:24.187Z"
   },
   {
    "duration": 28,
    "start_time": "2022-06-20T10:00:24.210Z"
   },
   {
    "duration": 10,
    "start_time": "2022-06-20T10:00:24.240Z"
   },
   {
    "duration": 9,
    "start_time": "2022-06-20T10:00:24.251Z"
   },
   {
    "duration": 19,
    "start_time": "2022-06-20T10:00:24.262Z"
   },
   {
    "duration": 46,
    "start_time": "2022-06-20T10:00:24.282Z"
   },
   {
    "duration": 23,
    "start_time": "2022-06-20T10:00:24.330Z"
   },
   {
    "duration": 12,
    "start_time": "2022-06-20T10:00:24.356Z"
   },
   {
    "duration": 8,
    "start_time": "2022-06-20T10:00:24.371Z"
   },
   {
    "duration": 1046,
    "start_time": "2022-06-20T10:00:24.380Z"
   },
   {
    "duration": 921,
    "start_time": "2022-06-20T10:00:55.441Z"
   },
   {
    "duration": 440,
    "start_time": "2022-06-20T10:00:56.364Z"
   },
   {
    "duration": 27,
    "start_time": "2022-06-20T10:00:56.806Z"
   },
   {
    "duration": 46,
    "start_time": "2022-06-20T10:00:56.835Z"
   },
   {
    "duration": 37,
    "start_time": "2022-06-20T10:00:56.883Z"
   },
   {
    "duration": 36,
    "start_time": "2022-06-20T10:00:56.922Z"
   },
   {
    "duration": 16,
    "start_time": "2022-06-20T10:00:56.959Z"
   },
   {
    "duration": 106,
    "start_time": "2022-06-20T10:00:56.976Z"
   },
   {
    "duration": 8,
    "start_time": "2022-06-20T10:00:57.084Z"
   },
   {
    "duration": 63,
    "start_time": "2022-06-20T10:00:57.094Z"
   },
   {
    "duration": 4,
    "start_time": "2022-06-20T10:00:57.159Z"
   },
   {
    "duration": 11,
    "start_time": "2022-06-20T10:00:57.165Z"
   },
   {
    "duration": 234,
    "start_time": "2022-06-20T10:00:57.177Z"
   },
   {
    "duration": 20,
    "start_time": "2022-06-20T10:00:57.414Z"
   },
   {
    "duration": 94,
    "start_time": "2022-06-20T10:00:57.436Z"
   },
   {
    "duration": 42,
    "start_time": "2022-06-20T10:00:57.539Z"
   },
   {
    "duration": 3,
    "start_time": "2022-06-20T10:00:57.583Z"
   },
   {
    "duration": 15,
    "start_time": "2022-06-20T10:00:57.587Z"
   },
   {
    "duration": 52,
    "start_time": "2022-06-20T10:00:57.604Z"
   },
   {
    "duration": 23,
    "start_time": "2022-06-20T10:00:57.658Z"
   },
   {
    "duration": 11,
    "start_time": "2022-06-20T10:00:57.682Z"
   },
   {
    "duration": 5,
    "start_time": "2022-06-20T10:00:57.695Z"
   },
   {
    "duration": 27,
    "start_time": "2022-06-20T10:00:57.702Z"
   },
   {
    "duration": 22,
    "start_time": "2022-06-20T10:00:57.731Z"
   },
   {
    "duration": 31,
    "start_time": "2022-06-20T10:00:57.755Z"
   },
   {
    "duration": 13,
    "start_time": "2022-06-20T10:00:57.788Z"
   },
   {
    "duration": 28,
    "start_time": "2022-06-20T10:00:57.802Z"
   },
   {
    "duration": 14,
    "start_time": "2022-06-20T10:00:57.835Z"
   },
   {
    "duration": 1346,
    "start_time": "2022-06-20T10:00:57.850Z"
   },
   {
    "duration": 930,
    "start_time": "2022-06-20T10:02:16.590Z"
   },
   {
    "duration": 492,
    "start_time": "2022-06-20T10:02:17.523Z"
   },
   {
    "duration": 41,
    "start_time": "2022-06-20T10:02:18.017Z"
   },
   {
    "duration": 34,
    "start_time": "2022-06-20T10:02:18.060Z"
   },
   {
    "duration": 53,
    "start_time": "2022-06-20T10:02:18.097Z"
   },
   {
    "duration": 36,
    "start_time": "2022-06-20T10:02:18.152Z"
   },
   {
    "duration": 45,
    "start_time": "2022-06-20T10:02:18.190Z"
   },
   {
    "duration": 113,
    "start_time": "2022-06-20T10:02:18.238Z"
   },
   {
    "duration": 10,
    "start_time": "2022-06-20T10:02:18.354Z"
   },
   {
    "duration": 71,
    "start_time": "2022-06-20T10:02:18.366Z"
   },
   {
    "duration": 5,
    "start_time": "2022-06-20T10:02:18.439Z"
   },
   {
    "duration": 16,
    "start_time": "2022-06-20T10:02:18.446Z"
   },
   {
    "duration": 235,
    "start_time": "2022-06-20T10:02:18.464Z"
   },
   {
    "duration": 11,
    "start_time": "2022-06-20T10:02:18.702Z"
   },
   {
    "duration": 82,
    "start_time": "2022-06-20T10:02:18.714Z"
   },
   {
    "duration": 72,
    "start_time": "2022-06-20T10:02:18.798Z"
   },
   {
    "duration": 3,
    "start_time": "2022-06-20T10:02:18.872Z"
   },
   {
    "duration": 18,
    "start_time": "2022-06-20T10:02:18.877Z"
   },
   {
    "duration": 68,
    "start_time": "2022-06-20T10:02:18.896Z"
   },
   {
    "duration": 33,
    "start_time": "2022-06-20T10:02:18.966Z"
   },
   {
    "duration": 26,
    "start_time": "2022-06-20T10:02:19.001Z"
   },
   {
    "duration": 34,
    "start_time": "2022-06-20T10:02:19.030Z"
   },
   {
    "duration": 21,
    "start_time": "2022-06-20T10:02:19.066Z"
   },
   {
    "duration": 19,
    "start_time": "2022-06-20T10:02:19.089Z"
   },
   {
    "duration": 38,
    "start_time": "2022-06-20T10:02:19.110Z"
   },
   {
    "duration": 14,
    "start_time": "2022-06-20T10:02:19.150Z"
   },
   {
    "duration": 10,
    "start_time": "2022-06-20T10:02:19.166Z"
   },
   {
    "duration": 10,
    "start_time": "2022-06-20T10:02:19.178Z"
   },
   {
    "duration": 203,
    "start_time": "2022-06-20T10:02:19.190Z"
   },
   {
    "duration": 9,
    "start_time": "2022-06-20T10:03:33.669Z"
   },
   {
    "duration": 178,
    "start_time": "2022-06-20T10:03:48.926Z"
   },
   {
    "duration": 144,
    "start_time": "2022-06-20T10:04:28.645Z"
   },
   {
    "duration": 156,
    "start_time": "2022-06-20T10:05:03.537Z"
   },
   {
    "duration": 140,
    "start_time": "2022-06-20T10:05:46.148Z"
   },
   {
    "duration": 9,
    "start_time": "2022-06-20T10:06:08.902Z"
   },
   {
    "duration": 817,
    "start_time": "2022-06-20T23:23:30.034Z"
   },
   {
    "duration": 1075,
    "start_time": "2022-06-20T23:23:30.853Z"
   },
   {
    "duration": 22,
    "start_time": "2022-06-20T23:23:31.930Z"
   },
   {
    "duration": 24,
    "start_time": "2022-06-20T23:23:31.954Z"
   },
   {
    "duration": 19,
    "start_time": "2022-06-20T23:23:31.979Z"
   },
   {
    "duration": 22,
    "start_time": "2022-06-20T23:23:32.000Z"
   },
   {
    "duration": 14,
    "start_time": "2022-06-20T23:23:32.024Z"
   },
   {
    "duration": 93,
    "start_time": "2022-06-20T23:23:32.039Z"
   },
   {
    "duration": 8,
    "start_time": "2022-06-20T23:23:32.134Z"
   },
   {
    "duration": 58,
    "start_time": "2022-06-20T23:23:32.145Z"
   },
   {
    "duration": 3,
    "start_time": "2022-06-20T23:23:32.205Z"
   },
   {
    "duration": 9,
    "start_time": "2022-06-20T23:23:32.209Z"
   },
   {
    "duration": 176,
    "start_time": "2022-06-20T23:23:32.219Z"
   },
   {
    "duration": 11,
    "start_time": "2022-06-20T23:23:32.396Z"
   },
   {
    "duration": 60,
    "start_time": "2022-06-20T23:23:32.408Z"
   },
   {
    "duration": 35,
    "start_time": "2022-06-20T23:23:32.477Z"
   },
   {
    "duration": 3,
    "start_time": "2022-06-20T23:23:32.513Z"
   },
   {
    "duration": 11,
    "start_time": "2022-06-20T23:23:32.517Z"
   },
   {
    "duration": 33,
    "start_time": "2022-06-20T23:23:32.529Z"
   },
   {
    "duration": 17,
    "start_time": "2022-06-20T23:23:32.578Z"
   },
   {
    "duration": 9,
    "start_time": "2022-06-20T23:23:32.597Z"
   },
   {
    "duration": 4,
    "start_time": "2022-06-20T23:23:32.607Z"
   },
   {
    "duration": 7,
    "start_time": "2022-06-20T23:23:32.612Z"
   },
   {
    "duration": 9,
    "start_time": "2022-06-20T23:23:32.620Z"
   },
   {
    "duration": 48,
    "start_time": "2022-06-20T23:23:32.630Z"
   },
   {
    "duration": 11,
    "start_time": "2022-06-20T23:23:32.679Z"
   },
   {
    "duration": 6,
    "start_time": "2022-06-20T23:23:32.691Z"
   },
   {
    "duration": 7,
    "start_time": "2022-06-20T23:23:32.699Z"
   },
   {
    "duration": 129,
    "start_time": "2022-06-20T23:23:32.708Z"
   },
   {
    "duration": 560,
    "start_time": "2022-06-20T23:23:32.839Z"
   },
   {
    "duration": 231,
    "start_time": "2022-06-20T23:24:37.496Z"
   },
   {
    "duration": 237,
    "start_time": "2022-06-20T23:24:58.017Z"
   },
   {
    "duration": 232,
    "start_time": "2022-06-20T23:25:30.047Z"
   },
   {
    "duration": 268,
    "start_time": "2022-06-20T23:26:05.343Z"
   },
   {
    "duration": 221,
    "start_time": "2022-06-20T23:26:28.866Z"
   },
   {
    "duration": 43,
    "start_time": "2022-06-21T01:15:18.473Z"
   },
   {
    "duration": 860,
    "start_time": "2022-06-21T01:15:25.944Z"
   },
   {
    "duration": 845,
    "start_time": "2022-06-21T01:15:26.806Z"
   },
   {
    "duration": 23,
    "start_time": "2022-06-21T01:15:27.653Z"
   },
   {
    "duration": 26,
    "start_time": "2022-06-21T01:15:27.677Z"
   },
   {
    "duration": 19,
    "start_time": "2022-06-21T01:15:27.704Z"
   },
   {
    "duration": 48,
    "start_time": "2022-06-21T01:15:27.725Z"
   },
   {
    "duration": 13,
    "start_time": "2022-06-21T01:15:27.775Z"
   },
   {
    "duration": 82,
    "start_time": "2022-06-21T01:15:27.790Z"
   },
   {
    "duration": 7,
    "start_time": "2022-06-21T01:15:27.874Z"
   },
   {
    "duration": 51,
    "start_time": "2022-06-21T01:15:27.884Z"
   },
   {
    "duration": 17,
    "start_time": "2022-06-21T01:15:27.936Z"
   },
   {
    "duration": 7,
    "start_time": "2022-06-21T01:15:27.955Z"
   },
   {
    "duration": 188,
    "start_time": "2022-06-21T01:15:27.965Z"
   },
   {
    "duration": 10,
    "start_time": "2022-06-21T01:15:28.155Z"
   },
   {
    "duration": 59,
    "start_time": "2022-06-21T01:15:28.166Z"
   },
   {
    "duration": 49,
    "start_time": "2022-06-21T01:15:28.227Z"
   },
   {
    "duration": 3,
    "start_time": "2022-06-21T01:15:28.278Z"
   },
   {
    "duration": 12,
    "start_time": "2022-06-21T01:15:28.282Z"
   },
   {
    "duration": 39,
    "start_time": "2022-06-21T01:15:28.296Z"
   },
   {
    "duration": 32,
    "start_time": "2022-06-21T01:15:28.336Z"
   },
   {
    "duration": 10,
    "start_time": "2022-06-21T01:15:28.369Z"
   },
   {
    "duration": 3,
    "start_time": "2022-06-21T01:15:28.381Z"
   },
   {
    "duration": 9,
    "start_time": "2022-06-21T01:15:28.385Z"
   },
   {
    "duration": 13,
    "start_time": "2022-06-21T01:15:28.395Z"
   },
   {
    "duration": 51,
    "start_time": "2022-06-21T01:15:28.409Z"
   },
   {
    "duration": 10,
    "start_time": "2022-06-21T01:15:28.462Z"
   },
   {
    "duration": 7,
    "start_time": "2022-06-21T01:15:28.474Z"
   },
   {
    "duration": 6,
    "start_time": "2022-06-21T01:15:28.484Z"
   },
   {
    "duration": 133,
    "start_time": "2022-06-21T01:15:28.492Z"
   },
   {
    "duration": 567,
    "start_time": "2022-06-21T01:15:28.627Z"
   },
   {
    "duration": 147,
    "start_time": "2022-06-21T01:15:29.196Z"
   },
   {
    "duration": 0,
    "start_time": "2022-06-21T01:15:29.345Z"
   },
   {
    "duration": 0,
    "start_time": "2022-06-21T01:15:29.347Z"
   },
   {
    "duration": 0,
    "start_time": "2022-06-21T01:15:29.348Z"
   },
   {
    "duration": 0,
    "start_time": "2022-06-21T01:15:29.350Z"
   },
   {
    "duration": 0,
    "start_time": "2022-06-21T01:15:29.351Z"
   },
   {
    "duration": 10,
    "start_time": "2022-06-21T01:16:07.601Z"
   },
   {
    "duration": 10,
    "start_time": "2022-06-21T01:16:21.921Z"
   },
   {
    "duration": 8,
    "start_time": "2022-06-21T01:18:35.202Z"
   },
   {
    "duration": 4,
    "start_time": "2022-06-21T01:21:35.612Z"
   },
   {
    "duration": 866,
    "start_time": "2022-06-21T01:25:47.172Z"
   },
   {
    "duration": 387,
    "start_time": "2022-06-21T01:25:48.041Z"
   },
   {
    "duration": 24,
    "start_time": "2022-06-21T01:25:48.430Z"
   },
   {
    "duration": 27,
    "start_time": "2022-06-21T01:25:48.457Z"
   },
   {
    "duration": 22,
    "start_time": "2022-06-21T01:25:48.486Z"
   },
   {
    "duration": 51,
    "start_time": "2022-06-21T01:25:48.510Z"
   },
   {
    "duration": 15,
    "start_time": "2022-06-21T01:25:48.563Z"
   },
   {
    "duration": 91,
    "start_time": "2022-06-21T01:25:48.580Z"
   },
   {
    "duration": 8,
    "start_time": "2022-06-21T01:25:48.672Z"
   },
   {
    "duration": 51,
    "start_time": "2022-06-21T01:25:48.682Z"
   },
   {
    "duration": 5,
    "start_time": "2022-06-21T01:25:48.734Z"
   },
   {
    "duration": 4,
    "start_time": "2022-06-21T01:25:48.752Z"
   },
   {
    "duration": 197,
    "start_time": "2022-06-21T01:25:48.757Z"
   },
   {
    "duration": 11,
    "start_time": "2022-06-21T01:25:48.956Z"
   },
   {
    "duration": 70,
    "start_time": "2022-06-21T01:25:48.968Z"
   },
   {
    "duration": 49,
    "start_time": "2022-06-21T01:25:49.040Z"
   },
   {
    "duration": 2,
    "start_time": "2022-06-21T01:25:49.091Z"
   },
   {
    "duration": 14,
    "start_time": "2022-06-21T01:25:49.095Z"
   },
   {
    "duration": 48,
    "start_time": "2022-06-21T01:25:49.111Z"
   },
   {
    "duration": 21,
    "start_time": "2022-06-21T01:25:49.160Z"
   },
   {
    "duration": 12,
    "start_time": "2022-06-21T01:25:49.183Z"
   },
   {
    "duration": 4,
    "start_time": "2022-06-21T01:25:49.197Z"
   },
   {
    "duration": 6,
    "start_time": "2022-06-21T01:25:49.203Z"
   },
   {
    "duration": 44,
    "start_time": "2022-06-21T01:25:49.210Z"
   },
   {
    "duration": 34,
    "start_time": "2022-06-21T01:25:49.256Z"
   },
   {
    "duration": 13,
    "start_time": "2022-06-21T01:25:49.292Z"
   },
   {
    "duration": 8,
    "start_time": "2022-06-21T01:25:49.307Z"
   },
   {
    "duration": 6,
    "start_time": "2022-06-21T01:25:49.318Z"
   },
   {
    "duration": 143,
    "start_time": "2022-06-21T01:25:49.326Z"
   },
   {
    "duration": 438,
    "start_time": "2022-06-21T01:25:49.471Z"
   },
   {
    "duration": 100,
    "start_time": "2022-06-21T01:25:49.911Z"
   },
   {
    "duration": 0,
    "start_time": "2022-06-21T01:25:50.012Z"
   },
   {
    "duration": 0,
    "start_time": "2022-06-21T01:25:50.014Z"
   },
   {
    "duration": 0,
    "start_time": "2022-06-21T01:25:50.015Z"
   },
   {
    "duration": 0,
    "start_time": "2022-06-21T01:25:50.016Z"
   },
   {
    "duration": 0,
    "start_time": "2022-06-21T01:25:50.017Z"
   },
   {
    "duration": 0,
    "start_time": "2022-06-21T01:25:50.018Z"
   },
   {
    "duration": 0,
    "start_time": "2022-06-21T01:25:50.019Z"
   },
   {
    "duration": 11,
    "start_time": "2022-06-21T01:25:57.863Z"
   },
   {
    "duration": 4,
    "start_time": "2022-06-21T01:26:01.139Z"
   },
   {
    "duration": 4,
    "start_time": "2022-06-21T01:26:03.349Z"
   },
   {
    "duration": 829,
    "start_time": "2022-06-21T01:26:49.505Z"
   },
   {
    "duration": 377,
    "start_time": "2022-06-21T01:26:50.335Z"
   },
   {
    "duration": 24,
    "start_time": "2022-06-21T01:26:50.714Z"
   },
   {
    "duration": 26,
    "start_time": "2022-06-21T01:26:50.739Z"
   },
   {
    "duration": 18,
    "start_time": "2022-06-21T01:26:50.767Z"
   },
   {
    "duration": 30,
    "start_time": "2022-06-21T01:26:50.787Z"
   },
   {
    "duration": 43,
    "start_time": "2022-06-21T01:26:50.818Z"
   },
   {
    "duration": 68,
    "start_time": "2022-06-21T01:26:50.863Z"
   },
   {
    "duration": 20,
    "start_time": "2022-06-21T01:26:50.933Z"
   },
   {
    "duration": 50,
    "start_time": "2022-06-21T01:26:50.956Z"
   },
   {
    "duration": 5,
    "start_time": "2022-06-21T01:26:51.008Z"
   },
   {
    "duration": 8,
    "start_time": "2022-06-21T01:26:51.015Z"
   },
   {
    "duration": 206,
    "start_time": "2022-06-21T01:26:51.025Z"
   },
   {
    "duration": 11,
    "start_time": "2022-06-21T01:26:51.233Z"
   },
   {
    "duration": 75,
    "start_time": "2022-06-21T01:26:51.252Z"
   },
   {
    "duration": 53,
    "start_time": "2022-06-21T01:26:51.329Z"
   },
   {
    "duration": 3,
    "start_time": "2022-06-21T01:26:51.384Z"
   },
   {
    "duration": 13,
    "start_time": "2022-06-21T01:26:51.389Z"
   },
   {
    "duration": 55,
    "start_time": "2022-06-21T01:26:51.404Z"
   },
   {
    "duration": 27,
    "start_time": "2022-06-21T01:26:51.461Z"
   },
   {
    "duration": 11,
    "start_time": "2022-06-21T01:26:51.490Z"
   },
   {
    "duration": 5,
    "start_time": "2022-06-21T01:26:51.503Z"
   },
   {
    "duration": 9,
    "start_time": "2022-06-21T01:26:51.510Z"
   },
   {
    "duration": 43,
    "start_time": "2022-06-21T01:26:51.521Z"
   },
   {
    "duration": 30,
    "start_time": "2022-06-21T01:26:51.565Z"
   },
   {
    "duration": 13,
    "start_time": "2022-06-21T01:26:51.596Z"
   },
   {
    "duration": 7,
    "start_time": "2022-06-21T01:26:51.610Z"
   },
   {
    "duration": 32,
    "start_time": "2022-06-21T01:26:51.620Z"
   },
   {
    "duration": 119,
    "start_time": "2022-06-21T01:26:51.654Z"
   },
   {
    "duration": 441,
    "start_time": "2022-06-21T01:26:51.775Z"
   },
   {
    "duration": 9,
    "start_time": "2022-06-21T01:26:52.217Z"
   },
   {
    "duration": 9,
    "start_time": "2022-06-21T01:26:52.227Z"
   },
   {
    "duration": 15,
    "start_time": "2022-06-21T01:26:52.238Z"
   },
   {
    "duration": 268,
    "start_time": "2022-06-21T01:26:52.255Z"
   },
   {
    "duration": 296,
    "start_time": "2022-06-21T01:26:52.525Z"
   },
   {
    "duration": 258,
    "start_time": "2022-06-21T01:26:52.823Z"
   },
   {
    "duration": 321,
    "start_time": "2022-06-21T01:26:53.082Z"
   },
   {
    "duration": 268,
    "start_time": "2022-06-21T01:26:53.404Z"
   },
   {
    "duration": 89,
    "start_time": "2022-06-21T01:55:51.709Z"
   },
   {
    "duration": 8,
    "start_time": "2022-06-21T01:56:00.092Z"
   },
   {
    "duration": 4,
    "start_time": "2022-06-21T01:56:02.133Z"
   },
   {
    "duration": 4,
    "start_time": "2022-06-21T01:56:04.546Z"
   },
   {
    "duration": 9,
    "start_time": "2022-06-21T02:07:38.226Z"
   },
   {
    "duration": 4,
    "start_time": "2022-06-21T02:07:40.468Z"
   },
   {
    "duration": 3,
    "start_time": "2022-06-21T02:07:43.196Z"
   },
   {
    "duration": 8,
    "start_time": "2022-06-21T02:20:57.136Z"
   },
   {
    "duration": 4,
    "start_time": "2022-06-21T02:20:59.075Z"
   },
   {
    "duration": 3,
    "start_time": "2022-06-21T02:21:01.582Z"
   },
   {
    "duration": 881,
    "start_time": "2022-06-21T02:25:36.471Z"
   },
   {
    "duration": 388,
    "start_time": "2022-06-21T02:25:37.354Z"
   },
   {
    "duration": 23,
    "start_time": "2022-06-21T02:25:37.744Z"
   },
   {
    "duration": 26,
    "start_time": "2022-06-21T02:25:37.769Z"
   },
   {
    "duration": 21,
    "start_time": "2022-06-21T02:25:37.796Z"
   },
   {
    "duration": 48,
    "start_time": "2022-06-21T02:25:37.818Z"
   },
   {
    "duration": 15,
    "start_time": "2022-06-21T02:25:37.868Z"
   },
   {
    "duration": 88,
    "start_time": "2022-06-21T02:25:37.885Z"
   },
   {
    "duration": 8,
    "start_time": "2022-06-21T02:25:37.975Z"
   },
   {
    "duration": 67,
    "start_time": "2022-06-21T02:25:37.985Z"
   },
   {
    "duration": 5,
    "start_time": "2022-06-21T02:25:38.054Z"
   },
   {
    "duration": 8,
    "start_time": "2022-06-21T02:25:38.061Z"
   },
   {
    "duration": 203,
    "start_time": "2022-06-21T02:25:38.071Z"
   },
   {
    "duration": 10,
    "start_time": "2022-06-21T02:25:38.275Z"
   },
   {
    "duration": 77,
    "start_time": "2022-06-21T02:25:38.287Z"
   },
   {
    "duration": 42,
    "start_time": "2022-06-21T02:25:38.366Z"
   },
   {
    "duration": 3,
    "start_time": "2022-06-21T02:25:38.410Z"
   },
   {
    "duration": 13,
    "start_time": "2022-06-21T02:25:38.415Z"
   },
   {
    "duration": 57,
    "start_time": "2022-06-21T02:25:38.429Z"
   },
   {
    "duration": 21,
    "start_time": "2022-06-21T02:25:38.487Z"
   },
   {
    "duration": 10,
    "start_time": "2022-06-21T02:25:38.510Z"
   },
   {
    "duration": 4,
    "start_time": "2022-06-21T02:25:38.522Z"
   },
   {
    "duration": 6,
    "start_time": "2022-06-21T02:25:38.553Z"
   },
   {
    "duration": 16,
    "start_time": "2022-06-21T02:25:38.561Z"
   },
   {
    "duration": 29,
    "start_time": "2022-06-21T02:25:38.579Z"
   },
   {
    "duration": 13,
    "start_time": "2022-06-21T02:25:38.609Z"
   },
   {
    "duration": 34,
    "start_time": "2022-06-21T02:25:38.623Z"
   },
   {
    "duration": 8,
    "start_time": "2022-06-21T02:25:38.660Z"
   },
   {
    "duration": 138,
    "start_time": "2022-06-21T02:25:38.670Z"
   },
   {
    "duration": 464,
    "start_time": "2022-06-21T02:25:38.810Z"
   },
   {
    "duration": 9,
    "start_time": "2022-06-21T02:25:39.276Z"
   },
   {
    "duration": 16,
    "start_time": "2022-06-21T02:25:39.287Z"
   },
   {
    "duration": 17,
    "start_time": "2022-06-21T02:25:39.305Z"
   },
   {
    "duration": 258,
    "start_time": "2022-06-21T02:25:39.323Z"
   },
   {
    "duration": 8,
    "start_time": "2022-06-21T02:25:39.583Z"
   },
   {
    "duration": 10,
    "start_time": "2022-06-21T02:25:39.592Z"
   },
   {
    "duration": 6,
    "start_time": "2022-06-21T02:25:39.603Z"
   },
   {
    "duration": 254,
    "start_time": "2022-06-21T02:25:39.610Z"
   },
   {
    "duration": 8,
    "start_time": "2022-06-21T02:25:39.866Z"
   },
   {
    "duration": 11,
    "start_time": "2022-06-21T02:25:39.875Z"
   },
   {
    "duration": 8,
    "start_time": "2022-06-21T02:25:39.888Z"
   },
   {
    "duration": 266,
    "start_time": "2022-06-21T02:25:39.898Z"
   },
   {
    "duration": 7,
    "start_time": "2022-06-21T02:25:40.166Z"
   },
   {
    "duration": 11,
    "start_time": "2022-06-21T02:25:40.175Z"
   },
   {
    "duration": 8,
    "start_time": "2022-06-21T02:25:40.188Z"
   },
   {
    "duration": 298,
    "start_time": "2022-06-21T02:25:40.197Z"
   },
   {
    "duration": 639,
    "start_time": "2022-06-21T02:25:40.497Z"
   },
   {
    "duration": 0,
    "start_time": "2022-06-21T02:25:41.138Z"
   },
   {
    "duration": 0,
    "start_time": "2022-06-21T02:25:41.139Z"
   },
   {
    "duration": 0,
    "start_time": "2022-06-21T02:25:41.140Z"
   },
   {
    "duration": 0,
    "start_time": "2022-06-21T02:25:41.141Z"
   },
   {
    "duration": 0,
    "start_time": "2022-06-21T02:25:41.143Z"
   },
   {
    "duration": 0,
    "start_time": "2022-06-21T02:25:41.144Z"
   },
   {
    "duration": 8,
    "start_time": "2022-06-21T02:25:54.474Z"
   },
   {
    "duration": 4,
    "start_time": "2022-06-21T02:25:56.496Z"
   },
   {
    "duration": 3,
    "start_time": "2022-06-21T02:25:58.374Z"
   },
   {
    "duration": 837,
    "start_time": "2022-06-21T02:26:05.080Z"
   },
   {
    "duration": 374,
    "start_time": "2022-06-21T02:26:05.919Z"
   },
   {
    "duration": 24,
    "start_time": "2022-06-21T02:26:06.294Z"
   },
   {
    "duration": 27,
    "start_time": "2022-06-21T02:26:06.320Z"
   },
   {
    "duration": 21,
    "start_time": "2022-06-21T02:26:06.352Z"
   },
   {
    "duration": 23,
    "start_time": "2022-06-21T02:26:06.374Z"
   },
   {
    "duration": 13,
    "start_time": "2022-06-21T02:26:06.398Z"
   },
   {
    "duration": 93,
    "start_time": "2022-06-21T02:26:06.413Z"
   },
   {
    "duration": 7,
    "start_time": "2022-06-21T02:26:06.508Z"
   },
   {
    "duration": 65,
    "start_time": "2022-06-21T02:26:06.518Z"
   },
   {
    "duration": 5,
    "start_time": "2022-06-21T02:26:06.584Z"
   },
   {
    "duration": 15,
    "start_time": "2022-06-21T02:26:06.590Z"
   },
   {
    "duration": 189,
    "start_time": "2022-06-21T02:26:06.607Z"
   },
   {
    "duration": 9,
    "start_time": "2022-06-21T02:26:06.798Z"
   },
   {
    "duration": 67,
    "start_time": "2022-06-21T02:26:06.808Z"
   },
   {
    "duration": 37,
    "start_time": "2022-06-21T02:26:06.877Z"
   },
   {
    "duration": 3,
    "start_time": "2022-06-21T02:26:06.916Z"
   },
   {
    "duration": 18,
    "start_time": "2022-06-21T02:26:06.920Z"
   },
   {
    "duration": 57,
    "start_time": "2022-06-21T02:26:06.939Z"
   },
   {
    "duration": 19,
    "start_time": "2022-06-21T02:26:06.997Z"
   },
   {
    "duration": 11,
    "start_time": "2022-06-21T02:26:07.018Z"
   },
   {
    "duration": 15,
    "start_time": "2022-06-21T02:26:07.030Z"
   },
   {
    "duration": 15,
    "start_time": "2022-06-21T02:26:07.047Z"
   },
   {
    "duration": 18,
    "start_time": "2022-06-21T02:26:07.064Z"
   },
   {
    "duration": 45,
    "start_time": "2022-06-21T02:26:07.084Z"
   },
   {
    "duration": 11,
    "start_time": "2022-06-21T02:26:07.131Z"
   },
   {
    "duration": 6,
    "start_time": "2022-06-21T02:26:07.143Z"
   },
   {
    "duration": 5,
    "start_time": "2022-06-21T02:26:07.152Z"
   },
   {
    "duration": 120,
    "start_time": "2022-06-21T02:26:07.159Z"
   },
   {
    "duration": 437,
    "start_time": "2022-06-21T02:26:07.281Z"
   },
   {
    "duration": 8,
    "start_time": "2022-06-21T02:26:07.720Z"
   },
   {
    "duration": 8,
    "start_time": "2022-06-21T02:26:07.729Z"
   },
   {
    "duration": 3,
    "start_time": "2022-06-21T02:26:07.751Z"
   },
   {
    "duration": 242,
    "start_time": "2022-06-21T02:26:07.756Z"
   },
   {
    "duration": 7,
    "start_time": "2022-06-21T02:26:08.000Z"
   },
   {
    "duration": 10,
    "start_time": "2022-06-21T02:26:08.008Z"
   },
   {
    "duration": 11,
    "start_time": "2022-06-21T02:26:08.020Z"
   },
   {
    "duration": 247,
    "start_time": "2022-06-21T02:26:08.033Z"
   },
   {
    "duration": 7,
    "start_time": "2022-06-21T02:26:08.282Z"
   },
   {
    "duration": 12,
    "start_time": "2022-06-21T02:26:08.291Z"
   },
   {
    "duration": 4,
    "start_time": "2022-06-21T02:26:08.305Z"
   },
   {
    "duration": 243,
    "start_time": "2022-06-21T02:26:08.311Z"
   },
   {
    "duration": 8,
    "start_time": "2022-06-21T02:26:08.556Z"
   },
   {
    "duration": 11,
    "start_time": "2022-06-21T02:26:08.566Z"
   },
   {
    "duration": 6,
    "start_time": "2022-06-21T02:26:08.579Z"
   },
   {
    "duration": 302,
    "start_time": "2022-06-21T02:26:08.587Z"
   },
   {
    "duration": 8,
    "start_time": "2022-06-21T02:26:08.891Z"
   },
   {
    "duration": 15,
    "start_time": "2022-06-21T02:26:08.901Z"
   },
   {
    "duration": 7,
    "start_time": "2022-06-21T02:26:08.918Z"
   },
   {
    "duration": 245,
    "start_time": "2022-06-21T02:26:08.927Z"
   },
   {
    "duration": 8,
    "start_time": "2022-06-21T02:26:09.173Z"
   },
   {
    "duration": 9,
    "start_time": "2022-06-21T02:26:09.182Z"
   },
   {
    "duration": 5,
    "start_time": "2022-06-21T02:26:09.192Z"
   },
   {
    "duration": 1139,
    "start_time": "2022-06-22T07:13:06.812Z"
   },
   {
    "duration": 1261,
    "start_time": "2022-06-22T07:13:07.954Z"
   },
   {
    "duration": 35,
    "start_time": "2022-06-22T07:13:09.220Z"
   },
   {
    "duration": 47,
    "start_time": "2022-06-22T07:13:09.258Z"
   },
   {
    "duration": 26,
    "start_time": "2022-06-22T07:13:09.307Z"
   },
   {
    "duration": 66,
    "start_time": "2022-06-22T07:13:09.335Z"
   },
   {
    "duration": 16,
    "start_time": "2022-06-22T07:13:09.403Z"
   },
   {
    "duration": 143,
    "start_time": "2022-06-22T07:13:09.421Z"
   },
   {
    "duration": 9,
    "start_time": "2022-06-22T07:13:09.566Z"
   },
   {
    "duration": 60,
    "start_time": "2022-06-22T07:13:09.578Z"
   },
   {
    "duration": 6,
    "start_time": "2022-06-22T07:13:09.640Z"
   },
   {
    "duration": 12,
    "start_time": "2022-06-22T07:13:09.648Z"
   },
   {
    "duration": 285,
    "start_time": "2022-06-22T07:13:09.665Z"
   },
   {
    "duration": 11,
    "start_time": "2022-06-22T07:13:09.952Z"
   },
   {
    "duration": 117,
    "start_time": "2022-06-22T07:13:09.965Z"
   },
   {
    "duration": 45,
    "start_time": "2022-06-22T07:13:10.084Z"
   },
   {
    "duration": 4,
    "start_time": "2022-06-22T07:13:10.131Z"
   },
   {
    "duration": 30,
    "start_time": "2022-06-22T07:13:10.137Z"
   },
   {
    "duration": 44,
    "start_time": "2022-06-22T07:13:10.169Z"
   },
   {
    "duration": 47,
    "start_time": "2022-06-22T07:13:10.215Z"
   },
   {
    "duration": 12,
    "start_time": "2022-06-22T07:13:10.264Z"
   },
   {
    "duration": 16,
    "start_time": "2022-06-22T07:13:10.279Z"
   },
   {
    "duration": 10,
    "start_time": "2022-06-22T07:13:10.297Z"
   },
   {
    "duration": 12,
    "start_time": "2022-06-22T07:13:10.309Z"
   },
   {
    "duration": 58,
    "start_time": "2022-06-22T07:13:10.323Z"
   },
   {
    "duration": 20,
    "start_time": "2022-06-22T07:13:10.384Z"
   },
   {
    "duration": 10,
    "start_time": "2022-06-22T07:13:10.406Z"
   },
   {
    "duration": 8,
    "start_time": "2022-06-22T07:13:10.418Z"
   },
   {
    "duration": 224,
    "start_time": "2022-06-22T07:13:10.428Z"
   },
   {
    "duration": 703,
    "start_time": "2022-06-22T07:13:10.658Z"
   },
   {
    "duration": 14,
    "start_time": "2022-06-22T07:13:11.364Z"
   },
   {
    "duration": 11,
    "start_time": "2022-06-22T07:13:11.380Z"
   },
   {
    "duration": 8,
    "start_time": "2022-06-22T07:13:11.393Z"
   },
   {
    "duration": 404,
    "start_time": "2022-06-22T07:13:11.403Z"
   },
   {
    "duration": 8,
    "start_time": "2022-06-22T07:13:11.810Z"
   },
   {
    "duration": 10,
    "start_time": "2022-06-22T07:13:11.820Z"
   },
   {
    "duration": 27,
    "start_time": "2022-06-22T07:13:11.832Z"
   },
   {
    "duration": 298,
    "start_time": "2022-06-22T07:13:11.861Z"
   },
   {
    "duration": 11,
    "start_time": "2022-06-22T07:13:12.162Z"
   },
   {
    "duration": 11,
    "start_time": "2022-06-22T07:13:12.179Z"
   },
   {
    "duration": 10,
    "start_time": "2022-06-22T07:13:12.192Z"
   },
   {
    "duration": 294,
    "start_time": "2022-06-22T07:13:12.204Z"
   },
   {
    "duration": 11,
    "start_time": "2022-06-22T07:13:12.501Z"
   },
   {
    "duration": 11,
    "start_time": "2022-06-22T07:13:12.514Z"
   },
   {
    "duration": 32,
    "start_time": "2022-06-22T07:13:12.527Z"
   },
   {
    "duration": 368,
    "start_time": "2022-06-22T07:13:12.561Z"
   },
   {
    "duration": 9,
    "start_time": "2022-06-22T07:13:12.931Z"
   },
   {
    "duration": 19,
    "start_time": "2022-06-22T07:13:12.941Z"
   },
   {
    "duration": 20,
    "start_time": "2022-06-22T07:13:12.962Z"
   },
   {
    "duration": 300,
    "start_time": "2022-06-22T07:13:12.984Z"
   },
   {
    "duration": 10,
    "start_time": "2022-06-22T07:13:13.286Z"
   },
   {
    "duration": 28,
    "start_time": "2022-06-22T07:13:13.298Z"
   },
   {
    "duration": 12,
    "start_time": "2022-06-22T07:13:13.329Z"
   },
   {
    "duration": 110,
    "start_time": "2022-06-22T07:13:13.343Z"
   },
   {
    "duration": 22,
    "start_time": "2022-06-22T07:13:24.472Z"
   },
   {
    "duration": 14,
    "start_time": "2022-06-22T07:13:35.290Z"
   },
   {
    "duration": 15,
    "start_time": "2022-06-22T07:14:47.888Z"
   },
   {
    "duration": 62,
    "start_time": "2022-06-22T07:15:35.136Z"
   },
   {
    "duration": 15,
    "start_time": "2022-06-22T07:15:40.981Z"
   },
   {
    "duration": 15,
    "start_time": "2022-06-22T07:16:16.388Z"
   },
   {
    "duration": 12,
    "start_time": "2022-06-22T07:24:21.722Z"
   },
   {
    "duration": 913,
    "start_time": "2022-06-22T10:56:38.555Z"
   },
   {
    "duration": 400,
    "start_time": "2022-06-22T10:56:39.470Z"
   },
   {
    "duration": 26,
    "start_time": "2022-06-22T10:56:39.871Z"
   },
   {
    "duration": 29,
    "start_time": "2022-06-22T10:56:39.899Z"
   },
   {
    "duration": 33,
    "start_time": "2022-06-22T10:56:39.930Z"
   },
   {
    "duration": 26,
    "start_time": "2022-06-22T10:56:39.964Z"
   },
   {
    "duration": 17,
    "start_time": "2022-06-22T10:56:39.992Z"
   },
   {
    "duration": 111,
    "start_time": "2022-06-22T10:56:40.010Z"
   },
   {
    "duration": 25,
    "start_time": "2022-06-22T10:56:40.123Z"
   },
   {
    "duration": 54,
    "start_time": "2022-06-22T10:56:40.150Z"
   },
   {
    "duration": 4,
    "start_time": "2022-06-22T10:56:40.206Z"
   },
   {
    "duration": 12,
    "start_time": "2022-06-22T10:56:40.211Z"
   },
   {
    "duration": 192,
    "start_time": "2022-06-22T10:56:40.225Z"
   },
   {
    "duration": 10,
    "start_time": "2022-06-22T10:56:40.420Z"
   },
   {
    "duration": 76,
    "start_time": "2022-06-22T10:56:40.431Z"
   },
   {
    "duration": 58,
    "start_time": "2022-06-22T10:56:40.509Z"
   },
   {
    "duration": 4,
    "start_time": "2022-06-22T10:56:40.569Z"
   },
   {
    "duration": 13,
    "start_time": "2022-06-22T10:56:40.575Z"
   },
   {
    "duration": 56,
    "start_time": "2022-06-22T10:56:40.590Z"
   },
   {
    "duration": 23,
    "start_time": "2022-06-22T10:56:40.648Z"
   },
   {
    "duration": 11,
    "start_time": "2022-06-22T10:56:40.673Z"
   },
   {
    "duration": 4,
    "start_time": "2022-06-22T10:56:40.686Z"
   },
   {
    "duration": 9,
    "start_time": "2022-06-22T10:56:40.692Z"
   },
   {
    "duration": 47,
    "start_time": "2022-06-22T10:56:40.703Z"
   },
   {
    "duration": 30,
    "start_time": "2022-06-22T10:56:40.752Z"
   },
   {
    "duration": 14,
    "start_time": "2022-06-22T10:56:40.784Z"
   },
   {
    "duration": 8,
    "start_time": "2022-06-22T10:56:40.800Z"
   },
   {
    "duration": 36,
    "start_time": "2022-06-22T10:56:40.810Z"
   },
   {
    "duration": 132,
    "start_time": "2022-06-22T10:56:40.848Z"
   },
   {
    "duration": 460,
    "start_time": "2022-06-22T10:56:40.982Z"
   },
   {
    "duration": 9,
    "start_time": "2022-06-22T10:56:41.444Z"
   },
   {
    "duration": 7,
    "start_time": "2022-06-22T10:56:41.454Z"
   },
   {
    "duration": 6,
    "start_time": "2022-06-22T10:56:41.463Z"
   },
   {
    "duration": 309,
    "start_time": "2022-06-22T10:56:41.470Z"
   },
   {
    "duration": 9,
    "start_time": "2022-06-22T10:56:41.781Z"
   },
   {
    "duration": 11,
    "start_time": "2022-06-22T10:56:41.791Z"
   },
   {
    "duration": 5,
    "start_time": "2022-06-22T10:56:41.803Z"
   },
   {
    "duration": 289,
    "start_time": "2022-06-22T10:56:41.810Z"
   },
   {
    "duration": 9,
    "start_time": "2022-06-22T10:56:42.102Z"
   },
   {
    "duration": 5,
    "start_time": "2022-06-22T10:56:42.113Z"
   },
   {
    "duration": 21,
    "start_time": "2022-06-22T10:56:42.123Z"
   },
   {
    "duration": 270,
    "start_time": "2022-06-22T10:56:42.146Z"
   },
   {
    "duration": 8,
    "start_time": "2022-06-22T10:56:42.418Z"
   },
   {
    "duration": 16,
    "start_time": "2022-06-22T10:56:42.428Z"
   },
   {
    "duration": 5,
    "start_time": "2022-06-22T10:56:42.446Z"
   },
   {
    "duration": 353,
    "start_time": "2022-06-22T10:56:42.453Z"
   },
   {
    "duration": 9,
    "start_time": "2022-06-22T10:56:42.808Z"
   },
   {
    "duration": 14,
    "start_time": "2022-06-22T10:56:42.818Z"
   },
   {
    "duration": 4,
    "start_time": "2022-06-22T10:56:42.841Z"
   },
   {
    "duration": 287,
    "start_time": "2022-06-22T10:56:42.847Z"
   },
   {
    "duration": 7,
    "start_time": "2022-06-22T10:56:43.141Z"
   },
   {
    "duration": 12,
    "start_time": "2022-06-22T10:56:43.150Z"
   },
   {
    "duration": 7,
    "start_time": "2022-06-22T10:56:43.163Z"
   },
   {
    "duration": 14,
    "start_time": "2022-06-22T10:56:43.171Z"
   },
   {
    "duration": 13,
    "start_time": "2022-06-22T10:56:43.186Z"
   },
   {
    "duration": 25,
    "start_time": "2022-06-22T10:59:56.107Z"
   },
   {
    "duration": 47,
    "start_time": "2022-06-22T13:57:33.661Z"
   },
   {
    "duration": 973,
    "start_time": "2022-06-22T13:57:39.541Z"
   },
   {
    "duration": 1511,
    "start_time": "2022-06-22T13:57:40.517Z"
   },
   {
    "duration": 42,
    "start_time": "2022-06-22T13:57:42.030Z"
   },
   {
    "duration": 45,
    "start_time": "2022-06-22T13:57:42.074Z"
   },
   {
    "duration": 53,
    "start_time": "2022-06-22T13:57:42.121Z"
   },
   {
    "duration": 39,
    "start_time": "2022-06-22T13:57:42.176Z"
   },
   {
    "duration": 36,
    "start_time": "2022-06-22T13:57:42.217Z"
   },
   {
    "duration": 72,
    "start_time": "2022-06-22T13:57:42.255Z"
   },
   {
    "duration": 24,
    "start_time": "2022-06-22T13:57:42.329Z"
   },
   {
    "duration": 61,
    "start_time": "2022-06-22T13:57:42.355Z"
   },
   {
    "duration": 5,
    "start_time": "2022-06-22T13:57:42.417Z"
   },
   {
    "duration": 34,
    "start_time": "2022-06-22T13:57:42.424Z"
   },
   {
    "duration": 289,
    "start_time": "2022-06-22T13:57:42.460Z"
   },
   {
    "duration": 15,
    "start_time": "2022-06-22T13:57:42.753Z"
   },
   {
    "duration": 119,
    "start_time": "2022-06-22T13:57:42.770Z"
   },
   {
    "duration": 65,
    "start_time": "2022-06-22T13:57:42.892Z"
   },
   {
    "duration": 8,
    "start_time": "2022-06-22T13:57:42.959Z"
   },
   {
    "duration": 34,
    "start_time": "2022-06-22T13:57:42.970Z"
   },
   {
    "duration": 67,
    "start_time": "2022-06-22T13:57:43.007Z"
   },
   {
    "duration": 30,
    "start_time": "2022-06-22T13:57:43.076Z"
   },
   {
    "duration": 27,
    "start_time": "2022-06-22T13:57:43.109Z"
   },
   {
    "duration": 21,
    "start_time": "2022-06-22T13:57:43.138Z"
   },
   {
    "duration": 43,
    "start_time": "2022-06-22T13:57:43.162Z"
   },
   {
    "duration": 40,
    "start_time": "2022-06-22T13:57:43.207Z"
   },
   {
    "duration": 66,
    "start_time": "2022-06-22T13:57:43.250Z"
   },
   {
    "duration": 20,
    "start_time": "2022-06-22T13:57:43.319Z"
   },
   {
    "duration": 10,
    "start_time": "2022-06-22T13:57:43.341Z"
   },
   {
    "duration": 14,
    "start_time": "2022-06-22T13:57:43.354Z"
   },
   {
    "duration": 219,
    "start_time": "2022-06-22T13:57:43.371Z"
   },
   {
    "duration": 1498,
    "start_time": "2022-06-22T13:57:43.592Z"
   },
   {
    "duration": 0,
    "start_time": "2022-06-22T13:57:45.093Z"
   },
   {
    "duration": 0,
    "start_time": "2022-06-22T13:57:45.095Z"
   },
   {
    "duration": 0,
    "start_time": "2022-06-22T13:57:45.097Z"
   },
   {
    "duration": 0,
    "start_time": "2022-06-22T13:57:45.099Z"
   },
   {
    "duration": 0,
    "start_time": "2022-06-22T13:57:45.100Z"
   },
   {
    "duration": 0,
    "start_time": "2022-06-22T13:57:45.101Z"
   },
   {
    "duration": 0,
    "start_time": "2022-06-22T13:57:45.102Z"
   },
   {
    "duration": 0,
    "start_time": "2022-06-22T13:57:45.103Z"
   },
   {
    "duration": 0,
    "start_time": "2022-06-22T13:57:45.105Z"
   },
   {
    "duration": 0,
    "start_time": "2022-06-22T13:57:45.106Z"
   },
   {
    "duration": 0,
    "start_time": "2022-06-22T13:57:45.107Z"
   },
   {
    "duration": 0,
    "start_time": "2022-06-22T13:57:45.109Z"
   },
   {
    "duration": 0,
    "start_time": "2022-06-22T13:57:45.111Z"
   },
   {
    "duration": 0,
    "start_time": "2022-06-22T13:57:45.112Z"
   },
   {
    "duration": 0,
    "start_time": "2022-06-22T13:57:45.113Z"
   },
   {
    "duration": 0,
    "start_time": "2022-06-22T13:57:45.116Z"
   },
   {
    "duration": 0,
    "start_time": "2022-06-22T13:57:45.117Z"
   },
   {
    "duration": 0,
    "start_time": "2022-06-22T13:57:45.151Z"
   },
   {
    "duration": 0,
    "start_time": "2022-06-22T13:57:45.153Z"
   },
   {
    "duration": 0,
    "start_time": "2022-06-22T13:57:45.155Z"
   },
   {
    "duration": 0,
    "start_time": "2022-06-22T13:57:45.157Z"
   },
   {
    "duration": 0,
    "start_time": "2022-06-22T13:57:45.159Z"
   },
   {
    "duration": 0,
    "start_time": "2022-06-22T13:57:45.160Z"
   },
   {
    "duration": 0,
    "start_time": "2022-06-22T13:57:45.161Z"
   },
   {
    "duration": 0,
    "start_time": "2022-06-22T13:57:45.162Z"
   },
   {
    "duration": 898,
    "start_time": "2022-06-22T13:59:45.446Z"
   },
   {
    "duration": 410,
    "start_time": "2022-06-22T13:59:46.346Z"
   },
   {
    "duration": 32,
    "start_time": "2022-06-22T13:59:46.761Z"
   },
   {
    "duration": 28,
    "start_time": "2022-06-22T13:59:46.796Z"
   },
   {
    "duration": 44,
    "start_time": "2022-06-22T13:59:46.826Z"
   },
   {
    "duration": 25,
    "start_time": "2022-06-22T13:59:46.872Z"
   },
   {
    "duration": 15,
    "start_time": "2022-06-22T13:59:46.899Z"
   },
   {
    "duration": 95,
    "start_time": "2022-06-22T13:59:46.915Z"
   },
   {
    "duration": 11,
    "start_time": "2022-06-22T13:59:47.012Z"
   },
   {
    "duration": 67,
    "start_time": "2022-06-22T13:59:47.025Z"
   },
   {
    "duration": 5,
    "start_time": "2022-06-22T13:59:47.094Z"
   },
   {
    "duration": 9,
    "start_time": "2022-06-22T13:59:47.101Z"
   },
   {
    "duration": 220,
    "start_time": "2022-06-22T13:59:47.112Z"
   },
   {
    "duration": 10,
    "start_time": "2022-06-22T13:59:47.334Z"
   },
   {
    "duration": 91,
    "start_time": "2022-06-22T13:59:47.346Z"
   },
   {
    "duration": 46,
    "start_time": "2022-06-22T13:59:47.439Z"
   },
   {
    "duration": 4,
    "start_time": "2022-06-22T13:59:47.487Z"
   },
   {
    "duration": 16,
    "start_time": "2022-06-22T13:59:47.492Z"
   },
   {
    "duration": 45,
    "start_time": "2022-06-22T13:59:47.510Z"
   },
   {
    "duration": 42,
    "start_time": "2022-06-22T13:59:47.561Z"
   },
   {
    "duration": 14,
    "start_time": "2022-06-22T13:59:47.606Z"
   },
   {
    "duration": 22,
    "start_time": "2022-06-22T13:59:47.622Z"
   },
   {
    "duration": 41,
    "start_time": "2022-06-22T13:59:47.646Z"
   },
   {
    "duration": 28,
    "start_time": "2022-06-22T13:59:47.690Z"
   },
   {
    "duration": 44,
    "start_time": "2022-06-22T13:59:47.720Z"
   },
   {
    "duration": 26,
    "start_time": "2022-06-22T13:59:47.765Z"
   },
   {
    "duration": 10,
    "start_time": "2022-06-22T13:59:47.793Z"
   },
   {
    "duration": 9,
    "start_time": "2022-06-22T13:59:47.807Z"
   },
   {
    "duration": 188,
    "start_time": "2022-06-22T13:59:47.818Z"
   },
   {
    "duration": 609,
    "start_time": "2022-06-22T13:59:48.008Z"
   },
   {
    "duration": 15,
    "start_time": "2022-06-22T13:59:48.619Z"
   },
   {
    "duration": 20,
    "start_time": "2022-06-22T13:59:48.636Z"
   },
   {
    "duration": 22,
    "start_time": "2022-06-22T13:59:48.661Z"
   },
   {
    "duration": 402,
    "start_time": "2022-06-22T13:59:48.685Z"
   },
   {
    "duration": 14,
    "start_time": "2022-06-22T13:59:49.090Z"
   },
   {
    "duration": 17,
    "start_time": "2022-06-22T13:59:49.107Z"
   },
   {
    "duration": 17,
    "start_time": "2022-06-22T13:59:49.126Z"
   },
   {
    "duration": 457,
    "start_time": "2022-06-22T13:59:49.145Z"
   },
   {
    "duration": 11,
    "start_time": "2022-06-22T13:59:49.604Z"
   },
   {
    "duration": 12,
    "start_time": "2022-06-22T13:59:49.617Z"
   },
   {
    "duration": 23,
    "start_time": "2022-06-22T13:59:49.631Z"
   },
   {
    "duration": 388,
    "start_time": "2022-06-22T13:59:49.660Z"
   },
   {
    "duration": 22,
    "start_time": "2022-06-22T13:59:50.052Z"
   },
   {
    "duration": 16,
    "start_time": "2022-06-22T13:59:50.078Z"
   },
   {
    "duration": 7,
    "start_time": "2022-06-22T13:59:50.096Z"
   },
   {
    "duration": 403,
    "start_time": "2022-06-22T13:59:50.106Z"
   },
   {
    "duration": 9,
    "start_time": "2022-06-22T13:59:50.511Z"
   },
   {
    "duration": 14,
    "start_time": "2022-06-22T13:59:50.522Z"
   },
   {
    "duration": 20,
    "start_time": "2022-06-22T13:59:50.538Z"
   },
   {
    "duration": 315,
    "start_time": "2022-06-22T13:59:50.560Z"
   },
   {
    "duration": 11,
    "start_time": "2022-06-22T13:59:50.877Z"
   },
   {
    "duration": 27,
    "start_time": "2022-06-22T13:59:50.890Z"
   },
   {
    "duration": 19,
    "start_time": "2022-06-22T13:59:50.919Z"
   },
   {
    "duration": 53,
    "start_time": "2022-06-22T13:59:50.940Z"
   },
   {
    "duration": 19,
    "start_time": "2022-06-22T13:59:50.995Z"
   },
   {
    "duration": 89,
    "start_time": "2022-06-22T21:37:54.013Z"
   }
  ],
  "kernelspec": {
   "display_name": "Python 3 (ipykernel)",
   "language": "python",
   "name": "python3"
  },
  "language_info": {
   "codemirror_mode": {
    "name": "ipython",
    "version": 3
   },
   "file_extension": ".py",
   "mimetype": "text/x-python",
   "name": "python",
   "nbconvert_exporter": "python",
   "pygments_lexer": "ipython3",
   "version": "3.9.12"
  },
  "toc": {
   "base_numbering": 1,
   "nav_menu": {},
   "number_sections": true,
   "sideBar": true,
   "skip_h1_title": true,
   "title_cell": "Table of Contents",
   "title_sidebar": "Contents",
   "toc_cell": false,
   "toc_position": {},
   "toc_section_display": true,
   "toc_window_display": false
  }
 },
 "nbformat": 4,
 "nbformat_minor": 2
}
